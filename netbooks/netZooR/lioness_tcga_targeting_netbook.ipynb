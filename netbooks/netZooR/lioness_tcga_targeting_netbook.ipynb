{
 "cells": [
  {
   "cell_type": "markdown",
   "metadata": {},
   "source": [
    "# Differential gene targeting of pancreatic cancer subtypes\n",
    "Author: Deborah Weighill<sup>1</sup>, Marouen Ben Guebila<sup>1</sup>\n",
    "\n",
    "<sup>1</sup> Department of Biostatistics, Harvard T.H. Chan School of Public Health, Boston, MA."
   ]
  },
  {
   "cell_type": "markdown",
   "metadata": {
    "lines_to_next_cell": 0
   },
   "source": [
    "# Introduction\n",
    "\n",
    "Pancreatic ductal adenocarcinoma (PDAC)  is the fourth leading leading cause of cancer worldwide <sup>1</sup>, with few efficient therapeutic options. In fact, PDAC is a highly hetergenous disease, this is why one size fits all approach to treatment have provided limited success so far. Therefore, subtype identification is necessary to tailor therapeutic approaches to the specific molecular characteristic of disease progression in each patient.\n",
    "\n",
    "Recent work<sup>2,3</sup> has identified novel subtypes in PDAC by the virtual dissection of the genomic markers. It has been shown that gene expression is an informative feature in classifying patients<sup>4</sup>. In addition, gene regulation could play a major role in the emergence of distinct phenotypes in PDAC. Therefore, modeling regulatory features in PDAC could provide a novel approach to stratify patients and provide tailored therapeutic apporaches.\n",
    "\n",
    "![https://www.pancreaticcancer.org.uk/information/just-diagnosed-with-pancreatic-cancer/types-of-pancreatic-cancer/](https://www.pancreaticcancer.org.uk/wp-content/uploads/2020/09/anatomy-of-pancreas-final-sept-2016-1-1024x676.jpg)\n",
    "\n",
    "In this analysis, we will investigate regulatory hetergeneity in PDAC subtypes by building sample-specific gene regulatory networks using gene expression data from TCGA<sup>5</sup> and compute a network metric called the gene targeting score to identify differentially regulated genes between basal-like and classical subtypes.\n",
    "\n",
    "Networks computed in this analysis are available through GRAND database: https://grand.networkmedicine.org/cancers/PAAD_cancer/\n",
    "\n",
    "# Loading data and libraries\n",
    "This tutorial can be run on the server or locally by setting the following parameter:"
   ]
  },
  {
   "cell_type": "code",
   "execution_count": null,
   "metadata": {},
   "outputs": [],
   "source": [
    "runserver=1"
   ]
  },
  {
   "cell_type": "markdown",
   "metadata": {},
   "source": [
    "Also, some parts of the notebook might take some time to compute, therefore, we use the following parameter to load precomputed results."
   ]
  },
  {
   "cell_type": "code",
   "execution_count": null,
   "metadata": {},
   "outputs": [],
   "source": [
    "precomputed=1"
   ]
  },
  {
   "cell_type": "markdown",
   "metadata": {},
   "source": [
    "When the notebook is executed locally, we need to install the dependencies packages first including the [netZooR package](netzoo.github.io) that includes gene regulatory network analysis functions."
   ]
  },
  {
   "cell_type": "code",
   "execution_count": null,
   "metadata": {},
   "outputs": [],
   "source": [
    "if(runserver==0){\n",
    "    install.packages(\"devtools\") \n",
    "    library(devtools)\n",
    "    ppath=''\n",
    "}else if(runserver==1){\n",
    "    ppath='/opt/data/tttutorial/'\n",
    "}"
   ]
  },
  {
   "cell_type": "markdown",
   "metadata": {},
   "source": [
    "Then, we install netZooR package with vignettes, otherwise please remove the `build_vignettes = TRUE` argument."
   ]
  },
  {
   "cell_type": "code",
   "execution_count": null,
   "metadata": {},
   "outputs": [],
   "source": [
    "if(runserver==0){\n",
    "    devtools::install_github(\"netZoo/netZooR\", build_vignettes = TRUE)\n",
    "}"
   ]
  },
  {
   "cell_type": "markdown",
   "metadata": {},
   "source": [
    "Then, we can load the packages that are needed for the analysis."
   ]
  },
  {
   "cell_type": "code",
   "execution_count": null,
   "metadata": {
    "lines_to_next_cell": 2,
    "message": false
   },
   "outputs": [],
   "source": [
    "library(netZooR) # To use network reconstruction methods PANDA and LIONESS\n",
    "library(recount) # To use processed gene expression data \n",
    "library(limma)   # To compute differential targeting \n",
    "library(tidyr)\n",
    "library(data.table)"
   ]
  },
  {
   "cell_type": "markdown",
   "metadata": {},
   "source": [
    "We will call the Python implementation of the network analysis methods, so we need to tset the Python path. Please replace the path in the reticulate command use_python with your Python installation path."
   ]
  },
  {
   "cell_type": "code",
   "execution_count": null,
   "metadata": {},
   "outputs": [],
   "source": [
    "if(runserver==0){\n",
    "    use_python(\"/home/ubuntu/.local/bin/venv/bin/python3\") \n",
    "}else if(runserver==1){\n",
    "    Sys.setenv(RETICULATE_PYTHON = \"/opt/anaconda3/py38/bin/python\") \n",
    "}"
   ]
  },
  {
   "cell_type": "markdown",
   "metadata": {
    "lines_to_next_cell": 0
   },
   "source": [
    "## Load gene expression data\n",
    "Now, let's load TCGA PDAC gene expression data, which was obtained from [recount2](https://jhubiostatistics.shinyapps.io/recount/)<sup>6</sup>. The recount project has processed all the publicly availble gene expression data using a uniform pipeline, which allows to control the variance between the studies and extract biological signal with minimal interference of effects due to the read alignment method."
   ]
  },
  {
   "cell_type": "code",
   "execution_count": null,
   "metadata": {},
   "outputs": [],
   "source": [
    "load(paste0(ppath,\"rse_gene_pancreas.Rdata\"))"
   ]
  },
  {
   "cell_type": "markdown",
   "metadata": {},
   "source": [
    "First, we need to to normalize the counts to consider the coverage of all the samples using the Transcript Per Million method (TPM). This method takes into account sequencing depth and gene length to normalize gene expression<sup>7</sup>."
   ]
  },
  {
   "cell_type": "code",
   "execution_count": null,
   "metadata": {},
   "outputs": [],
   "source": [
    "TPM <- getTPM(rse_gene, length_var = \"bp_length\", mapped_var = 'mapped_read_count')"
   ]
  },
  {
   "cell_type": "markdown",
   "metadata": {},
   "source": [
    "Then, we remove transcript number from gene names."
   ]
  },
  {
   "cell_type": "code",
   "execution_count": null,
   "metadata": {},
   "outputs": [],
   "source": [
    "rownames(TPM)<-sub(\"\\\\.[0-9]*\",\"\", rownames(TPM))"
   ]
  },
  {
   "cell_type": "markdown",
   "metadata": {},
   "source": [
    "Next, we need to map TCGA ID to samples and further clean the metadata."
   ]
  },
  {
   "cell_type": "code",
   "execution_count": null,
   "metadata": {},
   "outputs": [],
   "source": [
    "metadata <- rse_gene@colData"
   ]
  },
  {
   "cell_type": "markdown",
   "metadata": {},
   "source": [
    "We keep the phenotypic variables we are interested in."
   ]
  },
  {
   "cell_type": "code",
   "execution_count": null,
   "metadata": {},
   "outputs": [],
   "source": [
    "metadata <- metadata[,c(\"gdc_cases.samples.portions.analytes.aliquots.submitter_id\",\"gdc_cases.demographic.gender\",\"gdc_cases.demographic.race\",\"gdc_cases.demographic.ethnicity\",\"gdc_cases.exposures.weight\",\"gdc_cases.exposures.height\",\"gdc_cases.project.primary_site\",\"gdc_cases.diagnoses.primary_diagnosis\",\"cgc_case_age_at_diagnosis\",\"gdc_cases.diagnoses.tumor_stage\",\"gdc_cases.diagnoses.days_to_death\",\"gdc_cases.diagnoses.vital_status\")]"
   ]
  },
  {
   "cell_type": "markdown",
   "metadata": {},
   "source": [
    "Then, we extract sample informatio from the ID to identify subtypes at later stages and tease out normal samples from cacner samples."
   ]
  },
  {
   "cell_type": "code",
   "execution_count": null,
   "metadata": {},
   "outputs": [],
   "source": [
    "metadata$rnaseq_column <- rownames(metadata)\n",
    "metadata <- separate(data.frame(metadata), gdc_cases.samples.portions.analytes.aliquots.submitter_id, c(\"proj\", \"tss\", \"participant\", \"sample\",\"portion\",\"plate\",\"center\"), \"-\",remove = FALSE)\n",
    "metadata$sampletype <- as.numeric(substr(metadata$sample,1,2))\n",
    "colnames(TPM) <- metadata$gdc_cases.samples.portions.analytes.aliquots.submitter_id[match(colnames(TPM),metadata$rnaseq_column)]"
   ]
  },
  {
   "attachments": {
    "image.png": {
     "image/png": "[encoded data removed]"
    }
   },
   "cell_type": "markdown",
   "metadata": {},
   "source": [
    "# Extract samples with subtypes\n",
    "\n",
    "TCGA includes samples taken from the site of tumor but also samples from the healthy tissues around the tumor. These samples are called adjacent normal samples and we need to process the data to remove them from our analysis.\n",
    "\n",
    "Using TCGA barcodes (see https://docs.gdc.cancer.gov/Encyclopedia/pages/TCGA_Barcode/), we extract only samples corresponding to tumor (i.e. removing adjacent normal tissue). According the TCGA doucumentation, for each sample tumor types are given a sample id from 01 - 09, normal types from 10 - 19 and control samples from 20 - 29. Then, we start by extracting the sample information from the TCGA id. ![image.png](attachment:image.png)\n",
    "For example TCGA-FB-AAPU-01A-31R-A41B-07, has a sample id of 01, which means it is a tumor sample. To get all tumor samples and filter out the control and adjacent normal samples, we check that their sample id is between 01-09."
   ]
  },
  {
   "cell_type": "code",
   "execution_count": null,
   "metadata": {},
   "outputs": [],
   "source": [
    "metadata$tumor <- ifelse(((metadata$sampletype >= 1) & (metadata$sampletype <= 9)),\"tumor\",\"non_tumor\")"
   ]
  },
  {
   "cell_type": "markdown",
   "metadata": {},
   "source": [
    "Then, we keep only the tumor samples."
   ]
  },
  {
   "cell_type": "code",
   "execution_count": null,
   "metadata": {},
   "outputs": [],
   "source": [
    "tumor_samples <- metadata$gdc_cases.samples.portions.analytes.aliquots.submitter_id[which(metadata$tumor == \"tumor\")]\n",
    "selected_samples_pdac <- TPM[,tumor_samples]\n",
    "metadata <- metadata[which(metadata$tumor == \"tumor\"),]"
   ]
  },
  {
   "cell_type": "markdown",
   "metadata": {},
   "source": [
    "Now we need to convert gene expression data into a data frame to be able to work with it in the network modeling step. Also, we need to annotate the columns and rows of the expression matrix."
   ]
  },
  {
   "cell_type": "code",
   "execution_count": null,
   "metadata": {
    "message": false
   },
   "outputs": [],
   "source": [
    "samples <- as.data.frame(tumor_samples)\n",
    "colnames(samples) <- \"sampleID\""
   ]
  },
  {
   "cell_type": "markdown",
   "metadata": {},
   "source": [
    "Then, just like we did for metadata, we will decode the sample ID to extract information about sample origin for downstream analyses."
   ]
  },
  {
   "cell_type": "code",
   "execution_count": null,
   "metadata": {},
   "outputs": [],
   "source": [
    "samples <- separate(samples, sampleID, c(\"proj\", \"tss\", \"participant\",\"sample\",\"portion\",\"plate\",\"center\"), \"-\", remove = FALSE)\n",
    "samples$shorterID  <- paste(samples[,2],samples[,3],samples[,4],samples[,5], sep = \"-\")\n",
    "metadata$shorterID <- samples$shorterID\n",
    "colnames(selected_samples_pdac) <- samples$shorterID"
   ]
  },
  {
   "cell_type": "markdown",
   "metadata": {},
   "source": [
    "We now load the previously annotated file of the molecular subtypes of the samples, as determined in Moffit et al.<sup>3</sup>. We narrow down our samples to those assigned a subtype. In this example, we focus on genes which vary in their expression the most, and thus chose those with $std(logTPM) \\geq 0.4$. If one has access to enough memory and computational time, one can use the whole genome.\n",
    "\n",
    "First, we start by loading and exploring the subtype assignment file."
   ]
  },
  {
   "cell_type": "code",
   "execution_count": null,
   "metadata": {},
   "outputs": [],
   "source": [
    "sample_subtypes <- read.table(paste0(ppath,\"subtypes.txt\"), header = FALSE)\n",
    "colnames(sample_subtypes) <- c(\"sample\",\"subtype\")\n",
    "head(sample_subtypes)"
   ]
  },
  {
   "cell_type": "markdown",
   "metadata": {},
   "source": [
    "Then, we filter the samples based on the criteria we specified earlier. First, we start by adding the sample type in the metadata variable."
   ]
  },
  {
   "cell_type": "code",
   "execution_count": null,
   "metadata": {},
   "outputs": [],
   "source": [
    "subtype_samples <- as.vector(sample_subtypes$sample[which(!(is.na(sample_subtypes$subtype)))])\n",
    "indSelec=match(subtype_samples, metadata$shorterID)\n",
    "metadata=metadata[indSelec,]\n",
    "metadata$subtype=as.vector(sample_subtypes$subtype[which(!(is.na(sample_subtypes$subtype)))])"
   ]
  },
  {
   "cell_type": "markdown",
   "metadata": {},
   "source": [
    "Then, we select the data TPM values corresponding to each subtype and taking the samples that have more than 1 count."
   ]
  },
  {
   "cell_type": "code",
   "execution_count": null,
   "metadata": {},
   "outputs": [],
   "source": [
    "tpms_selected_samples <- selected_samples_pdac[,subtype_samples]\n",
    "rowsums <- apply(data.matrix(tpms_selected_samples),MARGIN = 1, FUN = sum)\n",
    "tpms_selected_samples_genes <- tpms_selected_samples[names(which(rowsums != 0)),]"
   ]
  },
  {
   "cell_type": "markdown",
   "metadata": {},
   "source": [
    "Then, we filter using the criteria presented above."
   ]
  },
  {
   "cell_type": "code",
   "execution_count": null,
   "metadata": {
    "lines_to_next_cell": 2,
    "message": false
   },
   "outputs": [],
   "source": [
    "logtpms_selected_samples_genes <- log10(data.matrix(tpms_selected_samples_genes))\n",
    "sdev <- apply(data.matrix(logtpms_selected_samples_genes),MARGIN = 1, FUN = sd)\n",
    "logtpms_selected_samples_genes_sd <- logtpms_selected_samples_genes[names(which(sdev >= 0.4)),]\n",
    "write.table(logtpms_selected_samples_genes_sd,file = \"../data/pdac_expression_sd_log_04.txt\", row.names = TRUE, col.names = FALSE, quote=FALSE,sep = \"\\t\")"
   ]
  },
  {
   "cell_type": "markdown",
   "metadata": {
    "lines_to_next_cell": 0
   },
   "source": [
    "# Network analysis\n",
    "\n",
    "## Reconstruction of single-sample gene regulatory networks\n",
    "Now, we build an aggregate gene regulatory network for all the 150 patient samples in the dataset using PANDA<sup>8</sup>. Then we infer a single-sample network from the single-sample expression and the aggregate network using LIONESS<sup>9</sup>.\n",
    "\n",
    "These methods take as input three data types: the gene expression data from TCGA, a naive motif prior (generated from FIMO<sup>10</sup> scans of the human genome), and a protein-protein interaction network from STRINGdb<sup>11</sup>. The PPI and motif prior network were processed as in [Sonawane et al.](https://doi.org/10.1016/j.celrep.2017.10.001)<sup>12</sup>.\n",
    "\n",
    "We will call the `lioness.py` function here, which will call PANDA underneath the hood. This is a Python implementation that is called from R using the `reticulate` package, so make sure that Python path is correctly speicifed in the `use_python` command. Otherwise, please check the README file of [netZooR](https://github.com/netZoo/netZooR) for detailed instructions.\n",
    "\n",
    "This step might take a bit of time to compute, so we can directly load the precomputed results."
   ]
  },
  {
   "cell_type": "code",
   "execution_count": null,
   "metadata": {},
   "outputs": [],
   "source": [
    "if(precomputed==0){\n",
    "    lioness_pdac <- lionessPy(expr_file = \"/opt/data/tttutorial/pdac_expression_sd_log_04.txt\" , motif_file = \"/opt/data/tttutorial/motif_prior.txt\", ppi_file = \"/opt/data/tttutorial/tissues_ppi.txt\")\n",
    "}else if(precomputed==1){    \n",
    "    load(paste0(ppath,\"lioness_pdac.RData\"))\n",
    "}"
   ]
  },
  {
   "cell_type": "markdown",
   "metadata": {},
   "source": [
    "The structure of the result dataframe include the TF name in the first column, the target gene name in the second column, and the edge weights of each patient sample in the subsequent column. This column is a flattened adjacency matrix of each patient's LIONESS network."
   ]
  },
  {
   "cell_type": "code",
   "execution_count": null,
   "metadata": {},
   "outputs": [],
   "source": [
    "lioness_pdac"
   ]
  },
  {
   "cell_type": "markdown",
   "metadata": {},
   "source": [
    "These networks can be downloaded from [GRAND database](http://grand.networkmedicine.org/cancers/) as well."
   ]
  },
  {
   "cell_type": "markdown",
   "metadata": {
    "lines_to_next_cell": 0
   },
   "source": [
    "## Calculate gene targeting score\n",
    "Now, for each gene in each sample-specific network, we calculate the gene targeting score as the degree (sum of adjacent edge weights) in that sample's network."
   ]
  },
  {
   "cell_type": "code",
   "execution_count": null,
   "metadata": {},
   "outputs": [],
   "source": [
    "sample_order <- colnames(logtpms_selected_samples_genes_sd)\n",
    "subtype_order <- sample_subtypes$subtype[match(sample_order,sample_subtypes$sample)]\n",
    "subtype_order_names <- ifelse(subtype_order == 1,\"basal\",\"classical\")\n",
    "colnames(lioness_pdac) <- c(\"TF\",\"Gene\",sample_order)\n",
    "geneTargetting <- aggregate(. ~ Gene, lioness_pdac[-1], sum)"
   ]
  },
  {
   "cell_type": "markdown",
   "metadata": {},
   "source": [
    "We've also recorded which samples belong to each subtype to be able to do differential analyssis based on these groups in the next section."
   ]
  },
  {
   "cell_type": "markdown",
   "metadata": {
    "lines_to_next_cell": 0
   },
   "source": [
    "## Differential targeting\n",
    "Finally, we use limma<sup>13</sup> ([Ritchie et al.](https://doi.org/10.1093/nar/gkv007)) to identify differentially targeted genes between basal-like and classical samples, i.e., the genes that have a differential targeting score in each of the subtype. We start first by building the design matrix that indicates the subtype membership of each sample."
   ]
  },
  {
   "cell_type": "code",
   "execution_count": null,
   "metadata": {},
   "outputs": [],
   "source": [
    "gene_targetting_matrix <- geneTargetting[,c(2:151)]\n",
    "rownames(gene_targetting_matrix) <- rownames(geneTargetting)\n",
    "subtype <- as.factor(subtype_order_names)\n",
    "design <- model.matrix(~subtype)"
   ]
  },
  {
   "cell_type": "markdown",
   "metadata": {},
   "source": [
    "Then, we compute differential trageting using the design matrix and the gene targeting score matrix."
   ]
  },
  {
   "cell_type": "code",
   "execution_count": null,
   "metadata": {},
   "outputs": [],
   "source": [
    "fit = lmFit(as.matrix(gene_targetting_matrix),design)\n",
    "fit = eBayes(fit)"
   ]
  },
  {
   "cell_type": "markdown",
   "metadata": {},
   "source": [
    "Then, we can build our result table and see which genes are differentially targeted across samples."
   ]
  },
  {
   "cell_type": "code",
   "execution_count": null,
   "metadata": {},
   "outputs": [],
   "source": [
    "adjustedTarg      <- topTable(fit, number = Inf, adjust = \"fdr\", coef = \"subtypeclassical\")\n",
    "adjustedTarg$Gene <- geneTargetting$Gene[as.numeric(rownames(adjustedTarg))]\n",
    "head(adjustedTarg)"
   ]
  },
  {
   "cell_type": "markdown",
   "metadata": {},
   "source": [
    "This table contains summary statistic such as log fold change (logFC) between subtypes, p-values and multiple-testing corrected p-values, the average targeting in the `AveExp` column, and finally the t-statistic and the Beta values."
   ]
  },
  {
   "cell_type": "markdown",
   "metadata": {},
   "source": [
    "# Conclusion\n",
    "A complete biological interpretation of the results and the rationale behind the use of targeting in finding differential regulatory patterns is described in [our publication](https://arxiv.org/abs/2101.03985) that comes with this tutorial. In particular, we showed that targeting as a network score can reveal new biological insights not covered by either coexpression networks or by differential gene expression analysis."
   ]
  },
  {
   "cell_type": "markdown",
   "metadata": {},
   "source": [
    "# References\n",
    "\n",
    "1- Adamska, Aleksandra, Alice Domenichini, and Marco Falasca. \"Pancreatic ductal adenocarcinoma: current and evolving therapies.\" International journal of molecular sciences 18.7 (2017): 1338.\n",
    "\n",
    "2- Rashid, Naim U., et al. \"Purity independent subtyping of tumors (PurIST), A clinically robust, single-sample classifier for tumor subtyping in pancreatic cancer.\" Clinical Cancer Research 26.1 (2020): 82-92.\n",
    "\n",
    "3- Moffitt, Richard A., et al. \"Virtual microdissection identifies distinct tumor-and stroma-specific subtypes of pancreatic ductal adenocarcinoma.\" Nature genetics 47.10 (2015): 1168.\n",
    "\n",
    "4- Diaferia, Giuseppe R., et al. \"Dissection of transcriptional and cis‐regulatory control of differentiation in human pancreatic cancer.\" The EMBO journal 35.6 (2016): 595-617.\n",
    "\n",
    "5- Weinstein, John N., et al. \"The cancer genome atlas pan-cancer analysis project.\" Nature genetics 45.10 (2013): 1113.\n",
    "\n",
    "6- Collado-Torres, Leonardo, et al. \"Reproducible RNA-seq analysis using recount2.\" Nature biotechnology 35.4 (2017): 319-321.\n",
    "\n",
    "7- Li, Bo, et al. \"RNA-Seq gene expression estimation with read mapping uncertainty.\" Bioinformatics 26.4 (2010): 493-500.\n",
    "\n",
    "8- Glass, Kimberly, et al. \"Passing messages between biological networks to refine predicted interactions.\" PloS one 8.5 (2013): e64832.\n",
    "\n",
    "9- Kuijjer, Marieke Lydia, et al. \"Estimating sample-specific regulatory networks.\" Iscience 14 (2019): 226-240.\n",
    "\n",
    "10- Grant, Charles E., Timothy L. Bailey, and William Stafford Noble. \"FIMO: scanning for occurrences of a given motif.\" Bioinformatics 27.7 (2011): 1017-1018.\n",
    "\n",
    "11- Szklarczyk, Damian, et al. \"STRING v11: protein–protein association networks with increased coverage, supporting functional discovery in genome-wide experimental datasets.\" Nucleic acids research 47.D1 (2019): D607-D613.\n",
    "\n",
    "12- Sonawane, Abhijeet Rajendra, et al. \"Understanding tissue-specific gene regulation.\" Cell reports 21.4 (2017): 1077-1088.\n",
    "\n",
    "13- Ritchie, Matthew E., et al. \"limma powers differential expression analyses for RNA-sequencing and microarray studies.\" Nucleic acids research 43.7 (2015): e47-e47.\n",
    "\n",
    "14- Weighill, Deborah, et al. \"Gene targeting in disease networks\" arXiv 2101.03985 (2021). https://arxiv.org/abs/2101.03985\n",
    "\n",
    "\n",
    "## Image credit \n",
    "\n",
    "https://www.pancreaticcancer.org.uk/information/just-diagnosed-with-pancreatic-cancer/types-of-pancreatic-cancer/"
   ]
  }
 ],
 "metadata": {
  "jupytext": {
   "cell_metadata_filter": "message,-all",
   "main_language": "R",
   "notebook_metadata_filter": "-all"
  },
  "kernelspec": {
   "display_name": "RP6",
   "language": "R",
   "name": "rp6"
  },
  "language_info": {
   "codemirror_mode": "r",
   "file_extension": ".r",
   "mimetype": "text/x-r-source",
   "name": "R",
   "pygments_lexer": "r",
   "version": "4.1.1"
  }
 },
 "nbformat": 4,
 "nbformat_minor": 4
}
