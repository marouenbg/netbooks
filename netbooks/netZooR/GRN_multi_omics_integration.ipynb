{
 "cells": [
  {
   "cell_type": "markdown",
   "metadata": {},
   "source": [
    "# Integrating GRNs with multi-omics data\n",
    "Author: Romana T. Pop^1^\n",
    "\n",
    "1. Centre for Molecular Medicine Norway (NCMM), Faculty of Medicine, University of Oslo, Oslo, Norway\n",
    "\n",
    "We use MOFA+ to investigate the contribution of GRNs to JDR models and their association with patient survival. We run MOFA+ separately on all omics data types with no GRN information and compared the results with MOFA+ models that included network metrics (indegree, outdegree, and both)."
   ]
  },
  {
   "cell_type": "code",
   "execution_count": null,
   "metadata": {
    "vscode": {
     "languageId": "r"
    }
   },
   "outputs": [],
   "source": [
    "# ensure environment is clean\n",
    "rm(list = ls())\n",
    "\n",
    "# install MARMOT\n",
    "# uncomment if not installed\n",
    "#library(devtools)\n",
    "#install_github(\"rtpop/MARMOT\", ref = \"v0.0.1\")\n",
    "\n",
    "# load libraries\n",
    "library(MARMOT)\n",
    "library(tidyverse)\n",
    "library(reshape2)\n",
    "library(MOFA2)"
   ]
  },
  {
   "cell_type": "code",
   "execution_count": null,
   "metadata": {
    "vscode": {
     "languageId": "r"
    }
   },
   "outputs": [],
   "source": [
    "# some intermediate files are provided for ease, set this parameter to FALSE\n",
    "# if you do not wish to use them and wish to compute them again instead\n",
    "precomputed <- TRUE\n",
    "\n",
    "# setting working directory\n",
    "wd <- \"../JDRnet\"\n",
    "setwd(wd)\n",
    "\n",
    "# specify directory for results to be saved\n",
    "tcga_res <- \"TCGA\"\n",
    "gep_res <- \"GEPliver\"\n",
    "\n",
    "# defining vector of cancer names for which to do the analysis\n",
    "cancers_tcga <- c(\"aml\", \"breast\", \"colon\", \"gbm\", \"kidney\", \"liver\", \"lung\",\n",
    "          \"melanoma\", \"ovarian\", \"sarcoma\")\n",
    "\n",
    "# defining names for the JDR models that we will run\n",
    "model <- c(\"nonet\", \"indeg\", \"out\", \"both\")\n",
    "\n",
    "# define vector of omic names that will be used\n",
    "omics_tcga <- c(\"expression\", \"methylation\", \"miRNA\", \"indegree\", \"outdegree\")"
   ]
  },
  {
   "cell_type": "code",
   "execution_count": null,
   "metadata": {
    "vscode": {
     "languageId": "r"
    }
   },
   "outputs": [],
   "source": [
    "# running MOFA models\n",
    "for (cancer in cancers_tcga) {\n",
    "  load(file.path(tcga_res, paste0(cancer, \"_omics_pca.Rda\")))\n",
    "\n",
    "  #nonet\n",
    "  data_nonet <- omics[1:3]\n",
    "  mofa_nonet <- run_mofa2(data_nonet, n_fct = 5, seed = 13, convergence = \"slow\", use_basilisk = T)\n",
    "  save(mofa_nonet, file = file.path(tcga_res, paste0(\"MOFA_\", cancer, \"_pca_nonet.Rda\")))\n",
    "\n",
    "  # with indeg\n",
    "  data_indeg <- omics[-5]\n",
    "  mofa_indeg <- run_mofa2(data_indeg, n_fct = 5, seed = 13, convergence = \"slow\", use_basilisk = T)\n",
    "  save(mofa_indeg, file = file.path(tcga_res, paste0(\"MOFA_\", cancer, \"_pca_indeg.Rda\")))\n",
    "\n",
    "  # with outdeg\n",
    "  data_out <- omics[-4]\n",
    "  mofa_out <- run_mofa2(data_out, n_fct = 5, seed = 13, convergence = \"slow\", use_basilisk = T)\n",
    "  save(mofa_out, file = file.path(tcga_res, paste0(\"MOFA_\", cancer, \"_pca_out.Rda\")))\n",
    "\n",
    "  # with both\n",
    "  data_both <- omics\n",
    "  mofa_both <- run_mofa2(data_both, n_fct = 5, seed = 13, convergence = \"slow\", use_basilisk = T)\n",
    "  save(mofa_both, file = file.path(tcga_res, paste0(\"MOFA_\", cancer, \"_tcga_pca_both.Rda\")))\n",
    "}"
   ]
  },
  {
   "cell_type": "markdown",
   "metadata": {},
   "source": [
    "We now perform univariate cox regression for each factor to determine their association with patient survival. We compare the association of the factors to patient survival in the models without GRNs and the models with GRNs, reproducing Figure 3 from the paper."
   ]
  },
  {
   "cell_type": "code",
   "execution_count": null,
   "metadata": {
    "vscode": {
     "languageId": "r"
    }
   },
   "outputs": [],
   "source": [
    "# Define model types\n",
    "model_types <- c(\"nonet\", \"indeg\", \"out\", \"both\")\n",
    "\n",
    "# Define file paths for MOFA models and survival data\n",
    "mofa_files <- lapply(model_types, function(model) {\n",
    "  file.path(tcga_res, paste0(\"MOFA_\", cancers_tcga, \"_pca_\", model, \".Rda\"))\n",
    "})\n",
    "mofa_files <- do.call(c, mofa_files)\n",
    "\n",
    "surv_files <- file.path(tcga_res, paste0(cancers_tcga, \"_surv.Rda\"))\n",
    "\n",
    "# Initialize the survival data frame\n",
    "surv_df <- data.frame()\n",
    "\n",
    "# process each cancer for each model type\n",
    "new_surv_df <- Map(function(cancer, mofa_files, surv_file) {\n",
    "  message(\"Processing: \", cancer)\n",
    "\n",
    "  # Load MOFA models and survival data\n",
    "  models <- lapply(mofa_files, load)\n",
    "  models <- lapply(models, get)\n",
    "  load(surv_file) # loads into 'surv' variable\n",
    "\n",
    "  # Getting factors\n",
    "  factors <- lapply(models, function(model) get_factors(model)[[1]])\n",
    "\n",
    "  # Perform survival associations\n",
    "  cox_models <- lapply(factors, surv_association, surv = surv, univariate = TRUE)\n",
    "\n",
    "  # Compare survival models\n",
    "  df <- surv_compare(models = cox_models, model_labels = model_types,\n",
    "                     univariate = TRUE, method = \"BH\")\n",
    "  df$cancer <- cancer\n",
    "\n",
    "  # Save individual cox models\n",
    "  cox_all <- setNames(cox_models, model_types)\n",
    "  save(cox_all, file = file.path(tcga_res, paste0(cancer, \"_cox_models_PCA.Rda\")))\n",
    "\n",
    "  return(df)\n",
    "}, rep(cancers_tcga, each = length(model_types)), seq(1, length(mofa_files), length(cancers_tcga)), surv_files)\n",
    "\n",
    "# Combine all results into a single data frame\n",
    "surv_df <- do.call(rbind, new_surv_df)\n",
    "\n",
    "# Save the combined survival data frame\n",
    "save(surv_df, file = file.path(tcga_res, \"MOFA_surv_df_all_PCA.Rda\"))"
   ]
  },
  {
   "cell_type": "code",
   "execution_count": null,
   "metadata": {
    "vscode": {
     "languageId": "r"
    }
   },
   "outputs": [],
   "source": [
    "# plotting\n",
    "if(!exists(\"surv_df\")){\n",
    "  load(file.path(tcga_res, \"MOFA_surv_df_all_PCA.Rda\"))\n",
    "}\n",
    "\n",
    "#get models to compare\n",
    "model_comp <- setdiff(model, \"nonet\")\n",
    "\n",
    "#set colours\n",
    "cols <- palette(\"Dark2\")\n",
    "\n",
    "for(i in model_comp){\n",
    "  models_to_compare <- c(\"nonet\", i)\n",
    "  p <- surv_compare_dotplot(surv_df = surv_df, models_to_compare = models_to_compare, \n",
    "                            colours = c(cols[8], \"grey\", cols[1]))\n",
    "\n",
    "  ggsave(p, file = paste0(figure_dir, paste0(\"surv_compare_\",models_to_compare[2],\"_tcga.pdf\")))\n",
    "}"
   ]
  },
  {
   "cell_type": "markdown",
   "metadata": {},
   "source": [
    "# Investigating survival associated factors in liver cancer\n",
    "We explore the survival-associated factors identified when including GRN features for the TCGA liver cancer samples. We evaluate which feature types were explained by the survival associated factors and we explore the correlation between the factors without GRNs and those with GRNs to assess whether the GRNs capture different heterogeneity than the other omics, or if they boost a preexisting signal. The code in this section reproduces Figure 4 from the manuscript."
   ]
  },
  {
   "cell_type": "code",
   "execution_count": null,
   "metadata": {
    "vscode": {
     "languageId": "r"
    }
   },
   "outputs": [],
   "source": [
    "# Plotting heatmap of the -log10(FDR) of the survival association of the factors (Figure 4A)\n",
    "load(file.path(tcga_res, \"MOFA_surv_df_all_PCA.Rda\"))\n",
    "cols <- palette(\"Dark2\")\n",
    "\n",
    "surv_can <- surv_df %>%\n",
    "filter(cancer == \"liver\")\n",
    "\n",
    "p <- .plot_heatmap(surv_can)\n",
    "p <- p +\n",
    "     scale_fill_gradient(low = \"white\", high = cols[1],\n",
    "                         limits = c(0,3),\n",
    "                         breaks = seq(0,3, by = 1)) +\n",
    "     labs(x = \"Model\", y = NULL, fill = expression(\"-log\"[10] * \"FDR\"))\n",
    "ggsave(p, file = file.path(figure_dir, \"liver_fct_sig_heat_tcga.pdf\"))\n"
   ]
  },
  {
   "cell_type": "markdown",
   "metadata": {},
   "source": [
    "# Increased regulation of metabolic pathways is associated with liver cancer survival\n",
    "To determine the contribution of the GRN features we looked at what drives these SAFs in the indegree and outdegree spaces. We first performed GSEA on the weights of the indegrees for each of the SAFs in both the TCGA and GEP datasets using the MSigDb Hallmarks and KEGG gene sets. The below reproduces Figures 5 and S5 from the manuscript. Before we can perform GSEA, we must map the original omics features to the MOFA factors."
   ]
  },
  {
   "cell_type": "code",
   "execution_count": null,
   "metadata": {
    "vscode": {
     "languageId": "r"
    }
   },
   "outputs": [],
   "source": [
    "# load data\n",
    "pca_tcga <- get(load(file.path(tcga_res, \"liver_omics_pca_results.Rda\")))\n",
    "pca_gep <- get(load(file.path(gep_res, \"liver_omics_pca_results.Rda\")))\n",
    "\n",
    "# get mofa models\n",
    "mofa_tcga <- get(load(file.path(tcga_res, \"MOFA_liver_pca_both.Rda\")))\n",
    "mofa_gep <- get(load(file.path(gep_res, \"MOFA_liver_pca_both.Rda\")))\n",
    "\n",
    "# get MOFA weights\n",
    "wts_tcga <- get_weights(mofa_tcga)\n",
    "wts_gep <- get_weights(mofa_gep)\n",
    "\n",
    "# map weights\n",
    "# for tcga\n",
    "mapped_wts_tcga <- Map(function(x, pca_wts) {\n",
    "  map_wts(fct_weights = x, pca_weights = pca_wts)\n",
    "}, wts_tcga, pca_tcga)\n",
    "\n",
    "# for gep\n",
    "mapped_wts_gep <- Map(function(x, pca_wts) {\n",
    "  map_wts(fct_weights = x, pca_weights = pca_wts)\n",
    "}, wts_gep, pca_gep)\n",
    "\n",
    "# save mapped weights\n",
    "save(mapped_wts_tcga, file = file.path(tcga_res, \"liver_mapped_feat_wts.Rda\"))\n",
    "save(mapped_wts_gep, file = file.path(gep_res, \"liver_mapped_feat_wts.Rda\"))"
   ]
  },
  {
   "cell_type": "markdown",
   "metadata": {},
   "source": [
    "We can now perform GSEA w=using hallmark and KEGG gene sets from MSigDb. We show below the code used to retrieve the gene sets, but we recommend using the file provided on Zenodo for full reproducibility, as the data in the MSigdb repository might have changed."
   ]
  },
  {
   "cell_type": "code",
   "execution_count": null,
   "metadata": {
    "vscode": {
     "languageId": "r"
    }
   },
   "outputs": [],
   "source": [
    "# get pathways from MSigDb with msigdbr\n",
    "if (!precomputed) {\n",
    "    # hallmark\n",
    "    hallmark <- msigdbr(species = \"human\", category = \"H\")\n",
    "    hallmark <- as.data.frame(cbind(hallmark$gs_name,hallmark$human_gene_symbol))\n",
    "    colnames(hallmark) <- c(\"gs_name\", \"human_gene_symbol\")\n",
    "\n",
    "    #kegg\n",
    "    kegg <- msigdbr(species = \"human\", category = \"C2\", subcategory = \"CP:KEGG\")\n",
    "    kegg <- as.data.frame(cbind(kegg$gs_name, kegg$human_gene_symbol))\n",
    "    colnames(kegg) <- c(\"gs_name\", \"human_gene_symbol\")\n",
    "\n",
    "    # make pathway names lowercase\n",
    "    hallmark$gs_name <- tolower(hallmark$gs_name)\n",
    "    kegg$gs_name <- tolower(kegg$gs_name)\n",
    "\n",
    "    # remove the \"hallmark\" before every path name\n",
    "    hallmark$gs_name <- gsub(\"hallmark_\",\"\",hallmark$gs_name)\n",
    "    kegg$gs_name <- gsub(\"kegg_\",\"\",kegg$gs_name)\n",
    "\n",
    "    hallmark <- split(hallmark$human_gene_symbol, hallmark$gs_name)\n",
    "    kegg <- split(kegg$human_gene_symbol, kegg$gs_name)\n",
    "\n",
    "    save(hallmark, kegg, file = file.path(tcga_res, \"hall_kegg_path.Rda\"))\n",
    "}"
   ]
  },
  {
   "cell_type": "code",
   "execution_count": null,
   "metadata": {
    "vscode": {
     "languageId": "r"
    }
   },
   "outputs": [],
   "source": [
    "# load data\n",
    "gep <- as.data.frame(get(load(file.path(gep_res, \"liver_mapped_feat_wts.Rda\")))[[\"indegree\"]])\n",
    "tcga <- as.data.frame(get(load(file.path(tcga_res,\"liver_mapped_feat_wts.Rda\")))[[\"indegree\"]])\n",
    "\n",
    "# load survival\n",
    "surv_tcga <- get(load(file.path(tcga_res,\"MOFA_surv_df_all_PCA.Rda\")))\n",
    "surv_gep <- get(load(file.path(gep_res,\"MOFA_surv_df_all_PCA.Rda\")))\n",
    "\n",
    "# load gene sets\n",
    "load(file.path(tcga_res, \"hall_kegg_path.Rda\"))\n",
    "\n",
    "# filter to sig fct\n",
    "sig_tcga <- surv_tcga %>% filter(cancer == \"liver\", label == \"both\", padj <= 0.05)\n",
    "sig_gep <- surv_gep %>% filter(cancer == \"liver\", label == \"both\", padj <= 0.05)\n",
    "\n",
    "tcga <- tcga[, sig_tcga$factor]\n",
    "gep <- gep[, sig_gep$factor]\n",
    "\n",
    "# turn data into lists\n",
    "tcga <- lapply(names(tcga), function(x) tcga[, x, drop = FALSE])\n",
    "gep <- lapply(names(gep), function(x) gep[, x, drop = FALSE])\n",
    "\n",
    "# name them\n",
    "names(tcga) <- sig_tcga$factor\n",
    "names(gep) <- sig_gep$factor\n"
   ]
  },
  {
   "cell_type": "code",
   "execution_count": null,
   "metadata": {
    "vscode": {
     "languageId": "r"
    }
   },
   "outputs": [],
   "source": [
    "# run gsea with hallmark\n",
    "gsea_res <- Map(function(x, file_name) {\n",
    "  perform_gsea(diff_results = x, gene_set = hallmark, save_file = FALSE,\n",
    "  differential = FALSE)}, tcga, file_names)\n",
    "\n",
    "save(gsea_res, file = file.path(tcga_res, \"liver_gsea_indeg_hallmark.Rda\"))\n",
    "\n",
    "# gep\n",
    "gsea_res <- Map(function(x, file_name) {\n",
    "  perform_gsea(diff_results = x, gene_set = hallmark, save_file = FALSE,\n",
    "  differential = FALSE)}, gep, file_names)\n",
    "save(gsea_res, file =  file.path(gep_res, \"liver_gsea_indeg_hallmark.Rda\"))"
   ]
  },
  {
   "cell_type": "code",
   "execution_count": null,
   "metadata": {
    "vscode": {
     "languageId": "r"
    }
   },
   "outputs": [],
   "source": [
    "# run gsea with kegg\n",
    "gsea_res <- Map(function(x, file_name) {\n",
    "  perform_gsea(diff_results = x, gene_set = kegg, save_file = FALSE,\n",
    "  differential = FALSE)}, tcga, file_names)\n",
    "\n",
    "save(gsea_res, file = file.path(tcga_res,\"liver_gsea_indeg_kegg.Rda\"))\n",
    "\n",
    "# gep\n",
    "gsea_res <- Map(function(x, file_name) {\n",
    "  perform_gsea(diff_results = x, gene_set = kegg, save_file = FALSE,\n",
    "  differential = FALSE)}, gep, file_names)\n",
    "save(gsea_res, file = file.path(gep_res, \"liver_gsea_indeg_kegg.Rda\"))"
   ]
  },
  {
   "cell_type": "code",
   "execution_count": null,
   "metadata": {
    "vscode": {
     "languageId": "r"
    }
   },
   "outputs": [],
   "source": [
    "pathways <- c(\"hallmark\", \"kegg\")\n",
    "datasets <- c(\"TCGA\", \"GEPliver\")\n",
    "\n",
    "for (data in datasets) {\n",
    "  # set directory name\n",
    "  direct <- file.path(\"data\", data)\n",
    "  for (path in pathways) {\n",
    "    load(file.path(direct, \"liver_gsea_indeg_\", path, \".Rda\"))\n",
    "\n",
    "    # Add the factor column to each data frame and merge them\n",
    "    factors <- names(gsea_res)\n",
    "    merged_df <- bind_rows(Map(function(df, factor) {\n",
    "      df %>% mutate(factor = factor)\n",
    "    }, gsea_res, factors))\n",
    "\n",
    "    file_name <- file.path(figure_dir, paste0(\"liver_indeg_gsea_wts_\", path, data, \".pdf\"))\n",
    "\n",
    "    plot <- gsea_dotplots(merged_df, gene_set = path,\n",
    "                          title = data, file_name = file_name, n_path = NULL,\n",
    "                          thresh = 3, width = 70, height = 70, limitsize = FALSE)\n",
    "    plot <- plot + \n",
    "            theme(text = element_text(size = 30),\n",
    "            legend.key.size = unit(1.5, \"cm\"),\n",
    "            legend.text = element_text(size = 70),\n",
    "            axis.text.y = element_text(size = 90),\n",
    "            axis.text.x = element_text(size = 70),\n",
    "            axis.title.x = element_text(size = 70))\n",
    "\n",
    "    ggsave(plot, file = file_name, width = 70, height = 70, limitsize = FALSE)\n",
    "  }\n",
    "}"
   ]
  },
  {
   "cell_type": "markdown",
   "metadata": {},
   "source": [
    "## Immune regulatory and developmental TFs associate with liver cancer survival\n",
    "To assess the contribution of the outdegrees, we opted to look at the top TFs driving the SAFs in each of the two datasets. We selected the top twenty TFs with the highest weights for each SAF in each dataset and looked at the TF overlap between the two datasets. We perform a Fisher's exact test to determine if the overlap is significantly more than expected by chance. "
   ]
  },
  {
   "cell_type": "code",
   "execution_count": null,
   "metadata": {
    "vscode": {
     "languageId": "r"
    }
   },
   "outputs": [],
   "source": [
    "# load data\n",
    "gep <- get(load(file.path(gep_res, \"liver_mapped_feat_wts.Rda\")))[[\"outdegree\"]]\n",
    "tcga <- get(load(file.path(tcga_res, \"liver_mapped_feat_wts.Rda\")))[[\"outdegree\"]]\n",
    "\n",
    "# factor names\n",
    "gep_fct <- c(\"Factor2\", \"Factor3\", \"Factor4\")\n",
    "tcga_fct <- c(\"Factor2\", \"Factor4\", \"Factor5\")\n",
    "\n",
    "# melt\n",
    "gep <- reshape2::melt(gep)\n",
    "tcga <- reshape2::melt(tcga)\n",
    "colnames(gep) <- c(\"feature\", \"factor\", \"value\")\n",
    "colnames(tcga) <- c(\"feature\", \"factor\", \"value\")\n",
    "\n",
    "# all tfs\n",
    "tfs <- unique(gep$feature)\n",
    "\n",
    "# filter & sort by weight\n",
    "gep <- gep %>%\n",
    "      filter(factor %in% gep_fct)\n",
    "\n",
    "tcga <- tcga %>%\n",
    "      filter(factor %in% tcga_fct)\n",
    "\n",
    "# scale\n",
    "gep <- gep %>%\n",
    "        group_by(factor) %>%\n",
    "        mutate(value = value / max(abs(value), na.rm = TRUE)) %>%\n",
    "        slice_max(order_by = abs(value), n = 20) %>%\n",
    "        #filter(value > 0.5) %>%\n",
    "        ungroup()\n",
    "\n",
    "tcga <- tcga %>%\n",
    "        group_by(factor) %>%\n",
    "        mutate(value = value / max(abs(value), na.rm = TRUE)) %>%\n",
    "        slice_max(order_by = abs(value), n = 20) %>%\n",
    "        #filter(value > 0.5) %>%\n",
    "        ungroup()\n",
    "\n",
    "# create contingency table for fisher's exact test\n",
    "common_tfs <- unique(intersect(tcga$feature, gep$feature))\n",
    "common <- length(common_tfs)\n",
    "in_gep <- length(unique(gep$feature)) - common\n",
    "in_tcga <- length(unique(tcga$feature)) - common\n",
    "in_neither <- length(tfs) - (in_gep + in_tcga + common)\n",
    "\n",
    "contingency_table <- matrix(c(common, in_gep, in_tcga, in_neither), nrow = 2, byrow = TRUE)\n",
    "\n",
    "# perform fisher test\n",
    "fisher_result <- fisher.test(contingency_table)\n",
    "\n",
    "save(fisher_result, contingency_table, common_tfs,\n",
    "      file = file.path(tcga_res, \"outdeg_gep_tcga_fisher_result.Rda\"))"
   ]
  },
  {
   "cell_type": "code",
   "execution_count": null,
   "metadata": {
    "vscode": {
     "languageId": "r"
    }
   },
   "outputs": [],
   "source": [
    "# load data\n",
    "load(file.path(tcga_res, \"outdeg_gep_tcga_fisher_result.Rda\"))\n",
    "\n",
    "factors <- c(\"Factor2\", \"Factor3\", \"Factor4\")\n",
    "file_name_gep <- file.path(gep_res, \"liver_indeg_wts_common.pdf\")\n",
    "file_name_tcga <- file.path(tcga_res,\"liver_indeg_wts_common.pdf\")\n",
    "\n",
    "# plot\n",
    "plots <- suppressMessages(plot_feat_wts(feat_wts = tcga, fct = factors, file_name = file_name_tcga,\n",
    "  thresh = NULL, plot_type = \"dotplot\", manual_lab = common_tfs, n_feat = 0,\n",
    "  width = 20, height = 20, limitsize = FALSE))\n",
    "\n",
    "plots <- suppressMessages(plot_feat_wts(feat_wts = gep, fct = factors, file_name = file_name_gep,\n",
    "  thresh = NULL, plot_type = \"dotplot\", manual_lab = common_tfs, n_feat = 0,\n",
    "  width = 20, height = 20, limitsize = FALSE))"
   ]
  },
  {
   "cell_type": "code",
   "execution_count": null,
   "metadata": {
    "vscode": {
     "languageId": "r"
    }
   },
   "outputs": [],
   "source": [
    "# plotting heatmap of variance explained by each MOFA factor (Figure 4B)\n",
    "cols <- palette(\"Dark2\")\n",
    "load(file.path(tcga_res, \"MOFA_surv_df_all_PCA.Rda\"))\n",
    "load(file.path(tcga_res, \"MOFA_liver_pca_both.Rda\"))\n",
    "\n",
    "surv_can <- surv_df %>%\n",
    "  filter(cancer == \"liver\")\n",
    "\n",
    "b <- suppressMessages(plot_var_heat(mofa_both))\n",
    "\n",
    "ggsave(b, file = file.path(figure_dir, paste0(cancer, \"_var_explained_both_tcga.pdf\")),width = 10, height = 9)"
   ]
  },
  {
   "cell_type": "code",
   "execution_count": null,
   "metadata": {
    "vscode": {
     "languageId": "r"
    }
   },
   "outputs": [],
   "source": [
    "# plotting the correlation of factors from the model without GRNs and the model with GRNs (Figure 4C)\n",
    "corr_all <- list()\n",
    "corr_df <- data.frame()\n",
    "\n",
    "# load models\n",
    "all <- get(load(file.path(tcga_res, \"MOFA_liver_pca_both.Rda\")))\n",
    "nonet <- get(load(file.path(tcga_res, \"MOFA_liver_pca_nonet.Rda\")))\n",
    "\n",
    "# get factors\n",
    "all_fct <- get_factors(all)[[1]]\n",
    "nonet_fct <- get_factors(nonet)[[1]]\n",
    "\n",
    "corr <- fct_corr(all_fct, nonet_fct, labels = c(\"all\", \"no GRN\"),\n",
    "                as_data_frame = TRUE, abs = TRUE)\n",
    "\n",
    "# reformat as data frame\n",
    "corr_df <- format_fct_corr(corr)\n",
    "\n",
    "# plot\n",
    "p <- plot_fct_corr(corr_df, abs = TRUE)\n",
    "\n",
    "# removing facet headers\n",
    "p <- p +\n",
    "  theme(strip.background = element_blank(),  # Remove background of the facet label\n",
    "        strip.text = element_blank())\n",
    "ggsave(p, file = file.path(figure_dir, \"liver_view_exclusion_both_abs.pdf\"), width = 10, height = 9)\n",
    "\n",
    "# save dataframe\n",
    "save(corr_df, file = file.path(tcga_res, \"view_exclusion_corr_df_both_abs.Rda\"))"
   ]
  },
  {
   "cell_type": "markdown",
   "metadata": {},
   "source": [
    "# Validation in independent liver cancer chohort\n",
    "We repeat the survival analysis in an independent liver cancer cohort from GEPliver and investigate the association of the MOFA factors with other clinical variables in both liver cancer datasets."
   ]
  },
  {
   "cell_type": "code",
   "execution_count": null,
   "metadata": {
    "vscode": {
     "languageId": "r"
    }
   },
   "outputs": [],
   "source": [
    "# running MOFA models for the validation cohort\n",
    "load(file.path(gep_res, \"liver_omics_pca.Rda\"))\n",
    "\n",
    "#nonet\n",
    "data_nonet <- omics[1:3]\n",
    "mofa_nonet <- run_mofa2(data_nonet, n_fct = 5, seed = 13, convergence = \"slow\", use_basilisk = T)\n",
    "save(mofa_nonet, file = file.path(gep_res, \"MOFA_liver_pca_nonet.Rda\"))\n",
    "\n",
    "# with both\n",
    "data_both <- omics\n",
    "mofa_both <- run_mofa2(data_both, n_fct = 5, seed = 13, convergence = \"slow\", use_basilisk = T)\n",
    "save(mofa_both, file = file.path(gep_res, \"MOFA_liver_pca_both.Rda\"))"
   ]
  },
  {
   "cell_type": "code",
   "execution_count": null,
   "metadata": {
    "vscode": {
     "languageId": "r"
    }
   },
   "outputs": [],
   "source": [
    "# running survival analysis for validation cohort\n",
    "# Define model types\n",
    "model_types <- c(\"nonet\", \"both\")\n",
    "\n",
    "# Define file paths for MOFA models and survival data\n",
    "mofa_files <- lapply(model_types, function(model) {\n",
    "  file.path(gep_res, paste0(\"MOFA_\", cancers_gep, \"_pca_\", model, \".Rda\"))\n",
    "})\n",
    "mofa_files <- do.call(c, mofa_files)\n",
    "\n",
    "# Load MOFA models and survival data\n",
    "models <- lapply(mofa_files, load)\n",
    "load(file.path(gep_res, \"liver_surv.Rda\"))\n",
    "\n",
    "# Initialize the survival data frame\n",
    "surv_df <- data.frame()\n",
    "\n",
    "# Getting factors\n",
    "factors <- lapply(models, function(model) get_factors(model)[[1]])\n",
    "\n",
    "# Perform survival associations\n",
    "cox_models <- lapply(factors, surv_association, surv = surv, univariate = TRUE)\n",
    "\n",
    "# Compare survival models\n",
    "surv_df <- surv_compare(models = cox_models, model_labels = model_types,\n",
    "                   univariate = TRUE, method = \"BH\")\n",
    "surv_df$cancer <- \"liver\"\n",
    "\n",
    "# Save individual cox models\n",
    "cox_all <- setNames(cox_models, model_types)\n",
    "save(cox_all, file = file.path(gep_res, paste0(cancer, \"_cox_models_PCA.Rda\")))\n",
    "\n",
    "# Save the survival data frame\n",
    "save(surv_df, file = paste0(gep_res, \"MOFA_surv_df_all_PCA.Rda\"))"
   ]
  },
  {
   "cell_type": "markdown",
   "metadata": {},
   "source": [
    "Now that we've identified survival associated factors in both datasets, we look for associations with other clinical features. This reproduces Figure S4."
   ]
  },
  {
   "cell_type": "code",
   "execution_count": null,
   "metadata": {
    "vscode": {
     "languageId": "r"
    }
   },
   "outputs": [],
   "source": [
    "# loading clinical data\n",
    "clin_tcga <- read.table(file.path(data_tcga, \"liver\", \"clin\"), head = TRUE, sep = \"\\t\")\n",
    "clin_tcga <- gsub(\"-\", \"\\\\.\", clin$sampleID) # to match the sample names in the omics.\n",
    "colnames(clin_tcga)[1] <- \"sample\"\n",
    "clin_gep <-read.table(file.path(data_gep, \"clin\"), head = TRUE, sep =\"\\t\")\n",
    "colnames(clin_gep)[1] <- \"sample\"\n",
    "clin <- list(tcga = clin_tcga, gep = clin_gep)\n",
    "\n",
    "# define features of interest\n",
    "feat_gep <- c(\"Phenotype\", \"Age\", \"Sex\", \"Fibrosis\", \"Tumor.stage\", \"Tumor.size\")\n",
    "feat_tcga <- c(\"additional_pharmaceutical_therapy\", \"additional_radiation_therapy\",\n",
    "                \"age_at_initial_pathologic_diagnosis\", \"histological_type\", \"pathologic_stage\",\n",
    "                \"gender\", \"fibrosis_ishak_score\")\n",
    "feat <- list(tcga = feat_tcga, gep = feat_gep)\n",
    "\n",
    "# get mofa models\n",
    "mofa_tcga <- get(load(file.path(tcga_res, \"MOFA_liver_pca_both.Rda\")))\n",
    "mofa_gep <- get(load(file.path(gep_res, \"MOFA_liver_pca_both.Rda\")))\n",
    "\n",
    "#make sure missing values are NAs\n",
    "clin <- lapply(clin, function(df) {\n",
    "  df <- mutate_all(df, ~ ifelse(. == \"\", NA, .))\n",
    "  return(df)\n",
    "})\n",
    "\n",
    "# extract factors\n",
    "fct_tcga <- as.data.frame(get_factors(mofa_tcga)[[1]])\n",
    "fct_gep <- as.data.frame(get_factors(mofa_gep)[[1]])\n",
    "fct <- list(tcga = fct_tcga, gep = fct_gep)\n",
    "\n",
    "association <- Map(function(factors, clinical, features){\n",
    "  assoc <- clin_associaton(factors, clin = clinical, clin_feat = features,\n",
    "                           sample_label = \"sample\")\n",
    "  return(assoc)\n",
    "})\n",
    "\n",
    "save(association, file = file.path(tcga_res,\"liver_clin_feat_assoc_both.Rda\"))"
   ]
  },
  {
   "cell_type": "code",
   "execution_count": null,
   "metadata": {
    "vscode": {
     "languageId": "r"
    }
   },
   "outputs": [],
   "source": [
    "# plot\n",
    "p <- lapply(association, plot_clin_association)\n",
    "\n",
    "# Arrange the ggplot objects from the list 'p' in a grid\n",
    "p_combined <- do.call(grid.arrange, c(p, ncol = 1))\n",
    "\n",
    "ggsave(p_combined, file = file.path(figure_dir, \"liver_clin_feat_assoc_both.pdf\"))"
   ]
  }
 ],
 "metadata": {
  "kernelspec": {
   "display_name": "Python 3",
   "language": "python",
   "name": "python3"
  },
  "language_info": {
   "codemirror_mode": {
    "name": "ipython",
    "version": 3
   },
   "file_extension": ".py",
   "mimetype": "text/x-python",
   "name": "python",
   "nbconvert_exporter": "python",
   "pygments_lexer": "ipython3",
   "version": "3.9.7"
  }
 },
 "nbformat": 4,
 "nbformat_minor": 2
}
