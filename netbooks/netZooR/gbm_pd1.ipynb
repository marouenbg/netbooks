{
 "cells": [
  {
   "cell_type": "markdown",
   "metadata": {},
   "source": [
    "# Gene regulatory network analysis in Glioblastoma \n",
    "Authors: Camila Lopes-Ramos<sup>1</sup>, Marieke Kuijjer<sup>2</sup>\n",
    "\n",
    "<sup>1</sup> Department of Biostatistics, Harvard T.H. Chan School of Public Health, Boston, MA.\n",
    "\n",
    "<sup>2</sup> Centre for Molecular Medicine Norway, University of Oslo, Oslo, Norway.\n",
    "\n",
    "## Introduction\n",
    "This tutorial comes with our recent study of gene regulatory networks in Glioblastoma<sup>1</sup>. All the generated networks in this analysis are available in [GRAND database](https://grand.networkmedicine.org/cancers/).\n",
    "## Load packages\n",
    "\n",
    "This case stud can be run on the server by setting the followng parameter"
   ]
  },
  {
   "cell_type": "code",
   "execution_count": null,
   "metadata": {},
   "outputs": [],
   "source": [
    "runserver=1"
   ]
  },
  {
   "cell_type": "markdown",
   "metadata": {},
   "source": [
    "Which allows to point to data and files from the server. "
   ]
  },
  {
   "cell_type": "code",
   "execution_count": null,
   "metadata": {},
   "outputs": [],
   "source": [
    "if(runserver==1){\n",
    "    ppath='/opt/data/netZooR/gbm/'\n",
    "}"
   ]
  },
  {
   "cell_type": "markdown",
   "metadata": {},
   "source": [
    "We start first by loading the required packages. "
   ]
  },
  {
   "cell_type": "code",
   "execution_count": null,
   "metadata": {},
   "outputs": [],
   "source": [
    "library(limma)    # for differential targeting analysis\n",
    "library(reshape2) # for data processing\n",
    "library(ggplot2)  # for plotting\n",
    "library(tidyr)    # for data processing\n",
    "library(ggpubr)\n",
    "library(igraph)\n",
    "library(netZooR)  # to load SAMBAR and ALPACA\n",
    "library(GO.db)\n",
    "library(GOstats)\n",
    "library(dplyr)\n",
    "library(ggbeeswarm)\n",
    "library(ggrepel)\n",
    "library(topGO)    # for enrichement analysis"
   ]
  },
  {
   "cell_type": "markdown",
   "metadata": {},
   "source": [
    "## 1. Community structure comparison with ALPACA"
   ]
  },
  {
   "cell_type": "markdown",
   "metadata": {},
   "source": [
    "Here, we calculate differential communities between the long-term and short-term survival groups using ALPACA on the two discovery datasets. We also perform GO term enrichment analysis to determine whether the differential communities are enriched for biological processes, and output these in a heatmap. Finally, we draw ALPACA scores and highlight top TFs and target genes.\n",
    "\n",
    "This scripts loads the average individual-patient networks for the short-term and long-term survival groups. To get one network representing each patient subgroup, we took the mean of each edge weight in the single-sample networks of patients belonging to that subgroup (long-term or short-term survival). The complete single-sample networks (>30Gb of data) are available on [GRAND](https://grand.networkmedicine.org).\n",
    "\n",
    "Finally, please note that different versions of the GO term database may result in slightly different enrichment scores and pathways. In the manuscript, we used R version 3.2.3 and topGO version 2.22.0."
   ]
  },
  {
   "cell_type": "code",
   "execution_count": null,
   "metadata": {},
   "outputs": [],
   "source": [
    "# functions\n",
    "# check if ALPACA score of a TF/target gene is an outlier\n",
    "is_outlier <- function(x){\n",
    "\treturn(x!=\"no\")\n",
    "}\n",
    "# transform edge weights to positive values\n",
    "transform_avgnets<-function(n) {\n",
    "\tn<-log(exp(1)^n + 1)\n",
    "\tn\n",
    "}\n",
    "\n",
    "# directories\n",
    "setwd(\"../data/\")\n",
    "dir.create(\"data\")\n",
    "dir.create(\"results\")\n",
    "home_in <- \"data\"\n",
    "home_out <- \"results\"\n",
    "setwd(home_in)"
   ]
  },
  {
   "cell_type": "markdown",
   "metadata": {},
   "source": [
    "### 1.1. Run ALPACA comparing communities\n",
    "Discovery dataset 1"
   ]
  },
  {
   "cell_type": "code",
   "execution_count": null,
   "metadata": {},
   "outputs": [],
   "source": [
    "load(paste0(ppath,\"data/dat2_avgnets.RData\"))\n",
    "\n",
    "# Filter these networks for canonical edges, which are edges supported by a TFBS in the target gene's promoter\n",
    "prior_650 <- read.delim(paste0(ppath,\"data/motif.txt\"), header=F)\n",
    "prior_650<-prior_650[prior_650$V3==1,]\n",
    "row.names(prior_650)<-paste(prior_650$V1, prior_650$V2)\n",
    "row.names(avgnets)<-paste(avgnets$reg, avgnets$tar, sep=\" \")\n",
    "avgnets_prior<-avgnets[intersect(row.names(avgnets), row.names(prior_650)),]\n",
    "\n",
    "# Transform edge weight to positive weights, so that community structure detection can be run\n",
    "avgnets_prior$avg_gbm0<-(sapply(as.list(avgnets_prior[,3]), transform_avgnets))\n",
    "avgnets_prior$avg_gbm1<-(sapply(as.list(avgnets_prior[,4]), transform_avgnets))\n",
    "\n",
    "# Run CONDOR_ALPACA, comparing long- with short-term survival network communities\n",
    "setwd(\"..\")\n",
    "setwd(home_out)\n",
    "avgnets_condor_gbm<-avgnets_prior\n",
    "names(avgnets_condor_gbm)[1:2]<-c(\"tf\",\"gene\")\n",
    "dir.create(\"alpaca\")\n",
    "dat2_alpaca<-alpaca(avgnets_condor_gbm, \"alpaca/dat2\")\n",
    "\n",
    "# Run CONDOR_ALPACA, comparing short- with long-term survival network communities\n",
    "avgnets_condor_gbm<-avgnets_prior[,c(1,2,4,3)] # swap short-term and long-term survival columns\n",
    "names(avgnets_condor_gbm)[1:2]<-c(\"tf\",\"gene\")\n",
    "dat2_10_alpaca<-alpaca(avgnets_condor_gbm, \"alpaca/dat2_10\", verbose=F)"
   ]
  },
  {
   "cell_type": "markdown",
   "metadata": {},
   "source": [
    "Discovery dataset 2"
   ]
  },
  {
   "cell_type": "code",
   "execution_count": null,
   "metadata": {},
   "outputs": [],
   "source": [
    "setwd(\"../data\")\n",
    "load(paste0(ppath,\"data/dat3_avgnets.RData\"))\n",
    "\n",
    "# Filter these networks for canonical edges, which are edges supported by a TFBS in the target gene's promoter\n",
    "prior_650 <- read.delim(paste0(ppath,\"data/motif.txt\"), header=F)\n",
    "prior_650<-prior_650[prior_650$V3==1,]\n",
    "row.names(prior_650)<-paste(prior_650$V1, prior_650$V2)\n",
    "row.names(avgnets)<-paste(avgnets$reg, avgnets$tar, sep=\" \")\n",
    "avgnets_prior<-avgnets[intersect(row.names(avgnets), row.names(prior_650)),]\n",
    "\n",
    "# Transform edge weight to positive weights, so that community structure detection can be run\n",
    "avgnets_prior$avg_gbm0<-(sapply(as.list(avgnets_prior[,3]), transform_avgnets))\n",
    "avgnets_prior$avg_gbm1<-(sapply(as.list(avgnets_prior[,4]), transform_avgnets))\n",
    "\n",
    "# Run CONDOR_ALPACA, comparing long- with short-term survival network communities\n",
    "setwd(\"..\")\n",
    "setwd(home_out)\n",
    "avgnets_condor_gbm<-avgnets_prior\n",
    "names(avgnets_condor_gbm)[1:2]<-c(\"tf\",\"gene\")\n",
    "dat3_alpaca<-alpaca(avgnets_condor_gbm, \"alpaca/dat3\")\n",
    "\n",
    "# Run CONDOR_ALPACA, comparing short- with long-term survival network communities\n",
    "avgnets_condor_gbm<-avgnets_prior[,c(1,2,4,3)] # swap short-term and long-term survival columns\n",
    "names(avgnets_condor_gbm)[1:2]<-c(\"tf\",\"gene\")\n",
    "dat3_10_alpaca<-alpaca(avgnets_condor_gbm, \"alpaca/dat3_10\", verbose=F)"
   ]
  },
  {
   "cell_type": "markdown",
   "metadata": {},
   "source": [
    "### 1.2. GO enrichment on differential modules\n",
    "In this section, we will perform functional enrichment analysis on differential ALPACA<sup>5</sup> modules. However, since this step might take sometime, we can load precomputed results."
   ]
  },
  {
   "cell_type": "code",
   "execution_count": null,
   "metadata": {},
   "outputs": [],
   "source": [
    "loadprecomputed=1\n",
    "if(loadprecomputed == 1){\n",
    "    load(paste0(ppath,\"GOterm_results.RData\"))\n",
    "}else{\n",
    "    toevaluate <- c(\"dat2\", \"dat3\", \"dat2_10\", \"dat3_10\")\n",
    "\n",
    "    for(t in 1:length(toevaluate)){\n",
    "\n",
    "        # Load ALPACA scores and final communities\n",
    "        readscores <- paste(\"alpaca/\", toevaluate[t], \"_ALPACA_scores.txt\", sep=\"\")\n",
    "        readcomms <- paste(\"alpaca/\", toevaluate[t], \"_ALPACA_final_memb.txt\", sep=\"\")\n",
    "        scores <- read.delim(readscores, header=F)\n",
    "        comms <- read.delim(readcomms, header=F)\n",
    "        tosel <- intersect(scores[,1], comms[,1])\n",
    "        scores <- scores[which(scores[,1] %in% tosel),]\n",
    "        comms <- comms[which(comms[,1] %in% tosel),]\n",
    "        scores <- scores[order(scores[,1]),]\n",
    "        comms <- comms[order(comms[,1]),]\n",
    "        scores[,1] <- as.character(scores[,1])\n",
    "        comms[,1] <- as.character(comms[,1])\n",
    "        all(scores[,1]==comms[,1])\n",
    "        scores <- cbind(scores, comms[,2])\n",
    "        row.names(scores) <- scores[,1]\n",
    "        scores <- scores[,-1]\n",
    "        colnames(scores) <- c(\"score\", \"com\")\n",
    "\n",
    "        # Extract ALPACA scores for each of the target genes\n",
    "        alpaca_nodes <- row.names(scores)\n",
    "        table(substr(alpaca_nodes, nchar(alpaca_nodes), nchar(alpaca_nodes))) # 647 A (tf) 10698 B (gene)\n",
    "        idx <- which(substr(alpaca_nodes, nchar(alpaca_nodes), nchar(alpaca_nodes))==\"B\")\n",
    "        alpaca_genes <- scores[idx,]\n",
    "        alpaca_genes <- alpaca_genes[order(alpaca_genes[,2],decreasing=T),]\n",
    "        alpaca_genes <- alpaca_genes[,c(2,1)]\n",
    "\n",
    "        # Extract the top 50 genes in each community\n",
    "        for(n in 1:max(alpaca_genes$com)){\n",
    "            junk <- alpaca_genes[which(alpaca_genes$com==n),]\n",
    "            junk <- junk[order(junk$score,decreasing=T),]\n",
    "            if(nrow(junk)>50){\n",
    "                junk <- junk[1:50,]\n",
    "                if(n==1){\n",
    "                    newfile <- junk\n",
    "                } else {\n",
    "                    newfile <- rbind(newfile, junk)\n",
    "                }\n",
    "            }\n",
    "        }\n",
    "\n",
    "        # Prepare the background geneset for topGO\n",
    "        gene_lst<-substr(row.names(newfile), 1, nchar(row.names(newfile))-2)\n",
    "        newfile <- cbind(newfile, gene_lst)\n",
    "        alpaca_genes <- cbind(alpaca_genes, substr(row.names(alpaca_genes), 1, nchar(row.names(alpaca_genes))-2))\n",
    "        colnames(alpaca_genes)[3] <- \"genes\"\n",
    "\n",
    "        # GO term enrichment analysis for each community\n",
    "        GO2Symbol.bp <- annFUN.org(whichOnto = \"BP\", mapping = \"org.Hs.eg.db\", ID = \"symbol\")\n",
    "        symbol2GO.bp <- inverseList(GO2Symbol.bp)\n",
    "        enrichRes_comm <- c()\n",
    "        for(comm_num in as.numeric(names(table(newfile$com)))){\n",
    "            # select interesting genes and background\n",
    "            genesel <- as.character(newfile[newfile$com %in% comm_num,]$gene_lst)\n",
    "            interesting <- factor(as.integer(alpaca_genes$genes %in% genesel))\n",
    "            names(interesting) <- alpaca_genes$genes\n",
    "            # topGO results\n",
    "            tgd2<- new(\"topGOdata\", ontology = \"BP\", allGenes = interesting, nodeSize = 1 , annot = annFUN.gene2GO, gene2GO = symbol2GO.bp)\n",
    "            resultFisher = runTest(tgd2, algorithm=\"classic\", statistic=\"fisher\")\n",
    "            enrichRes.bp <- GenTable(tgd2, classic = resultFisher, orderBy = \"classic\", ranksOf = \"classic\", topNodes = length(score(resultFisher)))\n",
    "            # Keep GO terms with 10-100 genes, output top 10 terms per community\n",
    "            enrichRes.bp<-(subset(enrichRes.bp, enrichRes.bp$Annotated<100))\n",
    "            enrichRes.bp<-(subset(enrichRes.bp, enrichRes.bp$Annotated>10))\n",
    "            adjP_Fisher <- p.adjust(enrichRes.bp[,6],\"BH\")\n",
    "            commID<- rep(comm_num, rep(length(enrichRes.bp[,6])))\n",
    "            enrichRes.bp <- cbind(enrichRes.bp, adjP_Fisher, commID)\n",
    "            enrichRes_comm<-rbind(enrichRes_comm,enrichRes.bp[1:10,])\n",
    "            print(comm_num)\n",
    "        }\n",
    "\n",
    "        # Store significant results\n",
    "        govar <- paste(\"enrichRes_\", toevaluate[t], sep=\"\")\n",
    "        assign(govar, enrichRes_comm)\n",
    "\n",
    "        cat(\"Done running ALPACA on:\", toevaluate[t], \"\\n\\n\")\n",
    "\n",
    "    } # end loop over t\n",
    "}"
   ]
  },
  {
   "cell_type": "markdown",
   "metadata": {},
   "source": [
    "### 1.3. Visualize GO term enrichment results"
   ]
  },
  {
   "cell_type": "code",
   "execution_count": null,
   "metadata": {},
   "outputs": [],
   "source": [
    "prepare_go_per_datatype <- function(x, dataset=\"D1\"){\n",
    "\tcolnames(x)[ncol(x)] <- \"Community\"\t\n",
    "\tx$Community <- paste(dataset, x$Community, sep=\"_\")\n",
    "\tx <- x[which(x$adjP_Fisher<0.25 & x$Annotated<50),]\n",
    "\tsignexp <- x$Significant/x$Expected\n",
    "\tx <- cbind(x, signexp)\n",
    "\treturn(x)\n",
    "}\n",
    "res2 <- prepare_go_per_datatype(enrichRes_dat2, dataset=\"D1\")\n",
    "res2_10 <- prepare_go_per_datatype(enrichRes_dat2_10, dataset=\"D1\")\n",
    "res3 <- prepare_go_per_datatype(enrichRes_dat3, \"D2\")\n",
    "res3_10 <- prepare_go_per_datatype(enrichRes_dat3_10, \"D2\")"
   ]
  },
  {
   "cell_type": "markdown",
   "metadata": {},
   "source": [
    "Prepare both datasets into a dataframe for visualization in a heatmap"
   ]
  },
  {
   "cell_type": "code",
   "execution_count": null,
   "metadata": {},
   "outputs": [],
   "source": [
    "prepare_go_vis <- function(x, y){\n",
    "\t# combine both datasets\n",
    "\tdat <- rbind(x,y)\n",
    "\tdat <- dat[order(dat$signexp, decreasing=T),]\n",
    "\tdat <- dat[rev(1:nrow(dat)),]\n",
    "\tdat$Term <- factor(dat$Term, levels = unique(dat$Term))\n",
    "\t# add annotation on which of the discovery datasets the community belongs to\n",
    "\tdataset <- substr(dat$Community,1,2)\n",
    "\tdat <- cbind(dat, dataset)\n",
    "\tdat[which(dat$dataset==\"D1\"),]$signexp <- -dat[which(dat$dataset==\"D1\"),]$signexp\n",
    "\tdat <- cbind(dat, -log(dat$adjP_Fisher,10))\n",
    "\tcolnames(dat)[ncol(dat)] <- \"-logFDR\"\n",
    "    statistic <- dat$\"-logFDR\"*dat$signexp\n",
    "\tdat <- cbind(dat, statistic)\n",
    "\tdat$signexp[dat$signexp<(-40)] <- -40 # use a maximum threshold for color scale\n",
    "\tdat$signexp[dat$signexp>(40)] <- 40 # use a maximum threshold for color scale\n",
    "\treturn(dat)\n",
    "}\n",
    "toplot_01 <- suppressWarnings(prepare_go_vis(res2, res3))\n",
    "toplot_10 <- suppressWarnings(prepare_go_vis(res2_10, res3_10))"
   ]
  },
  {
   "cell_type": "markdown",
   "metadata": {},
   "source": [
    "Visualize enriched GO terms in the long-term vs short-term community structure comparison. \n",
    "\n",
    "First, we change community names for plotting. The order is arbitrary and based on the entire differential community structure analysis, which detects more communities. Here, we only want to visualize those communities with significant GO term enrichment, so we will change these names to M1, M2, etc for clarity"
   ]
  },
  {
   "cell_type": "code",
   "execution_count": null,
   "metadata": {},
   "outputs": [],
   "source": [
    "comname <- toplot_01$Community\n",
    "comname[which(comname==\"D1_10\")] <- \"D1_M2\"\n",
    "comname[which(comname==\"D1_11\")] <- \"D1_M1\"\n",
    "comname[which(comname==\"D2_10\")] <- \"D2_M1\"\n",
    "comname[which(comname==\"D2_13\")] <- \"D2_M2\"\n",
    "comname[which(comname==\"D2_16\")] <- \"D2_M3\"\n",
    "toplot_01$Community <- comname"
   ]
  },
  {
   "cell_type": "markdown",
   "metadata": {},
   "source": [
    "Sort and plot"
   ]
  },
  {
   "cell_type": "code",
   "execution_count": null,
   "metadata": {},
   "outputs": [],
   "source": [
    "newlevelorder <- toplot_01[,c(2,8,9)]\n",
    "newlevelorder$signexp <- abs(newlevelorder$signexp)\n",
    "newlevelorder <- newlevelorder[order(newlevelorder$signexp, decreasing=T),]\n",
    "newlevelorder <- newlevelorder[order(newlevelorder$Community),]\n",
    "newlevelorder <- as.character(unique(newlevelorder$Term))\n",
    "newlevelorder <- rev(newlevelorder)"
   ]
  },
  {
   "cell_type": "code",
   "execution_count": null,
   "metadata": {},
   "outputs": [],
   "source": [
    "#\tpdf(\"heatmap_long_vs_short_term.pdf\", w=6, h=3.5)\n",
    "ggplot(toplot_01, aes(Community, factor(Term, level=newlevelorder), fill=signexp))+\n",
    "    scale_fill_gradient2(low=\"purple\", high=\"darkgreen\", limits=c(-40,40))+\n",
    "    theme_bw()+\n",
    "    labs(x=\"Differential Module\", y=\"\")+\n",
    "    geom_tile()\n",
    "# dev.off()"
   ]
  },
  {
   "cell_type": "markdown",
   "metadata": {},
   "source": [
    "Now, we visualize enriched GO terms in the short-term vs long-term community structure comparison.\n",
    "\n",
    "First,we change community names for plotting (see above)."
   ]
  },
  {
   "cell_type": "code",
   "execution_count": null,
   "metadata": {},
   "outputs": [],
   "source": [
    "comname <- toplot_10$Community\n",
    "comname[which(comname==\"D1_13\")] <- \"D1_M1\"\n",
    "comname[which(comname==\"D1_15\")] <- \"D1_M2\"\n",
    "comname[which(comname==\"D2_11\")] <- \"D2_M1\"\n",
    "comname[which(comname==\"D2_14\")] <- \"D2_M2\"\n",
    "toplot_10$Community <- comname"
   ]
  },
  {
   "cell_type": "markdown",
   "metadata": {},
   "source": [
    "Sort and plot"
   ]
  },
  {
   "cell_type": "code",
   "execution_count": null,
   "metadata": {},
   "outputs": [],
   "source": [
    "newlevelorder <- toplot_10[,c(2,8,9)]\n",
    "newlevelorder$signexp <- abs(newlevelorder$signexp)\n",
    "newlevelorder <- newlevelorder[order(newlevelorder$signexp, decreasing=T),]\n",
    "newlevelorder <- newlevelorder[order(newlevelorder$Community),]\n",
    "newlevelorder <- as.character(unique(newlevelorder$Term))\n",
    "newlevelorder <- rev(newlevelorder)"
   ]
  },
  {
   "cell_type": "code",
   "execution_count": null,
   "metadata": {},
   "outputs": [],
   "source": [
    "#\tpdf(\"heatmap_long_vs_short_term.pdf\", w=6, h=3.5)\n",
    "ggplot(toplot_10, aes(Community, factor(Term, level=newlevelorder), fill=signexp))+\n",
    "\tscale_fill_gradient2(low=\"purple\", high=\"darkgreen\", limits=c(-40,40))+\n",
    "\ttheme_bw()+\n",
    "\tlabs(x=\"Differential Module\", y=\"\")+\n",
    "\tgeom_tile()\n",
    "# dev.off()"
   ]
  },
  {
   "cell_type": "markdown",
   "metadata": {},
   "source": [
    "## 1.4. Visualize top TFs and target genes based on ALPACA scores"
   ]
  },
  {
   "cell_type": "markdown",
   "metadata": {},
   "source": [
    "Load ALPACA scores and final communities"
   ]
  },
  {
   "cell_type": "code",
   "execution_count": null,
   "metadata": {},
   "outputs": [],
   "source": [
    "toreadscores <- function(x){\n",
    "    if(loadprecomputed == 1){\n",
    "        readscores <- paste(ppath,\"data/\", x, \"_ALPACA_scores.txt\", sep=\"\")\n",
    "        readcomms <- paste(ppath,\"data/\", x, \"_ALPACA_final_memb.txt\", sep=\"\")\n",
    "    }else{\n",
    "        readscores <- paste(\"../results/alpaca/\", x, \"_ALPACA_scores.txt\", sep=\"\")\n",
    "        readcomms <- paste(\"../results/alpaca/\", x, \"_ALPACA_final_memb.txt\", sep=\"\")\n",
    "    }\n",
    "\tscores <- read.delim(readscores, header=F)\n",
    "\tcomms <- read.delim(readcomms, header=F)\n",
    "\ttosel <- intersect(scores[,1], comms[,1])\n",
    "\tscores <- scores[which(scores[,1] %in% tosel),]\n",
    "\tcomms <- comms[which(comms[,1] %in% tosel),]\n",
    "\tscores <- scores[order(scores[,1]),]\n",
    "\tcomms <- comms[order(comms[,1]),]\n",
    "\tscores[,1] <- as.character(scores[,1])\n",
    "\tcomms[,1] <- as.character(comms[,1])\n",
    "\tall(scores[,1]==comms[,1])\n",
    "\tscores <- cbind(scores, comms[,2])\n",
    "\trow.names(scores) <- scores[,1]\n",
    "\tscores <- scores[,-1]\n",
    "\tcolnames(scores) <- c(\"score\", \"com\")\n",
    "\treturn(scores)\n",
    "}\n",
    "scores2_dat <- toreadscores(\"dat2\")\n",
    "scores3_dat <- toreadscores(\"dat3\")\n",
    "scores2_10_dat <- toreadscores(\"dat2_10\")\n",
    "scores3_10_dat <- toreadscores(\"dat3_10\")"
   ]
  },
  {
   "cell_type": "code",
   "execution_count": null,
   "metadata": {},
   "outputs": [],
   "source": [
    "prepare_vioplot <- function(scores2,scores3){\n",
    "\n",
    "\t# Intersect TFs and genes in both datasets\n",
    "\tscores2 <- scores2[order(row.names(scores2)),]\n",
    "\tscores3 <- scores3[order(row.names(scores3)),]\n",
    "\tnamesboth <- intersect(row.names(scores2), row.names(scores3))\n",
    "\tscores2 <- scores2[which(row.names(scores2) %in% namesboth),]\n",
    "\tscores3 <- scores3[which(row.names(scores3) %in% namesboth),]\n",
    "\tall(row.names(scores2)==row.names(scores3))\n",
    "\n",
    "\t# Select scores for TFs and target genes\n",
    "\ta <- row.names(scores2)\n",
    "\ta <- substr(a,nchar(a),nchar(a))\n",
    "\ttfidx <- which(a==\"A\")\n",
    "\tgeneidx <- which(a==\"B\")\n",
    "\n",
    "\t# Calculate the average ALPACA scores for discovery dataset 1 and 2\n",
    "\ttf2 <-scores2[tfidx,c(2,1)]\n",
    "\ttf3 <-scores3[tfidx,c(2,1)]\n",
    "\tgene2 <-scores2[geneidx,c(2,1)]\n",
    "\tgene3 <-scores3[geneidx,c(2,1)]\n",
    "\ttfmix <- cbind(tf2,tf3[,2])\n",
    "\ttfmix <- cbind(tfmix, apply(tfmix[,2:3], 1, mean))\n",
    "\tcolnames(tfmix) <- c(\"TF\",\"dat2score\",\"dat3score\",\"meanscore\")\n",
    "\ttfmix[,1] <- as.character(tfmix[,1])\n",
    "\ttfmix[,1] <- substr(row.names(tfmix), 1, nchar(row.names(tfmix))-2)\n",
    "\tgenemix <- cbind(gene2,gene3[,2])\n",
    "\tgenemix <- cbind(genemix, apply(genemix[,2:3],1,mean))\n",
    "\tcolnames(genemix) <- c(\"Gene\",\"dat2score\",\"dat3score\",\"meanscore\")\n",
    "\tgenemix[,1] <- as.character(genemix[,1])\n",
    "\tgenemix[,1] <- substr(row.names(genemix), 1, nchar(row.names(genemix))-2)\n",
    "\ttfmix <- tfmix[order(tfmix$meanscore, decreasing=F),]\n",
    "\tgenemix <- genemix[order(genemix$meanscore, decreasing=F),]\n",
    "\ttfmix <- tfmix[order(tfmix$meanscore, decreasing=T),]\n",
    "\tgenemix <- genemix[order(genemix$meanscore, decreasing=T),]\n",
    "\n",
    "\t# Select TFs and genes to highlight based on threshold (1.5xIQR for TFs, 3xIQR for target genes)\n",
    "\ttflog <- log(tfmix$meanscore,10)\n",
    "\ttflogthres <- median(tflog)+1.5*IQR(tflog)\n",
    "\tgenelogorig <- log(genemix$meanscore,10)\n",
    "\tgenelog <- genelogorig[which(!is.na(genelogorig))] # there are a few NAs as some of these values are very close to 0, remove these\n",
    "\tgenelogthres <- median(genelog)+3*IQR(genelog)\n",
    "\tgenemixnona <- genemix[which(!is.na(genelogorig)),] # remove NAs from the original data as well\n",
    "\n",
    "\t# Flag significant TFs and target genes for visualization purposes\n",
    "\ttfnames <- tfmix$TF\n",
    "\tgenenames <- genemix$Gene\n",
    "\ttfsign <- rep(\"no\", length(tfnames))\n",
    "\ttfsign[which(tflog>tflogthres)] <- \"sign\"\n",
    "\tgenesign <- rep(\"no\", length(genenames))\n",
    "\tgenesign[which(genelogorig>genelogthres)] <- \"sign\"\n",
    "\n",
    "\t# Plot\n",
    "\tviodat <- rbind(cbind(tflog, \"TF\", tfnames, tfsign), cbind(genelog, \"Gene\", genenames, genesign))\n",
    "\tviodat <- as.data.frame(viodat)\n",
    "\tcolnames(viodat) <- c(\"score\",\"type\",\"node\",\"sign\")\n",
    "\tviodat[,1] <- as.numeric(as.character(viodat[,1]))\n",
    "\tviodat2 <- as.matrix(viodat)\n",
    "\tidx <- viodat2[,4]==\"sign\"\n",
    "\tviodat2[idx,4] <- viodat2[idx,3]\n",
    "\tviodat2[!idx,4] <- \"\"\n",
    "\tviodat2 <- as.data.frame(viodat2)\n",
    "\tviodat2[,1] <- as.numeric(as.character(viodat2[,1]))\n",
    "\tviodat2[,2] <- factor(viodat2[,2], levels=c(\"TF\",\"Gene\"))\n",
    "\n",
    "    return(viodat2)\n",
    "\n",
    "}"
   ]
  },
  {
   "cell_type": "markdown",
   "metadata": {},
   "source": [
    "Plot ALPACA scores of the long-term vs short-term comparison"
   ]
  },
  {
   "cell_type": "code",
   "execution_count": null,
   "metadata": {},
   "outputs": [],
   "source": [
    "options(ggrepel.max.overlaps = Inf)\n",
    "viodat2 <- prepare_vioplot(scores2=scores2_dat, scores3=scores3_dat)\n",
    "#pdf(\"vioplot_long_vs_shortterm.pdf\", w=12, h=8)\n",
    "\tviodat2 %>%\n",
    "\t\tgroup_by(type) %>%\n",
    "            mutate(outlier = ifelse(is_outlier(sign), node, as.numeric(NA))) %>%\n",
    "                ggplot(mapping=aes(type, score))+\n",
    "                    geom_quasirandom(aes(color=viodat2$type))+\n",
    "\t\t\t\t\tgeom_text_repel(aes(label = sign), size = 3, box.padding = unit(0.35, \"lines\"), point.padding = unit(0.3, \"lines\"))+\n",
    "\t\t\t\t\ttheme_classic(base_size = 25)+\n",
    "\t\t\t\t\tscale_color_manual(values=c(\"#E69F00\", \"#56B4E9\"))+\n",
    "\t\t\t\t\ttheme(legend.position = \"none\")+\n",
    "\t\t\t\t\tlabs(x=\"\", y=\"Log10 diff. modularity score\")\n",
    "\t#dev.off()"
   ]
  },
  {
   "cell_type": "markdown",
   "metadata": {},
   "source": [
    "Plot ALPACA scores of the short-term vs long-term comparison"
   ]
  },
  {
   "cell_type": "code",
   "execution_count": null,
   "metadata": {},
   "outputs": [],
   "source": [
    "viodat2 <- prepare_vioplot(scores2=scores2_10_dat, scores3=scores3_10_dat)\n",
    "#pdf(\"vioplot_short_vs_longterm.pdf\", w=12, h=8)\n",
    "\tviodat2 %>%\n",
    "\t\tgroup_by(type) %>%\n",
    "\t\t\tmutate(outlier = ifelse(is_outlier(sign), node, as.numeric(NA))) %>%\n",
    "                ggplot(mapping=aes(type, score))+\n",
    "                    geom_quasirandom(aes(color=viodat2$type))+\n",
    "\t\t\t\t\tgeom_text_repel(aes(label = sign), size = 3, box.padding = unit(0.35, \"lines\"), point.padding = unit(0.3, \"lines\"))+\n",
    "\t\t\t\t\ttheme_classic(base_size = 25)+\n",
    "\t\t\t\t\tscale_color_manual(values=c(\"#E69F00\", \"#56B4E9\"))+\n",
    "\t\t\t\t\ttheme(legend.position = \"none\")+\n",
    "\t\t\t\t\tlabs(x=\"\", y=\"Log10 diff. modularity score\")\n",
    "\t#dev.off()"
   ]
  },
  {
   "cell_type": "markdown",
   "metadata": {},
   "source": [
    "## 2. Differential regulation analysis"
   ]
  },
  {
   "cell_type": "markdown",
   "metadata": {},
   "source": [
    "Here, we will perform a differential regulation analysis using LIMMA, and then perform Gene Set Enrichment Analysis to identify pathways differentially regulated between long- and short-term survivors. We will do this first for the discovery datasets and then for the validation dataset."
   ]
  },
  {
   "cell_type": "code",
   "execution_count": null,
   "metadata": {},
   "outputs": [],
   "source": [
    "# Functions\n",
    "'%ni%' <- Negate('%in%')"
   ]
  },
  {
   "cell_type": "markdown",
   "metadata": {},
   "source": [
    "Load data"
   ]
  },
  {
   "cell_type": "code",
   "execution_count": null,
   "metadata": {},
   "outputs": [],
   "source": [
    "load(paste0(ppath,\"allpats_gbm0_gbm1.RData\"))\n",
    "load(paste0(ppath,\"clinfull.RData\"))"
   ]
  },
  {
   "cell_type": "markdown",
   "metadata": {},
   "source": [
    "General settings"
   ]
  },
  {
   "cell_type": "code",
   "execution_count": null,
   "metadata": {},
   "outputs": [],
   "source": [
    "datatype <- c(\"dat2\", \"dat3\")\n",
    "covariates <- \"ageneosex\""
   ]
  },
  {
   "cell_type": "markdown",
   "metadata": {},
   "source": [
    "GSEA settings"
   ]
  },
  {
   "cell_type": "code",
   "execution_count": null,
   "metadata": {},
   "outputs": [],
   "source": [
    "escut <- 0.5\n",
    "fdrcut <- 0.05\n",
    "sizecut <- 50\n",
    "\n",
    "signaturename <- paste0(ppath,\"c2.cp.reactome.v5.0.symbols.gmt\") # signature db you want to test\n",
    "signnamelength <- 8 # set to remove prefix from signature names (8 for \"REACTOME\")\n",
    "charcut <- 40 # cut signature name in heatmap to this nr of characters\n",
    "nriter <- 1000 # number of iterations in GSEA\n",
    "dencol_neg <- \"red\" # bubble plot color for negative ES\n",
    "dencol_pos <- \"blue\" # bubble plot color for positive ES\n",
    "asp <- 3 # aspect ratio of bubble plot"
   ]
  },
  {
   "cell_type": "markdown",
   "metadata": {},
   "source": [
    "Settings to generate a symmetric color key for the bubble plot"
   ]
  },
  {
   "cell_type": "code",
   "execution_count": null,
   "metadata": {},
   "outputs": [],
   "source": [
    "breaksdist <- 0.05 # distance of breaks in the values defining the color palette\n",
    "fdrcutheat <- -log(0.25,10) # values above this threshold will be plotted in white\n",
    "maxrange <- 4 # absolute values above this threshold will visualized with the same color\n",
    "allrange <- maxrange*2\n",
    "breaks1 <- c(seq(from=-maxrange, to=maxrange, by=breaksdist))\n",
    "breakscut <- log(fdrcutheat, 10)\n",
    "breakscut <- round(breakscut/breaksdist)*breaksdist # round so that it becomes part of the range\n",
    "breakslen <- length(which(breaks1<breakscut))+1\n",
    "mypalette1a <- colorRampPalette(c(\"blue\",\"white\"), space=\"rgb\")(breakslen)\n",
    "mypalette1b <- colorRampPalette(c(\"white\",\"red\"), space=\"rgb\")(breakslen)\n",
    "mypalette1w <- rep(\"#FFFFFF\", length(breaks1)-2*breakslen-1) # white\n",
    "mypalette1 <- c(mypalette1a,mypalette1w,mypalette1b)"
   ]
  },
  {
   "cell_type": "markdown",
   "metadata": {},
   "source": [
    "### 2.1. Differential targeting analysis with LIMMA on the discovery datasets"
   ]
  },
  {
   "cell_type": "markdown",
   "metadata": {},
   "source": [
    "Here, we will perform a LIMMA analysis to compare gene targeting scores in long-term survivors with those in short-term survivors, correcting for the patient's age at diagnosis of the primary tumor, their sex, and whether they were treated with neo-adjuvant therapy or not. We will do this for the two discovery datasets and will save the t-statistics from the LIMMA toptable in a .rnk file that can be used as input for GSEA"
   ]
  },
  {
   "cell_type": "code",
   "execution_count": null,
   "metadata": {},
   "outputs": [],
   "source": [
    "for(d in 1:length(datatype)){\n",
    "\t# load the gene targeting scores (degrees)\n",
    "\t\ttoload <- paste(ppath, datatype[d], \"_degree.RData\", sep=\"\")\n",
    "\t\tload(toload)\n",
    "\n",
    "\t# prepare data for limma\n",
    "\t\tsamples <- colnames(indegree)\n",
    "\t\tsamples <- samples[which(samples %in% row.names(clinfull))]\n",
    "\t\tsamples <- samples[which(samples %in% c(gbm0, gbm1))]\n",
    "\t\tsubsamples <- row.names(clinfull[which(!is.na(clinfull$yearstobirth) & !is.na(clinfull$yearstobirth) & !is.na(clinfull$neoadjuvanttherapy) & !is.na(clinfull$gender)),])\n",
    "\t\tsubsamples <- samples[which(samples %in% subsamples)]\n",
    "\n",
    "\t# prepare data and limma groups\n",
    "\t\tgroup0 <- gbm0[which(gbm0 %in% subsamples)]\n",
    "\t\tgroup1 <- gbm1[which(gbm1 %in% subsamples)]\n",
    "\t    targets0 <- cbind(group0, \"group0\")\n",
    "\t    targets1 <- cbind(group1, \"group1\")\n",
    "\t    targets <- rbind(targets0, targets1)\n",
    "\t    targets <- targets[order(targets[,1]),]\n",
    "\t    group <- factor(targets[,2])\n",
    "\t\tdat <- indegree[,which(colnames(indegree) %in% targets[,1])]\n",
    "\t\tdat <- dat[,order(as.character(colnames(dat)))]\n",
    "\n",
    "\t# make the limma design matrix\n",
    "\t\tclinsel <- clinfull[which(row.names(clinfull) %in% targets[,1]),]\n",
    "\t\tgender <- as.factor(as.character(clinsel$gender))\n",
    "\t\tneo <- as.factor(as.character(clinsel$neoadjuvanttherapy))\n",
    "\t\tage <- as.numeric(as.character(clinsel$yearstobirth))\n",
    "\t\tdesign <- model.matrix(~group+age+neo+gender)\n",
    "\t\n",
    "\t# check if the minimum group size includes >10 samples, if so, run limma\n",
    "\t\ttocheck <- design[,which(colnames(design)!=\"age\")]\n",
    "\t\tmingroup <- rep(NA, length=(ncol(tocheck)-1))\n",
    "\t\tfor(e in 2:ncol(tocheck)){\n",
    "\t\t\tmingroup[e-1] <- min(table(tocheck[,e]))\n",
    "\t\t}\n",
    "\t\tif(min(mingroup)>10){\n",
    "\t\t\tfit <- eBayes(lmFit(dat, design))\n",
    "\t\t\ttoptable <- topTable(fit, coef=\"groupgroup1\", number=Inf)\n",
    "\t\t\ttoptable <- toptable[order(row.names(toptable)),]\n",
    "\t\t\ttopfile <- paste(\"toptable\", datatype[d], covariates, sep=\"_\")\n",
    "\t\t\tassign(topfile, toptable)\n",
    "\t\t\trnkdat <- toptable\n",
    "\t\t\trnkdat <- rnkdat[order(abs(rnkdat$t),decreasing=T),]\n",
    "\t\t\trnkfile <- paste(\"../data/\", datatype[d], \".rnk\", sep=\"\")\n",
    "\t\t\twrite.table(cbind(row.names(rnkdat),rnkdat$t), rnkfile, sep=\"\\t\", quote=F, row.names=F, col.names=F)\n",
    "\n",
    "\t\t} else {\n",
    "\t\t\tcat(paste(datatype[d], covariates, \": covariate group size too small \\n\", sep=\"\") )\n",
    "\t\t}# end if mingroup>10\n",
    "\n",
    "\tprint(d)\n",
    "} # end loop over datatype"
   ]
  },
  {
   "cell_type": "markdown",
   "metadata": {},
   "source": [
    "### 2.2. GSEA on the discovery datasets"
   ]
  },
  {
   "cell_type": "markdown",
   "metadata": {},
   "source": [
    "Now, we will run GSEA analysis. We will output the pathways that are significantly differentially regulated in both datasets"
   ]
  },
  {
   "cell_type": "code",
   "execution_count": null,
   "metadata": {},
   "outputs": [],
   "source": [
    "currPath=getwd()\n",
    "setwd(\"../data/\")\n",
    "dir.create(\"gsea\", showWarnings=F) # list dirs with \"rnk\"\n",
    "rnkfiles <- list.files(pattern=\"rnk\")\n",
    "for(rnkfile in rnkfiles){\n",
    "    gseaname <- substr(rnkfile, 1, nchar(rnkfile)-4)\n",
    "    assign(gseaname, paste(\"java -Xmx4096m -cp ../gsea2-2.0.13.jar xtools.gsea.GseaPreranked -gmx ../\", signaturename, \" -collapse false -mode Max_probe -norm meandiv -nperm \", nriter, \" -rnk \", rnkfile, \" -scoring_scheme weighted -rpt_label \", gseaname, \" -include_only_symbols true -make_sets true -plot_top_x 0 -rnd_seed timestamp -set_max 250 -set_min 1 -zip_report false -out gsea/ -gui false\", sep=\"\"))\n",
    "    system(eval(parse(text=gseaname)))\n",
    "} # end loop over rnkfiles"
   ]
  },
  {
   "cell_type": "markdown",
   "metadata": {},
   "source": [
    "### 2.3. Make bubble plot"
   ]
  },
  {
   "cell_type": "markdown",
   "metadata": {},
   "source": [
    "We will now make a bubble plot to visualize the intersection of the pathways identified in both discovery datasets (Figure 3<sup>1</sup>). Note that GSEA is not deterministic and may therefore return slightly different pathways each time it is run. Below, we will provide the original files from GSEA, but also provide code to plot based on the newly run GSEA"
   ]
  },
  {
   "cell_type": "code",
   "execution_count": null,
   "metadata": {},
   "outputs": [],
   "source": [
    "# setwd(\"gsea\") # If you want to run the plot on the newly run GSEA analysis, uncomment this line and comment out the next\n",
    "setwd(paste0(ppath,\"gsea_original_reports\")) # This loads the results from the original GSEA\n",
    "gseadirlist <- list.dirs(recursive=F)\n",
    "\n",
    "for(d in 1:length(gseadirlist)){\n",
    "  setwd(gseadirlist[d])\n",
    "  gseafiles <- list.files(pattern=\"gsea_report\") # gsea outputs .html and .xls files for signatures with positive and negative enrichment scores\n",
    "  neg <- read.delim(gseafiles[2]) # signatures with negative enrichment scores\n",
    "  pos <- read.delim(gseafiles[4]) # signatures with positive enrichment scores\n",
    "  gsea <- rbind(neg, pos) # combine the signatures\n",
    "  dat <- gsea[,c(1,4,5,8)] # keep these columns (contain signature name, size, nominal p-value, and FDR)\n",
    "  dat <- dat[order(as.character(dat[,1])),] # order the signatures alphabetically\n",
    "  signsignatures <- as.character(dat[which(dat$FDR.q.val<fdrcut & abs(dat$ES)>escut & dat$SIZE<sizecut),1]) # significant signatures in this dataset\n",
    "  datsign <- dat[which(dat$FDR.q.val<fdrcut & abs(dat$ES)>escut & dat$SIZE<sizecut),]\n",
    "\n",
    "  analysisname <- gseadirlist[d]\n",
    "  datname <- strsplit(analysisname, \"/\")\n",
    "  datname <- datname[[1]][length(datname[[1]])-3]\n",
    "  analysisname <- strsplit(analysisname, \"\\\\.\")[[1]][2]\n",
    "\tanalysisname <- substr(analysisname, 2, nchar(analysisname))\n",
    "\n",
    "\tdatsignname <- paste(analysisname, \"sign\", sep=\"\")\n",
    "\tassign(datsignname, datsign)\n",
    "\n",
    "  cat(datname, analysisname, \":\", length(signsignatures), \"\\n\")\n",
    "  if(d==1){\n",
    "  \tintsign <- signsignatures\n",
    "  } else {\n",
    "  \tintsign <- intersect(intsign, signsignatures)\n",
    "  }\n",
    "  cat(\"\\n\")\n",
    "  setwd(\"..\")\n",
    "}\n",
    "cat(\"Significant signatures in both discovery datasets:\\n\")\n",
    "print(intsign)"
   ]
  },
  {
   "cell_type": "markdown",
   "metadata": {},
   "source": [
    "Prepare the intersection of the significant results for the double bubble plot"
   ]
  },
  {
   "cell_type": "code",
   "execution_count": null,
   "metadata": {},
   "outputs": [],
   "source": [
    "test2 <- dat2sign[which(dat2sign$NAME %in% intsign),]\n",
    "test3 <- dat3sign[which(dat3sign$NAME %in% intsign),]\n",
    "all(test2$NAME==test3$NAME)\n",
    "dat <- cbind(test2, test3[,2:4])"
   ]
  },
  {
   "cell_type": "markdown",
   "metadata": {},
   "source": [
    "Substitute the row names with something more readable"
   ]
  },
  {
   "cell_type": "code",
   "execution_count": null,
   "metadata": {},
   "outputs": [],
   "source": [
    "a <- as.character(dat[,1]) \n",
    "for (j in 1:length(a)){\n",
    "      a[j] <- substr(a[j], signnamelength+2, nchar(a[j]))\n",
    "}\n",
    "a <- tolower(a)\n",
    "for (j in 1:length(a)){\n",
    "      if(nchar(a[j])>charcut) { a[j] <- paste(substr(a[j], 1, charcut), \"...\", sep=\" \")}\n",
    "}\n",
    "a <- gsub(\"_\", \" \", a)\n",
    "dat[,1] <- a"
   ]
  },
  {
   "cell_type": "markdown",
   "metadata": {},
   "source": [
    "Prepare the data in the right format for plotting with ggplot2"
   ]
  },
  {
   "cell_type": "code",
   "execution_count": null,
   "metadata": {},
   "outputs": [],
   "source": [
    "datnew <- dat[which(dat$ES<0),] # In the original GSEA analysis, there were only 7 pathways, all highly targeted in the long-term survival group (negative ES score). However, GSEA is not deterministic, and rerunning it may return slightly different pathways. Here, we will remove those highly targeted in the short-term survival group for simplicity\n",
    "datnew <- datnew[order(datnew[,4]),] # FDR.q.val\n",
    "datnew$signature <- factor(datnew$NAME, rev(as.character(datnew$NAME)))\n",
    "datnew2 <- datnew[,c(1:4,8)]\n",
    "datnew3 <- datnew[,c(1,5:8)]\n",
    "datnew <- rbind(datnew2, datnew3)"
   ]
  },
  {
   "cell_type": "markdown",
   "metadata": {},
   "source": [
    "Log transform the FDR and give it a sign based on the direction of the differential regulation"
   ]
  },
  {
   "cell_type": "code",
   "execution_count": null,
   "metadata": {},
   "outputs": [],
   "source": [
    "fdrnew <- -log(datnew$FDR.q.val, 10)\n",
    "fdrnew[which(fdrnew>5)] <- 5 # set to 5 for visualization purposes\n",
    "fdrnew[which(datnew$ES<0)] <- -(fdrnew[which(datnew$ES<0)])\n",
    "datnew$FDR.q.val <- fdrnew\n",
    "colnames(datnew)[4] <- \"logFDR\"\n",
    "datnewsub <- datnew[1:(nrow(datnew)/2),]\n",
    "datnew <- datnew[rev(1:nrow(datnew)),] # reverse these labels\n",
    "datnew$signature <- factor(datnew$signature, as.character(datnew$signature[1:(nrow(datnew)/2)]))"
   ]
  },
  {
   "cell_type": "markdown",
   "metadata": {},
   "source": [
    "Here we will sort the rows to visually improve the bubble plot"
   ]
  },
  {
   "cell_type": "code",
   "execution_count": null,
   "metadata": {},
   "outputs": [],
   "source": [
    "d1 <- datnewsub[which(datnewsub$ES<0),]\n",
    "d2 <- datnewsub[which(datnewsub$ES>0),]\n",
    "\n",
    "d1 <- d1[order(d1$ES),]\n",
    "d2 <- d2[order(d2$ES, decreasing=T),]\n",
    "d <- rbind(d1,d2)\n",
    "\n",
    "datnewsub <- datnew[1:(nrow(datnew)/2),]\n",
    "dsuborder <- d[,1]\n",
    "dorder <- rep(NA, length(dsuborder))\n",
    "for(i in 1:length(dorder)){\n",
    "    dorder[i] <- which(datnewsub[,1]==dsuborder[i])\n",
    "}\n",
    "\n",
    "datnew7 <- datnew[c(dorder, dorder+(nrow(datnew)/2)),]\n",
    "datnew7 <- datnew7[rev(1:nrow(datnew7)),]\n",
    "datnew7$signature <- factor(datnew7$signature, as.character(datnew7$signature[1:(nrow(datnew7)/2)]))\n",
    "\n",
    "datnewinv <- datnew7\n",
    "datnewinv$ES <- -datnewinv$ES\n",
    "datnewinv$logFDR <- -datnewinv$logFDR\n",
    "l1 <- 0.18; l2 <- 0.25 # position of legend in plot  "
   ]
  },
  {
   "cell_type": "markdown",
   "metadata": {},
   "source": [
    "Render the bubble plot"
   ]
  },
  {
   "cell_type": "code",
   "execution_count": null,
   "metadata": {},
   "outputs": [],
   "source": [
    "#pdf(\"bubble_plot.pdf\", h=4, w=12)\n",
    "g<-ggplot(datnewinv, aes(x=ES,y=signature,size=SIZE))\n",
    "    print(g+geom_point(aes(fill=logFDR), shape=21, colour=\"white\")+\n",
    "    theme_bw()+ # white background, needs to be placed before the \"signcol\" line\n",
    "    xlim(0,1)+ # OBS! match sign01\n",
    "    scale_size_area(max_size=10,guide=\"none\")+\n",
    "    #scale_fill_gradient2(low=dencol_neg, high=dencol_pos, limits=c(-3.1,3.1))+\n",
    "    scale_fill_gradient2(low=\"white\", high=dencol_pos, limits=c(0,3)+\n",
    "    theme(axis.text.y = element_text(size=rel(1.6)))+\n",
    "    theme(aspect.ratio=1.5, axis.title.y=element_blank(), legend.position=c(l1,l2)) # test\n",
    "    ) # rel: relative y-axis text size\n",
    ")\n",
    "#dev.off()"
   ]
  },
  {
   "cell_type": "markdown",
   "metadata": {},
   "source": [
    "Finally, the [Cytoscape](https://cytoscape.org/) file to reproduce the network on the discovery dataset (Figure 4<sup>1</sup>) is hosted at Zenodo, [DOI: 10.5281/zenodo.4651672](https://zenodo.org/record/4651672#.YGYSLBNKiL8)."
   ]
  },
  {
   "cell_type": "markdown",
   "metadata": {},
   "source": [
    "## 2.4. Differential targeting analysis with LIMMA on the validation dataset\n",
    "Here, we will run differential targeting analysis with LIMMA on the validation dataset from the German Glioma Network, comparing the short-term with the long-term survival group"
   ]
  },
  {
   "cell_type": "markdown",
   "metadata": {},
   "source": [
    "Load the clinical data from the German Glioma Network"
   ]
  },
  {
   "cell_type": "code",
   "execution_count": null,
   "metadata": {},
   "outputs": [],
   "source": [
    "clinfull <- read.delim(paste0(ppath,\"survival_info.txt\"), header=F)\n",
    "idxpoor <- grep(\"short-term\", clinfull[,2])\n",
    "idxmed <- grep(\"intermediate\", clinfull[,2])\n",
    "idxgood <- grep(\"long-term\", clinfull[,2])\n",
    "clinfull <- as.matrix(clinfull)\n",
    "clinfull[idxpoor,2] <- \"poor\"\n",
    "clinfull[idxmed,2] <- \"intermediate\"\n",
    "clinfull[idxgood,2] <- \"good\""
   ]
  },
  {
   "cell_type": "markdown",
   "metadata": {},
   "source": [
    "Load the gene targeting scores (degrees)"
   ]
  },
  {
   "cell_type": "code",
   "execution_count": null,
   "metadata": {},
   "outputs": [],
   "source": [
    "datatype <- c(datatype, \"ggn\"); d<-3;\n",
    "toload <- paste(ppath, datatype[d], \"_degree.RData\", sep=\"\")\n",
    "load(toload)"
   ]
  },
  {
   "cell_type": "markdown",
   "metadata": {},
   "source": [
    "Prepare input data for LIMMA analysis"
   ]
  },
  {
   "cell_type": "code",
   "execution_count": null,
   "metadata": {},
   "outputs": [],
   "source": [
    "analysistype <- \"poorintgood\"\n",
    "group0 <- clinfull[which(clinfull[,2]==\"good\"),1]\n",
    "groupm <- clinfull[which(clinfull[,2]==\"intermediate\"),1]\n",
    "group1 <- clinfull[which(clinfull[,2]==\"poor\"),1]\n",
    "targets0 <- cbind(group0, \"group0\")\n",
    "targetsm <- cbind(groupm, \"groupm\")\n",
    "targets1 <- cbind(group1, \"group1\")\n",
    "inputdata <- \"indegree\"\n",
    "datatouse <- eval(parse(text=inputdata))\n",
    "targets <- rbind(targets0, targetsm, targets1)\n",
    "targets <- targets[order(targets[,1]),]\n",
    "group <- factor(targets[,2])\n",
    "dat <- datatouse[,which(colnames(datatouse) %in% targets[,1])]\n",
    "dat <- dat[,order(as.character(colnames(dat)))]\n",
    "clinsel <- clinfull[which(clinfull[,1] %in% targets[,1]),]"
   ]
  },
  {
   "cell_type": "markdown",
   "metadata": {},
   "source": [
    "Perform LIMMA analysis"
   ]
  },
  {
   "cell_type": "code",
   "execution_count": null,
   "metadata": {},
   "outputs": [],
   "source": [
    "design <- model.matrix(~0+group)\n",
    "contrast.matrix <- makeContrasts(groupgroup1-groupgroup0, groupgroup1-groupgroupm, groupgroupm-groupgroup0, levels=design)\n",
    "fit <- lmFit(dat, design)\n",
    "fit2 = contrasts.fit(fit, contrast.matrix)\n",
    "fit2e = eBayes(fit2)\n",
    "toptable <- topTable(fit2e, number=Inf)\n",
    "toptable10 <- topTable(fit2e, coef=1, number=Inf) # compare short-term with long-term survival"
   ]
  },
  {
   "cell_type": "markdown",
   "metadata": {},
   "source": [
    "Save t-statistic in .rnk file for GSEA"
   ]
  },
  {
   "cell_type": "code",
   "execution_count": null,
   "metadata": {},
   "outputs": [],
   "source": [
    "setwd(currPath)\n",
    "rnkdat10 <- cbind(row.names(toptable10), toptable10$t)\n",
    "rnkname10 <- paste(\"../data/ggn.rnk\")\n",
    "write.table(rnkdat10, rnkname10, sep=\"\\t\", quote=F, row.names=F, col.names=F)"
   ]
  },
  {
   "cell_type": "markdown",
   "metadata": {},
   "source": [
    "## 2.5. GSEA on the validation dataset"
   ]
  },
  {
   "cell_type": "markdown",
   "metadata": {},
   "source": [
    "We will now run GSEA on the ranked t-statistics obtained from the LIMMA analysis above"
   ]
  },
  {
   "cell_type": "code",
   "execution_count": null,
   "metadata": {},
   "outputs": [],
   "source": [
    "setwd(\"../data/\")\n",
    "dir.create(\"gsea\", showWarnings=F) # list dirs with \"rnk\"\n",
    "rnkfiles <- list.files(pattern=\"rnk\")\n",
    "rnkfile <- rnkfiles[3]\n",
    "gseaname <- substr(rnkfile, 1, nchar(rnkfile)-4)\n",
    "assign(gseaname, paste(\"java -Xmx4096m -cp ../gsea2-2.0.13.jar xtools.gsea.GseaPreranked -gmx ../\", signaturename, \" -collapse false -mode Max_probe -norm meandiv -nperm \", nriter, \" -rnk \", rnkfile, \" -scoring_scheme weighted -rpt_label \", gseaname, \" -include_only_symbols true -make_sets true -plot_top_x 0 -rnd_seed timestamp -set_max 250 -set_min 1 -zip_report false -out gsea/ -gui false\", sep=\"\"))\n",
    "system(eval(parse(text=gseaname)))"
   ]
  },
  {
   "cell_type": "markdown",
   "metadata": {},
   "source": [
    "Note that GSEA is not deterministic and may therefore return slightly different pathways each time it is run. Below, we will provide the original files from GSEA, but also provide code to plot based on the newly run GSEA"
   ]
  },
  {
   "cell_type": "code",
   "execution_count": null,
   "metadata": {},
   "outputs": [],
   "source": [
    "setwd(paste0(ppath,\"gsea_original_reports_validation\")) # This loads the results from the original GSEA\n",
    "gseadirlist <- list.dirs(recursive=F)\n",
    "d=1"
   ]
  },
  {
   "cell_type": "code",
   "execution_count": null,
   "metadata": {},
   "outputs": [],
   "source": [
    "setwd(gseadirlist[d])\n",
    "gseafiles <- list.files(pattern=\"gsea_report\") # gsea outputs .html and .xls files for signatures with positive and negative enrichment scores\n",
    "neg <- read.delim(gseafiles[2]) # signatures with negative enrichment scores\n",
    "pos <- read.delim(gseafiles[4]) # signatures with positive enrichment scores\n",
    "gsea <- rbind(neg, pos) # combine the signatures\n",
    "dat <- gsea[,c(1,4,5,8)] # keep these columns (contain signature name, size, nominal p-value, and FDR)\n",
    "dat <- dat[order(as.character(dat[,1])),] # order the signatures alphabetically\n",
    "signsignatures <- as.character(dat[which(dat$FDR.q.val<fdrcut & abs(dat$ES)>escut & dat$SIZE<sizecut),1]) # significant signatures in this dataset\n",
    "datsign <- dat[which(dat$FDR.q.val<fdrcut & abs(dat$ES)>escut & dat$SIZE<sizecut),]"
   ]
  },
  {
   "cell_type": "markdown",
   "metadata": {},
   "source": [
    "Output those signatures that are significant in both discovery datasets (from the bubble plot drawn previously) and the validation dataset"
   ]
  },
  {
   "cell_type": "code",
   "execution_count": null,
   "metadata": {},
   "outputs": [],
   "source": [
    "cat(\"Signatures that are significant in the discovery datasets as well as the validation dataset:\\n\")\n",
    "print(as.character(datsign$NAME[which(datsign$NAME %in% intsign)]))"
   ]
  },
  {
   "cell_type": "markdown",
   "metadata": {},
   "source": [
    "## 3. Estimation of cell compositions\n",
    "This is code for Supplemental Figure S1<sup>1</sup>.\n",
    "We used xCell<sup>3</sup> to estimate cell compositions in each tumor sample in each of the three datasets. The scores calculated by xCell approximate cell type fractions, and adjust for overlap between closely related cell types. We applied the xCell pipeline (https://xcell.ucsf.edu) to each of the datasets and used the default threshold of 0.2 to filter out cell types not present in the datasets.\n",
    "We performed t-test followed by p-value adjustment by FDR to compare xCell score values between short and long-term survival groups.\n",
    "Figure S1 shows boxplots comparing xCell score values between short and long-term survival groups in the discovery and validation datasets. Here we included only cell types with significant abundance levels (xCell scores > 0.2 in at least one sample) as well as total immune and microenvironment scores.\n",
    "## 3.1. Data processing\n",
    "#### Supplemental Figure S1.A - Discovery dataset 1"
   ]
  },
  {
   "cell_type": "code",
   "execution_count": null,
   "metadata": {},
   "outputs": [],
   "source": [
    "setwd(currPath) # get back to user directory\n",
    "# Load xCell scores data\n",
    "dat1_xcell <- read.delim(paste0(ppath,\"xCell_score_discoverySet1.txt\"),stringsAsFactors = F, check.names = F)\n",
    "# Keep only cell types present with an xCell score of at least 0.2 in at least 1 sample\n",
    "idx <-  apply(dat1_xcell, 2, function(x) sum(x > 0.2) >= 1 )\n",
    "dat1_xcellsub <- dat1_xcell[,idx]\n",
    "# Calculate adjusted p-values\n",
    "a1 <- which(dat1_xcellsub$survival==\"long\")\n",
    "a2 <- which(dat1_xcellsub$survival==\"short\")\n",
    "pvals <-  apply(dat1_xcellsub[,1:ncol(dat1_xcellsub)-1], 2, function(x) t.test(x[a1],x[a2])$p.val )\n",
    "adjp <- p.adjust(pvals)\n",
    "# Cell types with significantly different abundance between long- and short-term survival\n",
    "# CD8+ naive T-cells FDR=0.01491527\n",
    "adjp[which(adjp<0.05)] \n",
    "# Boxplot comparing xCell score values between long- and short-term survival\n",
    "dat1_xcellsub_plot <- melt(dat1_xcellsub)\n",
    "colnames(dat1_xcellsub_plot)[2] <- \"celltype\"\n",
    "ggplot(dat1_xcellsub_plot, aes(x = reorder(celltype, -value, FUN = median), y = value, fill = survival))  + geom_boxplot()+ theme(axis.text.x = element_text(angle = 90, hjust = 1, vjust=.3)) +scale_fill_manual(values=c(\"dodgerblue\", \"firebrick1\")) +labs(title = \"Discovery dataset 1\", x = \"Cell Type\", y= \"xCell Value\") #ordered x axis descending"
   ]
  },
  {
   "cell_type": "markdown",
   "metadata": {},
   "source": [
    "#### Supplemental Figure S1.B - Discovery dataset 2"
   ]
  },
  {
   "cell_type": "code",
   "execution_count": null,
   "metadata": {},
   "outputs": [],
   "source": [
    "# Load xCell scores data\n",
    "dat2_xcell <- read.delim(paste0(ppath,\"xCell_score_discoverySet2.txt\"),stringsAsFactors = F, check.names = F)\n",
    "# Keep only cell types present with an xCell score of at least 0.2 in at least 1 sample\n",
    "idx <-  apply(dat2_xcell, 2, function(x) sum(x > 0.2) >= 1 )\n",
    "dat2_xcellsub <- dat2_xcell[,idx]\n",
    "# Calculate adjusted p-values\n",
    "a1 <- which(dat2_xcellsub$survival==\"long\")\n",
    "a2 <- which(dat2_xcellsub$survival==\"short\")\n",
    "pvals <-  apply(dat2_xcellsub[,1:ncol(dat2_xcellsub)-1], 2, function(x) t.test(x[a1],x[a2])$p.val )\n",
    "adjp <- p.adjust(pvals)\n",
    "# Cell types with significantly different abundance between long- and short-term survival\n",
    "# CD8+ naive T-cells FDR=0.07766112\n",
    "# CD4+ memory T-cells FDR=0.09203959\n",
    "adjp[which(adjp<0.1)] \n",
    "# Boxplot comparing xCell score values between long- and short-term survival\n",
    "dat2_xcellsub_plot <- melt(dat2_xcellsub)\n",
    "colnames(dat2_xcellsub_plot)[2] <- \"celltype\"\n",
    "ggplot(dat2_xcellsub_plot, aes(x = reorder(celltype, -value, FUN = median), y = value, fill = survival))  + geom_boxplot()+ theme(axis.text.x = element_text(angle = 90, hjust = 1, vjust=.3)) +scale_fill_manual(values=c(\"dodgerblue\", \"firebrick1\")) +labs(title = \"Discovery dataset 2\", x = \"Cell Type\", y= \"xCell Value\") #ordered x axis descending"
   ]
  },
  {
   "cell_type": "markdown",
   "metadata": {},
   "source": [
    "#### Supplemental Figure S1.C - Validation dataset"
   ]
  },
  {
   "cell_type": "code",
   "execution_count": null,
   "metadata": {},
   "outputs": [],
   "source": [
    "# Load xCell scores data\n",
    "dat3_xcell <- read.delim(paste0(ppath,\"xCell_score_validationSet.txt\"),stringsAsFactors = F, check.names = F)\n",
    "# Keep only cell types present with an xCell score of at least 0.2 in at least 1 sample\n",
    "idx <-  apply(dat3_xcell, 2, function(x) sum(x > 0.2) >= 1 )\n",
    "dat3_xcellsub <- dat3_xcell[,idx]\n",
    "# Calculate adjusted p-values\n",
    "a1 <- which(dat3_xcellsub$survival==\"long\")\n",
    "a2 <- which(dat3_xcellsub$survival==\"short\")\n",
    "pvals <-  apply(dat3_xcellsub[,1:ncol(dat3_xcellsub)-1], 2, function(x) t.test(x[a1],x[a2])$p.val )\n",
    "adjp <- p.adjust(pvals)\n",
    "# Cell types with significantly different abundance between long- and short-term survival\n",
    "# No cell types found with FDR<0.1\n",
    "adjp[which(adjp<0.1)] \n",
    "# Boxplot comparing xCell score values between long- and short-term survival\n",
    "dat3_xcellsub_plot <- melt(dat3_xcellsub)\n",
    "colnames(dat3_xcellsub_plot)[2] <- \"celltype\"\n",
    "ggplot(dat3_xcellsub_plot, aes(x = reorder(celltype, -value, FUN = median), y = value, fill = survival))  + geom_boxplot()+ theme(axis.text.x = element_text(angle = 90, hjust = 1, vjust=.3)) +scale_fill_manual(values=c(\"dodgerblue\", \"firebrick1\")) +labs(title = \"Validation dataset\", x = \"Cell Type\", y= \"xCell Value\") #ordered x axis descending"
   ]
  },
  {
   "cell_type": "markdown",
   "metadata": {},
   "source": [
    "## 3.2. Comparing short and long-term survival groups\n",
    "\n",
    "This is the code for Supplemental Figure S2<sup>1</sup>."
   ]
  },
  {
   "cell_type": "code",
   "execution_count": null,
   "metadata": {},
   "outputs": [],
   "source": [
    "# Load xCell scores data\n",
    "dat1_xcell <- read.delim(paste0(ppath,\"xCell_score_discoverySet1.txt\"),stringsAsFactors = F, check.names = F)\n",
    "dat2_xcell <- read.delim(paste0(ppath,\"xCell_score_discoverySet2.txt\"),stringsAsFactors = F, check.names = F)\n",
    "dat3_xcell <- read.delim(paste0(ppath,\"/xCell_score_validationSet.txt\"),stringsAsFactors = F, check.names = F)"
   ]
  },
  {
   "cell_type": "code",
   "execution_count": null,
   "metadata": {},
   "outputs": [],
   "source": [
    "# Load indegree for PD1 pathway genes\n",
    "# The PD1 pathway targeting score is the average indegree for genes in the PD1 pathway.\n",
    "dat1_pd1_deg <- read.delim(paste0(ppath,\"indegree_pd1genes_discoverySet1.txt\"), stringsAsFactors = F)\n",
    "dat2_pd1_deg <- read.delim(paste0(ppath,\"indegree_pd1genes_discoverySet2.txt\"), stringsAsFactors = F)\n",
    "dat3_pd1_deg <- read.delim(paste0(ppath,\"indegree_pd1genes_validationSet.txt\"), stringsAsFactors = F)"
   ]
  },
  {
   "cell_type": "markdown",
   "metadata": {},
   "source": [
    "A) Boxplots comparing the distributions of immune scores from xCell between short- and long-term survival groups in the discovery and validation datasets."
   ]
  },
  {
   "cell_type": "code",
   "execution_count": null,
   "metadata": {},
   "outputs": [],
   "source": [
    "# A) Boxplots comparing the distributions of immune scores from xCell between short- and long-term survival groups in the discovery and validation datasets.\n",
    "boxplot_one_cellType<-function(xcell_exp,cellType,datasetName){\n",
    "  xcell <- xcell_exp %>% gather (key = cell_type, value = xcell_value, cellType)\n",
    "  xcell$xcell_value <-as.numeric(xcell$xcell_value)\n",
    "  xcell$cell_type <- as.factor(xcell$cell_type)\n",
    "  xcell$survival <- sub(\"long\",\"long-term\",xcell$survival)\n",
    "  xcell$survival <- sub(\"short\",\"short-term\",xcell$survival)\n",
    "  xcell$survival <- factor(xcell$survival, levels=c(\"long-term\", \"short-term\"))\n",
    "  plot<-ggboxplot(xcell, x = \"survival\",y= \"xcell_value\", fill = \"survival\",palette = c(\"dodgerblue\", \"firebrick1\")) + labs(title = datasetName, x = \"Survival\", y= \"xCell Immune Score\")\n",
    "  plot\n",
    "}\n",
    "\n",
    "immune_score_box1<-boxplot_one_cellType(dat1_xcell, \"ImmuneScore\", \"Discovery dataset 1\")\n",
    "immune_score_box2<-boxplot_one_cellType(dat2_xcell, \"ImmuneScore\", \"Discovery dataset 2\")\n",
    "immune_score_box3<-boxplot_one_cellType(dat3_xcell, \"ImmuneScore\", \"Validation dataset\")"
   ]
  },
  {
   "cell_type": "markdown",
   "metadata": {},
   "source": [
    "B) Scatter plots of xCell immune scores and PD1 pathway targeting scores in the discovery and validation datasets. Regression lines with confidence intervals of 0.95 are shown for the long-term (blue) and short-term (red) groups."
   ]
  },
  {
   "cell_type": "code",
   "execution_count": null,
   "metadata": {},
   "outputs": [],
   "source": [
    "# B) Scatter plots of xCell immune scores and PD1 pathway targeting scores in the discovery and validation datasets. Regression lines with confidence intervals of 0.95 are shown for the long-term (blue) and short-term (red) groups.\n",
    "scatterplot_indegree_cellTypeScore<-function(xcell_exp, pd1_deg, cellType, datasetName){\n",
    "  celltype_score<-xcell_exp[c(cellType,\"survival\")] \n",
    "  celltype_info<-merge(celltype_score, as.data.frame(t(pd1_deg)), by = \"row.names\")\n",
    "  celltype_info$pd1_mean<-rowMeans(celltype_info[4:(length(colnames(celltype_info)))])\n",
    "  plot <-  ggscatter(celltype_info,x=\"pd1_mean\", y=\"ImmuneScore\", color = \"survival\", add = \"reg.line\", conf.int = TRUE ,palette = c(\"dodgerblue\", \"firebrick1\"))+stat_cor(aes(color = survival)) + labs(title = datasetName, x = \"PD1 pathway targeting score\", y= \"xCell Immune Score\")\n",
    "  plot\n",
    "}\n",
    "\n",
    "immune_score_scatter1<- scatterplot_indegree_cellTypeScore(dat1_xcell, dat1_pd1_deg, \"ImmuneScore\", \"Discovery dataset 1\")\n",
    "immune_score_scatter2<- scatterplot_indegree_cellTypeScore(dat2_xcell, dat2_pd1_deg, \"ImmuneScore\", \"Discovery dataset 2\")\n",
    "immune_score_scatter3<- scatterplot_indegree_cellTypeScore(dat3_xcell, dat3_pd1_deg, \"ImmuneScore\", \"Validation dataset\")"
   ]
  },
  {
   "cell_type": "code",
   "execution_count": null,
   "metadata": {},
   "outputs": [],
   "source": [
    "# Plot supplemental figure 2\n",
    "ggarrange(immune_score_box1, immune_score_box2, immune_score_box3, immune_score_scatter1, immune_score_scatter2, immune_score_scatter3, ncol = 3, nrow = 2)"
   ]
  },
  {
   "cell_type": "markdown",
   "metadata": {},
   "source": [
    "## 4. Association with mutation load\n",
    "\n",
    "Here, we will correlate PD1 targeting scores with overall mutation load, as well as with mutation scores of different biological pathways, to determine if there is an association between PD1 regulation and somatic mutations. This code will reproduce Figure 5<sup>1</sup>"
   ]
  },
  {
   "cell_type": "markdown",
   "metadata": {},
   "source": [
    "### 4.1. Visualize PD1 pathway gene targeting scores against overall number of mutations per patient"
   ]
  },
  {
   "cell_type": "markdown",
   "metadata": {},
   "source": [
    "Here, we will reproduce Figure 5A<sup>1</sup>. We will start by loading all degrees (Gene Targeting Scores) from discovery dataset 1"
   ]
  },
  {
   "cell_type": "code",
   "execution_count": null,
   "metadata": {},
   "outputs": [],
   "source": [
    "load(paste0(ppath,\"dat2_degree.RData\"))"
   ]
  },
  {
   "cell_type": "markdown",
   "metadata": {},
   "source": [
    "Get PD1 genes from the Reactome PD1 signature that was used in the GSEA analyses on the gene targeting scores"
   ]
  },
  {
   "cell_type": "code",
   "execution_count": null,
   "metadata": {},
   "outputs": [],
   "source": [
    "reactome_signature_file <- paste0(ppath,\"c2.cp.reactome.v5.0.symbols.gmt\")\n",
    "reactome_signatures <- read.table(reactome_signature_file, header = FALSE, sep = \"\\t\", col.names = paste0(\"V\",seq_len(1000)), fill = TRUE)\n",
    "row.names(reactome_signatures) <- reactome_signatures[,1]\n",
    "reactome_signatures <- reactome_signatures[,3:ncol(reactome_signatures)]\n",
    "reactome_signatures <- as.matrix(reactome_signatures)\n",
    "pd1idx <- grep(\"PD1\", row.names(reactome_signatures))\n",
    "pd1genes <- reactome_signatures[pd1idx,]\n",
    "pd1genes <- pd1genes[which(pd1genes!=\"\")] # 18 genes"
   ]
  },
  {
   "cell_type": "markdown",
   "metadata": {},
   "source": [
    "Calculate the sum of PD1 gene degrees per patient"
   ]
  },
  {
   "cell_type": "code",
   "execution_count": null,
   "metadata": {},
   "outputs": [],
   "source": [
    "pd1d <- indegree[which(row.names(indegree) %in% pd1genes),] # 13/18 genes available\n",
    "pd1ds <- apply(pd1d, 2, sum) # Sum of PD1 degrees for 522 patients in discovery dataset 1"
   ]
  },
  {
   "cell_type": "markdown",
   "metadata": {},
   "source": [
    "Calculate the total mutation burden (based on all genes) for each patient. For this, we  will read in the original .maf file from TCGA that was prepared in SAMBAR<sup>2</sup>"
   ]
  },
  {
   "cell_type": "code",
   "execution_count": null,
   "metadata": {},
   "outputs": [],
   "source": [
    "load(paste0(ppath,\"data_all_byMutation.Rdat\"))"
   ]
  },
  {
   "cell_type": "markdown",
   "metadata": {},
   "source": [
    "Remove unknown genes and silent mutations"
   ]
  },
  {
   "cell_type": "code",
   "execution_count": null,
   "metadata": {},
   "outputs": [],
   "source": [
    "maf.data <- maf.data[which(maf.data$hugo_symbol!=\"Unknown\"),]\n",
    "maf.data <- maf.data[which(maf.data$variant_classification!=\"Silent\"),]"
   ]
  },
  {
   "cell_type": "markdown",
   "metadata": {},
   "source": [
    "Sum the number of mutations per gene, per patient"
   ]
  },
  {
   "cell_type": "code",
   "execution_count": null,
   "metadata": {},
   "outputs": [],
   "source": [
    "maf.data <- maf.data[,c(1,4:7,16)] # Get relevant columns\n",
    "maf.data <- unique(maf.data) # Filter mutations present on the same location in the same patient, we only need to count these once\n",
    "nrow(maf.data)==nrow(unique(maf.data[,-2])) # Test is there are duplicates on the different reference genomes for the same patient/mutation. There are none, so we will not need to merge these\n",
    "maf.data <- maf.data[,-2]\n",
    "\n",
    "tumsample <- as.character(maf.data[,5])\n",
    "idx <- which(substr(tumsample, 14, 15) %in% c(\"01\", \"03\")) # Select primary tumors only\n",
    "maf.data <- maf.data[idx,c(1,5)] # This is the final .maf file that we can use to calculate the total number of mutations in each gene, per patient. We will do this below using the \"igraph\" package\n",
    "\n",
    "g=graph.data.frame(maf.data)\n",
    "mat <- get.adjacency(g,sparse=FALSE)\n",
    "npat <- length(unique(maf.data[,2]))\n",
    "ngene <- length(unique(maf.data[,1]))\n",
    "mat <- mat[1:ngene, (ngene+1):ncol(mat)]\n",
    "mpat <- substr(colnames(mat),1,12)\n",
    "length(which(duplicated(mpat))) # There are some 71 \"duplicated\" entries\n",
    "duppat <- mpat[which(duplicated(mpat))]\n",
    "\n",
    "gbmpat <- colnames(indegree)\n",
    "length(which(gbmpat %in% gsub(\"-\", \"\\\\.\", tolower(duppat)))) # None of the glioblastoma patients are have duplicated data\n",
    "colnames(mat) <- gsub(\"-\", \"\\\\.\", tolower(substr(colnames(mat), 1, 12)))\n",
    "mat <- mat[,which(colnames(mat) %in% gbmpat)]\n",
    "nmut <- apply(mat, 2, sum) # Total number of mutations per patient"
   ]
  },
  {
   "cell_type": "markdown",
   "metadata": {},
   "source": [
    "Visualize PD1 pathway gene targeting scores against overall number of mutations per patient (Figure 5A<sup>1</sup>)"
   ]
  },
  {
   "cell_type": "code",
   "execution_count": null,
   "metadata": {},
   "outputs": [],
   "source": [
    "length(which(names(pd1ds) %in% names(nmut))) # 235\n",
    "pd1ds_sub <- pd1ds[which(names(pd1ds) %in% names(nmut))]\n",
    "pd1ds_sub <- pd1ds_sub/length(which(row.names(indegree) %in% pd1genes)) # Average GTS for PD1 pathway\n",
    "all(names(pd1ds_sub)==names(nmut))\n",
    "# pdf(\"pd1_avg_degree_score_nmut.pdf\", w=3.5, h=4)\n",
    "smoothScatter(cbind(pd1ds_sub, nmut), xlab=\"PD1 pathway targeting score\", ylab=\"Mutation load\")\n",
    "# dev.off()"
   ]
  },
  {
   "cell_type": "markdown",
   "metadata": {},
   "source": [
    "### 4.2. Correlate PD1 pathway targeting score with pathway mutation scores"
   ]
  },
  {
   "cell_type": "markdown",
   "metadata": {},
   "source": [
    "Here, we will compare the PD1 pathway targeting score, as well as the gene targeting scores of individual genes in the PD1 pathway, with pathway mutation scores, which we calculate using SAMBAR<sup>2</sup>"
   ]
  },
  {
   "cell_type": "code",
   "execution_count": null,
   "metadata": {},
   "outputs": [],
   "source": [
    "pd1d_sub <- pd1d[,which(names(pd1d) %in% names(nmut))]"
   ]
  },
  {
   "cell_type": "markdown",
   "metadata": {},
   "source": [
    "Get PD1 pathway score (divide sum by number of genes in the pathway)"
   ]
  },
  {
   "cell_type": "code",
   "execution_count": null,
   "metadata": {},
   "outputs": [],
   "source": [
    "pd1ds <- pd1ds/length(which(row.names(indegree) %in% pd1genes))"
   ]
  },
  {
   "cell_type": "markdown",
   "metadata": {},
   "source": [
    "Calculate SAMBAR mutation scores based on all genes"
   ]
  },
  {
   "cell_type": "code",
   "execution_count": null,
   "metadata": {},
   "outputs": [],
   "source": [
    "signatureset <- paste0(ppath,\"c2.cp.v5.0.symbols.gmt\")\n",
    "data(exon.size)\n",
    "genes <- row.names(mat)\n",
    "edg <- sambar.convertgmt(signature=signatureset, cagenes=genes)\n",
    "data(exon.size)\n",
    "mutlength <- sambar.corgenelength(x=t(mat), cagenes=genes, exonsize=exon.size) # 235 2188\n",
    "mutlength <- t(mutlength)\n",
    "patmutrate <- apply(mutlength, 2, sum)"
   ]
  },
  {
   "cell_type": "markdown",
   "metadata": {},
   "source": [
    "Correlate PD1 pathway targeting scores with the overall mutation score from SAMBAR"
   ]
  },
  {
   "cell_type": "code",
   "execution_count": null,
   "metadata": {},
   "outputs": [],
   "source": [
    "cor.test(pd1ds_sub,patmutrate, method=\"spearman\") # R=0.0156, p=0.8116"
   ]
  },
  {
   "cell_type": "markdown",
   "metadata": {},
   "source": [
    "Now correlate the gene targeting score of the individual genes in the PD1 pathway with the overall SAMBAR mutation score"
   ]
  },
  {
   "cell_type": "code",
   "execution_count": null,
   "metadata": {},
   "outputs": [],
   "source": [
    "pd1d_sub <- pd1d[,which(names(pd1d) %in% names(nmut))]\n",
    "cor_sep_genes <- matrix(NA, nrow(pd1d_sub), 2)\n",
    "row.names(cor_sep_genes) <- row.names(pd1d_sub)\n",
    "colnames(cor_sep_genes) <- c(\"R\",\"pval\")\n",
    "patmutrate <- patmutrate[which(names(patmutrate) %in% colnames(pd1d_sub))]\n",
    "all(names(patmutrate)==colnames(pd1d_sub))\n",
    "for(d in 1:nrow(cor_sep_genes)){\n",
    "\tcor_sep_genes[d,1] <- round(cor.test(unlist(c(pd1d_sub[d,])), patmutrate, method=\"spearman\")$estimate,4)\n",
    "\tcor_sep_genes[d,2] <- round(cor.test(unlist(c(pd1d_sub[d,])), patmutrate, method=\"spearman\")$p.val, 4)\n",
    "}\n",
    "cat(\"min R=\", min(cor_sep_genes[,1]), \"\\nmax R=\", max(cor_sep_genes[,1]), \"\\n\")"
   ]
  },
  {
   "cell_type": "markdown",
   "metadata": {},
   "source": [
    "### 4.3. Associate SAMBAR scores per pathway with PD1 targeting scores across patients"
   ]
  },
  {
   "cell_type": "markdown",
   "metadata": {},
   "source": [
    "Here, we will use pathway mutation scores for individual patients from the original SAMBAR paper<sup>2</sup>, and associate these scores with PD1 targeting to reproduce Figure 5B<sup>1</sup>. This will answer the question whether mutations in a specific biological pathway associate with a higher PD1 targeting score. The SAMBAR mutation scores will be loaded here directly, but are also available on Zenodo (DOI: 10.5281/zenodo.1494861)"
   ]
  },
  {
   "cell_type": "code",
   "execution_count": null,
   "metadata": {},
   "outputs": [],
   "source": [
    "load(paste0(ppath,\"TCGA_SAMBAR.RData\"))"
   ]
  },
  {
   "cell_type": "markdown",
   "metadata": {},
   "source": [
    "Normalize the SAMBAR pathway mutation scores by the total patient-specific mutation rate calculated across cancer-associated genes (as done in the SAMBAR paper<sup>2</sup>)"
   ]
  },
  {
   "cell_type": "code",
   "execution_count": null,
   "metadata": {},
   "outputs": [],
   "source": [
    "mutationrate <- apply(gene_scores, 2, sum)\n",
    "signt <- pathway_scores\n",
    "for(i in 1:ncol(pathway_scores)){\n",
    "\tsignt[,i] <- pathway_scores[,i]/mutationrate[i]\n",
    "}"
   ]
  },
  {
   "cell_type": "markdown",
   "metadata": {},
   "source": [
    "Correlate PD1 pathway targeting scores with pathway mutation scores from SAMBAR<sup>2</sup>"
   ]
  },
  {
   "cell_type": "code",
   "execution_count": null,
   "metadata": {},
   "outputs": [],
   "source": [
    "colnames(signt) <- tolower(colnames(signt))\n",
    "colnames(signt) <- gsub(\"-\", \"\\\\.\", colnames(signt))\n",
    "signt <- signt[,which(colnames(signt) %in% names(pd1ds_sub))] # Note that 3 patients are unavailable, as they do not have any mutations in the cancer-associated genes on which SAMBAR calculates its pathway mutation scores\n",
    "pd1ds_sub <- pd1ds_sub[which(names(pd1ds_sub) %in% colnames(signt))]\n",
    "all(colnames(signt)==names(pd1ds_sub)) # T\n",
    "resmat <- matrix(NA, nrow(signt), 2)\n",
    "colnames(resmat) <- c(\"R\",\"pval\")\n",
    "row.names(resmat) <- row.names(signt)\n",
    "for(i in 1:nrow(signt)){\n",
    "\tresmat[i,1] <- cor.test(pd1ds_sub, signt[i,])$estimate\n",
    "\tresmat[i,2] <- cor.test(pd1ds_sub, signt[i,])$p.val\n",
    "}\n",
    "resmat <- resmat[!is.na(resmat[,1]),]\n",
    "summary(p.adjust(resmat[,2], method=\"BH\")) # min is 0.06\n",
    "resmat <- cbind(resmat, p.adjust(resmat[,2], method=\"BH\"))"
   ]
  },
  {
   "cell_type": "code",
   "execution_count": null,
   "metadata": {},
   "outputs": [],
   "source": [
    "head(resmat)\n",
    "resmat <- resmat[order(resmat[,3]),]"
   ]
  },
  {
   "cell_type": "code",
   "execution_count": null,
   "metadata": {},
   "outputs": [],
   "source": [
    "resmat <- cbind(resmat, abs(resmat[,1])) # absolute R values\n",
    "resmat <- cbind(resmat, log(resmat[,2],10)) # log pvals\n",
    "resmat <- cbind(resmat, log(resmat[,3],10)) # log adjp vals\n",
    "colnames(resmat)[3] <- \"adjp\"\n",
    "colnames(resmat)[4] <- \"abs_Pearson_R\"\n",
    "colnames(resmat)[5] <- \"log10_nominal_p\"\n",
    "colnames(resmat)[6] <- \"log10_adjp\"\n",
    "colplot <- resmat[,1]\n",
    "colplot[colplot<0] <- -1\n",
    "colplot[colplot>0] <- 1\n",
    "colplot2 <- rep(NA, length(colplot))\n",
    "colplot2[which(colplot<0)] <- \"#F2E631\"\n",
    "colplot2[which(colplot>0)] <- \"#8D5B96\"\n",
    "#pdf(\"pearson_pd1targeting_mutpathways_dat2_significance_and_effect_size_clean.pdf\", w=3.5, h=4)\n",
    "plot(resmat[,c(6,4)], pch=16, ylim=c(0,0.3), col=colplot2, cex=1.5, xlab=\"log10FDR\", ylab=\"Absolute Pearson R\")\n",
    "legend(\"topright\", col=c(\"#8D5B96\",\"#F2E631\"), pch=16, legend=c(\"Pos\",\"Neg\"), bty=\"n\")\n",
    "#dev.off()"
   ]
  },
  {
   "cell_type": "markdown",
   "metadata": {},
   "source": [
    "## 5. Differential methylation analysis\n",
    "Differential methylation analysis using limma<sup>4</sup> on methylation B-values quantile normalized (limited to probes on PD1 pathway) to compare short- vs long-survival groups, and correcting for gender, adjuvant therapy and age.\n",
    "\n",
    "The following function allows to perform differential methylation analysis using limma and correcting for the covariates: gender, adj therapy and age."
   ]
  },
  {
   "cell_type": "code",
   "execution_count": null,
   "metadata": {},
   "outputs": [],
   "source": [
    "methyl_limma<-function(obj,quantileNorm=TRUE){ \n",
    "  obj<-obj[,!is.na(pData(obj)$survival)]\n",
    "  gene <- unlist(lapply(fData(obj)$pd1_genes, function(x) paste(x, collapse = \", \")))\n",
    "  # Covariates\n",
    "  surv <- factor(pData(obj)$survival, levels=c(\"long\", \"short\"))\n",
    "  gender <- as.character(pData(obj)$gender.y)\n",
    "  gender[which(is.na(gender))] <- \"NA\"    \n",
    "  gender <- as.factor(gender)\n",
    "  adj <- as.character(pData(obj)$neoadjuvanttherapy)\n",
    "  adj[which(is.na(adj))] <- \"NA\"    \n",
    "  adj <- as.factor(adj)\n",
    "  age <- as.numeric(pData(obj)$yearstobirth)\n",
    "  age[which(is.na(age))] <- mean(age,na.rm=TRUE)\n",
    "  # limma\n",
    "  design <- model.matrix(~ gender + adj + age + surv)\n",
    "  mat_lmFit<-exprs(obj)\n",
    "  if(quantileNorm==TRUE) mat_lmFit<-normalizeQuantiles(mat_lmFit)\n",
    "  fitGood <- lmFit(mat_lmFit,design)\n",
    "  fitGood <- eBayes(fitGood)\n",
    "  # Save output table\n",
    "  deg <- topTable(fitGood,coef=\"survshort\",number=Inf, genelist=gene)\n",
    "  Mean <- t(apply(mat_lmFit, 1, function(x) by(x, surv, mean, na.rm=TRUE)))\n",
    "  Mean <- Mean[rownames(deg),]\n",
    "  tab <- data.frame(\"Gene.ID\"=deg[,\"ID\"], \"BetaMean.Short-term\"=Mean[,\"short\"], \"BetaMean.Long-term\"=Mean[,\"long\"], deg[,c(\"P.Value\",\"adj.P.Val\")])\n",
    "  tab\n",
    "}"
   ]
  },
  {
   "cell_type": "markdown",
   "metadata": {},
   "source": [
    "Run differential methylation analysis for 450K platform"
   ]
  },
  {
   "cell_type": "code",
   "execution_count": null,
   "metadata": {},
   "outputs": [],
   "source": [
    "load(paste0(ppath,\"methyl_obj450_pd1.RData\"))\n",
    "Platform.450K <- methyl_limma(obj450_pd1,quantileNorm=TRUE)\n",
    "head(Platform.450K)"
   ]
  },
  {
   "cell_type": "markdown",
   "metadata": {},
   "source": [
    "Run differential methylation analysis for 27K platform"
   ]
  },
  {
   "cell_type": "code",
   "execution_count": null,
   "metadata": {},
   "outputs": [],
   "source": [
    "load(paste0(ppath,\"methyl_obj27_pd1.RData\"))\n",
    "Platform.27K <- methyl_limma(obj27_pd1,quantileNorm=TRUE)\n",
    "head(Platform.27K)"
   ]
  },
  {
   "cell_type": "markdown",
   "metadata": {},
   "source": [
    "## 6. Validation of PD1 signaling genes in protein abundance\n",
    "To validate protein abundance levels of PD1 signaling genes, we will download Reverse Phase Protein Array (RPPA) data from glioblastoma samples from TCGA, and subset these to samples from the same patients we used in our network analysis (n=233). We will then select the three PD1 signaling proteins for which abundance data is available. We will evaluate differential abundance of these proteins between the long-term and short-term survivors."
   ]
  },
  {
   "cell_type": "code",
   "execution_count": null,
   "metadata": {},
   "outputs": [],
   "source": [
    "# Downloaded data with RTCGA.RPPA\n",
    "load(paste0(ppath,\"rtcga_rppa_gbm.RData\")) # these data were downloaded from RTCGA.RPPA package on 2019-07-17, R version 3.5.2, RTCGA.RPPA_1.6.0, RTCGA_1.8.0\n",
    "patinfo <- paste0(ppath,\"allpats_gbm0_gbm1.RData\") # contains info on which patients belong to which survival group"
   ]
  },
  {
   "cell_type": "markdown",
   "metadata": {},
   "source": [
    "Select protein abundance for PD1 pathway genes in primary tumors"
   ]
  },
  {
   "cell_type": "code",
   "execution_count": null,
   "metadata": {},
   "outputs": [],
   "source": [
    "# dat <- GBM.RPPA # When using the RTCGA.RPPA package, this is how you get the glioblastoma data\n",
    "row.names(dat) <- dat[,1]\n",
    "dat <- dat[,-1]\n",
    "dat <- t(dat)\n",
    "idx <- which(substr(colnames(dat),14,15)!=\"01\") # samples that are not primary tumors\n",
    "dat <- dat[,-idx] # remove these\n",
    "pd1genes <- c(\"Lck\", \"p62-LCK-ligand\", \"PDCD4\") # these proteins are part of the PD1 pathway\n",
    "dat <- dat[which(row.names(dat) %in% pd1genes),]\n",
    "colnames(dat) <- gsub(\"-\", \"\\\\.\", tolower(substr(colnames(dat),1,12))) # subset to TCGA patient IDs\n",
    "dat <- dat[which(row.names(dat) %in% pd1genes),]\n",
    "colnames(dat) <- gsub(\"-\", \"\\\\.\", tolower(substr(colnames(dat),1,12)))"
   ]
  },
  {
   "cell_type": "markdown",
   "metadata": {},
   "source": [
    "Load patient info per group"
   ]
  },
  {
   "cell_type": "code",
   "execution_count": null,
   "metadata": {},
   "outputs": [],
   "source": [
    "load(patinfo)\n",
    "pd1_rppa_gbm0 <- dat[,which(colnames(dat) %in% gbm0)] # long-term survival group\n",
    "pd1_rppa_gbm1 <- dat[,which(colnames(dat) %in% gbm1)] # short-term survival group"
   ]
  },
  {
   "cell_type": "markdown",
   "metadata": {},
   "source": [
    "Perform t-test and correct for multiple testing"
   ]
  },
  {
   "cell_type": "code",
   "execution_count": null,
   "metadata": {},
   "outputs": [],
   "source": [
    "tstatres <- matrix(NA, nrow=nrow(dat), ncol=2)\n",
    "colnames(tstatres) <- c(\"t\", \"pval\")\n",
    "for(d in 1:nrow(dat)){\n",
    "\ttstatres[d,1] <- t.test(pd1_rppa_gbm0[d,], pd1_rppa_gbm1[d,])$statistic\n",
    "\ttstatres[d,2] <- t.test(pd1_rppa_gbm0[d,], pd1_rppa_gbm1[d,])$p.val\n",
    "}\n",
    "p.adjust(tstatres[,2], method=\"BH\")"
   ]
  },
  {
   "cell_type": "markdown",
   "metadata": {},
   "source": [
    "Make violin plot"
   ]
  },
  {
   "cell_type": "code",
   "execution_count": null,
   "metadata": {},
   "outputs": [],
   "source": [
    "test <- list(pd1_rppa_gbm0[3,],pd1_rppa_gbm1[3,])\n",
    "test0 <- cbind(c(test[[1]]), \"long-term\")\n",
    "test1 <- cbind(c(test[[2]]), \"short-term\")\n",
    "test <- rbind(test0,test1)\n",
    "test <- as.data.frame(test)\n",
    "test[,1] <- as.numeric(as.character(test[,1]))\n",
    "test[,2] <- as.factor(as.character(test[,2]))\n",
    "colnames(test) <- c(\"abundance\",\"survival\")\n",
    "newscale <- c(\"#6a99f5\",\"#f8766d\")\n",
    "p <- ggplot(test, aes(x=survival, y=abundance, fill=survival))+\n",
    "geom_violin()\n",
    "#pdf(\"violin_p62-lck-ligand.pdf\", w=4,h=3)\n",
    "p+scale_fill_manual(values=newscale)+geom_boxplot(width=0.1)+theme_bw()+labs(x=\"\", y=\"p62-Lck-ligand abundance\")\n",
    "#dev.off()"
   ]
  },
  {
   "cell_type": "markdown",
   "metadata": {},
   "source": [
    "## References\n",
    "\n",
    "1- Lopes-Ramos, Camila Miranda, et al. \"Regulation of PD1 signaling is associated with prognosis in glioblastoma multiforme.\" bioRxiv (2021).\n",
    "\n",
    "2- Kuijjer, Marieke Lydia, et al. \"Cancer subtype identification using somatic mutation data.\" Br J Cancer (2018) May;118(11):1492-1501.\n",
    "\n",
    "3- Aran, Dvir, Zicheng Hu, and Atul J. Butte. \"xCell: digitally portraying the tissue cellular heterogeneity landscape.\" Genome biology 18.1 (2017): 1-14.\n",
    "\n",
    "4- Ritchie, Matthew E., et al. \"limma powers differential expression analyses for RNA-sequencing and microarray studies.\" Nucleic acids research 43.7 (2015): e47-e47.\n",
    "\n",
    "5- Padi, Megha, and John Quackenbush. \"Detecting phenotype-driven transitions in regulatory network structure.\" NPJ systems biology and applications 4.1 (2018): 1-12."
   ]
  }
 ],
 "metadata": {
  "kernelspec": {
   "display_name": "RP4",
   "language": "R",
   "name": "rp4"
  },
  "language_info": {
   "codemirror_mode": "r",
   "file_extension": ".r",
   "mimetype": "text/x-r-source",
   "name": "R",
   "pygments_lexer": "r",
   "version": "4.1.1"
  }
 },
 "nbformat": 4,
 "nbformat_minor": 4
}
