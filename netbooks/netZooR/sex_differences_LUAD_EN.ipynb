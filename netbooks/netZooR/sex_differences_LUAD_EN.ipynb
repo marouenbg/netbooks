{
 "cells": [
  {
   "cell_type": "markdown",
   "metadata": {},
   "source": [
    "# Gene Regulatory Networks Reveal Sex differences in Lung Adenocarcinoma\n",
    "Authors: Enakshi Saha<sup>1</sup>, Marouen Ben Guebila<sup>1</sup>, Camila M. Lopes-Ramos <sup>1,2,3</sup>\n",
    "\n",
    "<sup>1</sup>Department of Biostatistics, Harvard T.H. Chan School of Public Health, Boston, MA.\n",
    "\n",
    "<sup>2</sup>Channing Division of Network Medicine, Brigham and Women's Hospital, Boston, MA.\n",
    "\n",
    "<sup>3</sup>Department of Medicine, Harvard Medical School, Boston, MA."
   ]
  },
  {
   "cell_type": "markdown",
   "metadata": {},
   "source": [
    "## 1. Introduction \n",
    "\n",
    "Lung adenocarcinoma (LUAD) has been observed to have significant sex differences in incidence risk, prognosis and response to therapy. While females have much higher chance of developing the disease compared to males, males have poorer survival outcome[1]. The molecular mechanisms responsible for these disparities have not been investigated extensively. \n",
    "We use sample-specific gene regulatory network (GRN) methods PANDA[2] and LIONESS[3] to construct sample-specific GRNs using RNA sequencing data from lung adenocarcinoma primary tumor samples from The Cancer Genome Atlas (TCGA)[4] to identify genes and biological processes that are differentially targeted by transcription factors (TF) between males and femlaes. Uniformly processed RNA-Seq data along with information on clinical covariates for LUAD tumors from TCGA were downloaded from the Recount3 database on May 26, 2022.\n",
    "\n",
    "PANDA and LIONESS algorithms were used to construct individual sample-specific gene regulatory networks using Python package netZooPy version 0.9.10[7]. In addition to the gene expression data, two other data sources were utilized to construct the regulatory networks: Transcription factor/target gene regulatory prior (derived by mapping Transcription factor motifs from the Catalog of Inferred Sequence Binding Preferences (CIS-BP)[8] to the promoter of target genes) and protein-protein interaction (using the interaction scores from StringDb v11.5[9] between all Transcription factor in the regulatory prior).\n",
    "\n",
    "The networks are publicly available on the GRAND database[5]: https://grand.networkmedicine.org/downloads/ and can be found under the search term “sexDiffLUAD”. In this notebook we compare the indegree (i.e. the sum of all incoming edges from all TFs to a particular gene) of genes computed for every sample-specific network from males and females, while adjusting for clinical covariates: age at diagnosis, race, smoking status and tumor stage. We perform a Gene Set Enrichment Analysis (GSEA) using the list of biological processes obtained from the Kyoto Encyclopedia of Genes and Genomes (KEGG) database[6].\n",
    "\n",
    "### Loading libraries and data"
   ]
  },
  {
   "cell_type": "markdown",
   "metadata": {},
   "source": [
    "The following libraries are used in this analysis:"
   ]
  },
  {
   "cell_type": "code",
   "execution_count": null,
   "metadata": {},
   "outputs": [],
   "source": [
    "library(data.table)   # To load indegree of genes for every sample-specific network\n",
    "library(Biobase)      # Needed for limma\n",
    "library(limma)        # To perform differential targeting analysis\n",
    "library(fgsea)        # To perform GSEA\n",
    "library(ggplot2)      # To plot GSEA results\n",
    "library(gplots)       # To plot GSEA results\n",
    "library(RColorBrewer) # To plot GSEA results"
   ]
  },
  {
   "cell_type": "markdown",
   "metadata": {},
   "source": [
    "Let us first set the project path to load network indegrees. These indegree matrices are precomputed and also available on the GRAND database https://grand.networkmedicine.org/downloads/."
   ]
  },
  {
   "cell_type": "code",
   "execution_count": null,
   "metadata": {},
   "outputs": [],
   "source": [
    "ppath = '/opt/data/netZooR/luadsexdiffen/'"
   ]
  },
  {
   "cell_type": "markdown",
   "metadata": {},
   "source": [
    "Here we will load two matrices, containing the indegree of genes for males and females respectively. For each matrix, the rows correspond to genes (annotated by Ensemble IDs) and the columns correspond to samples."
   ]
  },
  {
   "cell_type": "code",
   "execution_count": null,
   "metadata": {},
   "outputs": [],
   "source": [
    "# Load indegree matrices for males and females\n",
    "indegree_male = data.frame(fread(paste0(ppath,\"TCGA_lung_lioness_indegree_male.txt\")))\n",
    "indegree_female = data.frame(fread(paste0(ppath,\"TCGA_lung_lioness_indegree_female.txt\")))\n",
    "\n",
    "# Get ensemble ID of genes\n",
    "genes = indegree_male$V1\n",
    "\n",
    "# Combine male and female indegrees into a single matrix.\n",
    "indegree = cbind(indegree_male[,-1], indegree_female[,-1])\n",
    "rownames(indegree) = genes\n"
   ]
  },
  {
   "cell_type": "code",
   "execution_count": null,
   "metadata": {},
   "outputs": [],
   "source": [
    "sample_IDs = colnames(indegree)\n",
    "# Format sample IDs to match with phenotypic data\n",
    "sample_IDs[which(substring(sample_IDs, 1,1) == \"X\")] = substring(sample_IDs[which(substring(sample_IDs, 1,1) == \"X\")], 2, length(sample_IDs[which(substring(sample_IDs, 1,1) == \"X\")]))\n",
    "sample_IDs = unlist(lapply(strsplit(sample_IDs, split=\".\", fixed = T),\n",
    "                           function(x){paste(x, collapse =\"-\")}))"
   ]
  },
  {
   "cell_type": "markdown",
   "metadata": {},
   "source": [
    "Next we load a matrix containing chromosome locations and HGNC gene names (required for GSEA) for all genes."
   ]
  },
  {
   "cell_type": "code",
   "execution_count": null,
   "metadata": {},
   "outputs": [],
   "source": [
    "# Get chromosome and gene names\n",
    "gene_info = data.frame(fread(paste0(ppath,\"gene_info.txt\")))\n",
    "gene_info$gene_id = gsub(\"\\\\..*\",\"\",gene_info$gene_id)\n",
    "\n",
    "# Extract HGNC gene names for each gene in the indegree matrix\n",
    "gene_name = gene_info$gene_name[match(genes, gene_info$gene_id)]\n",
    "\n",
    "# Extract chromosome location for each gene in the indegree matrix\n",
    "chr_loc = gene_info$seqnames[match(genes, gene_info$gene_id)]"
   ]
  },
  {
   "cell_type": "markdown",
   "metadata": {},
   "source": [
    "We exclude the Y genes from our analysis since females do not have Y chromosome."
   ]
  },
  {
   "cell_type": "code",
   "execution_count": null,
   "metadata": {},
   "outputs": [],
   "source": [
    "# Remove Y genes\n",
    "indegree = indegree[-which(chr_loc == \"chrY\"),]\n",
    "genes = genes[-which(chr_loc == \"chrY\")]\n",
    "rownames(indegree) = genes"
   ]
  },
  {
   "cell_type": "markdown",
   "metadata": {},
   "source": [
    "Next we load a matrix containing phenotypic information for all samples."
   ]
  },
  {
   "cell_type": "code",
   "execution_count": null,
   "metadata": {},
   "outputs": [],
   "source": [
    "# Get phenotypes\n",
    "phenotypes = data.frame(read.table(paste0(ppath,\"TCGA_phenotypes.txt\", sep=\"\")))\n",
    "phenotypes = phenotypes[match(sample_IDs, rownames(phenotypes)),]\n",
    "phenotypes = phenotypes[,c(\"tcga.gdc_cases.demographic.gender\", \"tcga.gdc_cases.demographic.race\", \n",
    "                                \"tcga.xml_age_at_initial_pathologic_diagnosis\", \"tcga.gdc_cases.samples.sample_type\", \n",
    "                                \"tcga.gdc_cases.diagnoses.tumor_stage\", \"tcga.xml_tobacco_smoking_history\")]\n",
    "colnames(phenotypes) = c(\"sex\", \"race\", \"age\", \"sample_type\", \"tumor_stage\", \"smoking_status\")\n",
    "head(phenotypes)"
   ]
  },
  {
   "cell_type": "markdown",
   "metadata": {},
   "source": [
    "Next we specify factor levels for each categorical covariate and impute missing values for numerical covariates."
   ]
  },
  {
   "cell_type": "code",
   "execution_count": null,
   "metadata": {},
   "outputs": [],
   "source": [
    "# Define the covariates: gender, age, race, smoking, tumor_stage\n",
    "\n",
    "sex = phenotypes$sex\n",
    "sex[which(sex == \"male\")] = \"MALE\" \n",
    "sex[which(sex == \"female\")] = \"FEMALE\" \n",
    "sex = factor(sex, levels = c(\"MALE\", \"FEMALE\"))\n",
    "\n",
    "race = phenotypes$race\n",
    "race[which(race != \"black or african american\" & race != \"white\")] = \"others\"\n",
    "race = factor(race)\n",
    "\n",
    "age <- as.numeric(as.character(phenotypes$age))\n",
    "age[which(is.na(age))] = mean(age,na.rm=TRUE)\n",
    "\n",
    "smoking_status = phenotypes$smoking_status\n",
    "smoking_status[which(is.na(smoking_status))] = \"Unknown\"\n",
    "smoking_status[which(smoking_status == 1)] = \"No\"\n",
    "smoking_status[which(smoking_status %in% 2:5)] = \"Yes\"\n",
    "smoking_status = factor(smoking_status, levels = c(\"No\", \"Yes\", \"Unknown\"))\n",
    "\n",
    "tumor_stage = phenotypes$tumor_stage\n",
    "tumor_stage[which(tumor_stage == \"stage i\" | tumor_stage == \"stage ia\" | tumor_stage == \"stage ib\")] = \"stageI\"\n",
    "tumor_stage[which(tumor_stage == \"stage ii\" | tumor_stage == \"stage iia\" | tumor_stage == \"stage iib\")] = \"stageII\"\n",
    "tumor_stage[which(tumor_stage == \"Stage iii\" | tumor_stage == \"stage iiia\" | tumor_stage == \"stage iiib\")] = \"stageIII\"\n",
    "tumor_stage[which(tumor_stage == \"stage iv\")] = \"stageIV\"\n",
    "tumor_stage = factor(tumor_stage, levels = c(\"stageI\", \"stageII\", \"stageIII\", \"stageIV\", \"not reported\"))\n"
   ]
  },
  {
   "cell_type": "markdown",
   "metadata": {},
   "source": [
    "## 2. Differential Targeting Analysis"
   ]
  },
  {
   "cell_type": "markdown",
   "metadata": {},
   "source": [
    "Next we construct the design matrix for differential targeting analysis and fit linear model with R package \"limma\" for quantifying the effect of sex for smokers and nonsmokers separately, while adjusting for age, race and tumor stage."
   ]
  },
  {
   "cell_type": "code",
   "execution_count": null,
   "metadata": {},
   "outputs": [],
   "source": [
    "# Define the design matrix\n",
    "design = model.matrix(~ age + sex + race + smoking_status + tumor_stage + sex*smoking_status)\n",
    "\n",
    "# Fit linear model\n",
    "fit <- lmFit(indegree, design)\n",
    "fit <- eBayes(fit)"
   ]
  },
  {
   "cell_type": "markdown",
   "metadata": {},
   "source": [
    "We order genes by descending order of difference between females and males, so that genes highly targeted in females compared to males are at the top of the table and genes highly targeted in males compared to females are at the bottom of the table."
   ]
  },
  {
   "cell_type": "code",
   "execution_count": null,
   "metadata": {},
   "outputs": [],
   "source": [
    "# Table for sex difference: nonsmoker\n",
    "tb = topTable(fit,coef=\"sexFEMALE\",number=Inf)\n",
    "tb$chr = gene_info$seqnames[match(rownames(tb), gene_info$gene_id)]\n",
    "tb$gene_name = gene_info$gene_name[match(rownames(tb), gene_info$gene_id)]\n",
    "head(tb)\n",
    "tb_nonsmoker = tb\n",
    "\n",
    "# Table for sex difference: smoker\n",
    "colnames(design) = make.names(colnames(design))\n",
    "contrast.matrix <- makeContrasts(sexFEMALE_smoker = sexFEMALE + sexFEMALE.smoking_statusYes, levels=design)\n",
    "colnames(fit$coefficients) = rownames(contrast.matrix)\n",
    "fit2 <- contrasts.fit(fit, contrast.matrix)\n",
    "fit2 <- eBayes(fit2)\n",
    "tb = topTable(fit2,coef=\"sexFEMALE_smoker\",number=Inf)\n",
    "tb$chr = gene_info$seqnames[match(rownames(tb), gene_info$gene_id)]\n",
    "tb$gene_name = gene_info$gene_name[match(rownames(tb), gene_info$gene_id)]\n",
    "head(tb)\n",
    "tb_smoker = tb"
   ]
  },
  {
   "cell_type": "markdown",
   "metadata": {},
   "source": [
    "## 3. Gene set enrichment analysis\n",
    "We rank genes by the t-statistic of the sex coefficient and perform GSEA using these ranked list of genes."
   ]
  },
  {
   "cell_type": "code",
   "execution_count": null,
   "metadata": {},
   "outputs": [],
   "source": [
    "# Rank genes in limma table\n",
    "indegree_rank_nonsmoker <- setNames(object=tb_nonsmoker[,\"t\"], tb_nonsmoker$gene_name)\n",
    "head(indegree_rank_nonsmoker)\n",
    "\n",
    "indegree_rank_smoker <- setNames(object=tb_smoker[,\"t\"], tb_smoker$gene_name)\n",
    "head(indegree_rank_smoker)"
   ]
  },
  {
   "cell_type": "code",
   "execution_count": null,
   "metadata": {},
   "outputs": [],
   "source": [
    "# Load KEGG pathways\n",
    "pathways <- gmtPathways(paste0(ppath,\"c2.cp.kegg.v2022.1.Hs.symbols.gmt\"))"
   ]
  },
  {
   "cell_type": "markdown",
   "metadata": {},
   "source": [
    "We set the seed for reproducible GSEA results"
   ]
  },
  {
   "cell_type": "code",
   "execution_count": null,
   "metadata": {},
   "outputs": [],
   "source": [
    "set.seed(1)"
   ]
  },
  {
   "cell_type": "code",
   "execution_count": null,
   "metadata": {},
   "outputs": [],
   "source": [
    "# Perform GSEA\n",
    "fgseaRes_nonsmoker <- fgsea(pathways, indegree_rank_nonsmoker, minSize=15, maxSize=500)\n",
    "fgseaRes_smoker <- fgsea(pathways, indegree_rank_smoker, minSize=15, maxSize=500)"
   ]
  },
  {
   "cell_type": "markdown",
   "metadata": {},
   "source": [
    "We demonstrate a heatmap of all biological pathways that are significantly differentially targeted between males and females in either nonsmokers or smokers."
   ]
  },
  {
   "cell_type": "code",
   "execution_count": null,
   "metadata": {},
   "outputs": [],
   "source": [
    "# Create a table with NES scores by smoking status for drawing Heatmap\n",
    "heatmap_tab = cbind(fgseaRes_nonsmoker$NES, fgseaRes_smoker$NES[match(fgseaRes_nonsmoker$pathway, fgseaRes_smoker$pathway)])\n",
    "rownames(heatmap_tab) = fgseaRes_nonsmoker$pathway\n",
    "head(heatmap_tab)\n",
    "\n",
    "# Plot only Pathways significant at level 0.05 in either nonsmokers or smokers\n",
    "sig_pathways = rownames(heatmap_tab)[which((fgseaRes_nonsmoker$padj<0.05) | (fgseaRes_smoker$padj<0.05))]\n",
    "tab_subset = heatmap_tab[which(rownames(heatmap_tab) %in% sig_pathways),]\n",
    "\n",
    "colnames(tab_subset) = c(\"nonsmoker\", \"smoker\")\n",
    "rownames(tab_subset) = stringr::str_to_title(lapply(strsplit(rownames(tab_subset), split = \"_\"), function(x){paste(x[-1], collapse = \" \")}))"
   ]
  },
  {
   "cell_type": "code",
   "execution_count": null,
   "metadata": {},
   "outputs": [],
   "source": [
    "mycol2 <- colorRampPalette(rev(brewer.pal(11,\"RdBu\")))(50)\n",
    "# Make a heatmap of first 20 pathways with significant sex difference\n",
    "heatmap.2(as.matrix(tab_subset[1:20,]),density.info=\"none\",trace=\"none\",col=mycol2,symbreaks=T,symkey=T, \n",
    "                                cexRow=1, cexCol=1, srtCol = 0, mar=c(10,20), key.title=NULL, key.xlab=\"NES\", Colv = F)"
   ]
  },
  {
   "cell_type": "code",
   "execution_count": null,
   "metadata": {},
   "outputs": [],
   "source": [
    "# Make a heatmap of the next 20 pathways with significant sex difference\n",
    "heatmap.2(as.matrix(tab_subset[21:40,]),density.info=\"none\",trace=\"none\",col=mycol2,symbreaks=T,symkey=T, \n",
    "                                cexRow=1, cexCol=1, srtCol = 0, mar=c(10,20), key.title=NULL, key.xlab=\"NES\", Colv = F)"
   ]
  },
  {
   "cell_type": "code",
   "execution_count": null,
   "metadata": {},
   "outputs": [],
   "source": [
    "# Make a heatmap of the last 17 pathways with significant sex difference\n",
    "heatmap.2(as.matrix(tab_subset[41:nrow(tab_subset),]),density.info=\"none\",trace=\"none\",col=mycol2,symbreaks=T,symkey=T, \n",
    "                                cexRow=1, cexCol=1, srtCol = 0, mar=c(10,20), key.title=NULL, key.xlab=\"NES\", Colv = F)"
   ]
  },
  {
   "cell_type": "markdown",
   "metadata": {},
   "source": [
    "## 4. Conclusion "
   ]
  },
  {
   "cell_type": "markdown",
   "metadata": {},
   "source": [
    "Based on our analysis we observe that in lung adenocarcinoma primary tumor, pathways related to cell adhesion and cell proliferation including pathways in cancer, WNT signaling pathway and MTOR signaling pathway were highly targeted in males, compared to females irrespective of smoking status.\n",
    "\n",
    "Most pathways associated to immune response including allograft rejection, intestinal immune response for IGA production, antigen processing and presentation, Natural Killer Cell Mediated Cytotoxicity, all showed higher targeting in females compared to males in both nonsmokers and smokers. However, other immune associated pathways such as Jak-Stat signaling pathway, Chemokine Signaling Pathway and Cytokine Cytokine Receptor Interaction were highly targeted in males among nonsmokers and in females among smokers.\n",
    "\n",
    "This differential regulation of key biological pathways might be a contributing factor towards the difference in prognosis and response to therapy between males and females in LUAD."
   ]
  },
  {
   "cell_type": "markdown",
   "metadata": {},
   "source": [
    "## References \n",
    "\n",
    "1- Lopes-Ramos, Camila M., John Quackenbush, and Dawn L. DeMeo. \"Genome-wide sex and gender differences in cancer.\" Frontiers in Oncology 10 (2020): 2486\n",
    "\n",
    "2- Glass, Kimberly, et al. \"Passing messages between biological networks to refine predicted interactions.\" PloS one 8.5 (2013): e64832.\n",
    "\n",
    "3- Kuijjer, Marieke Lydia, et al. \"Estimating sample-specific regulatory networks.\" Iscience 14 (2019): 226-240.\n",
    "\n",
    "4- Tomczak, Katarzyna, Patrycja Czerwińska, and Maciej Wiznerowicz. \"The Cancer Genome Atlas (TCGA): an immeasurable source of knowledge.\" Contemporary oncology 19.1A (2015): A68.\n",
    "\n",
    "5- Ben Guebila, Marouen, et al. \"GRAND: a database of gene regulatory network models across human conditions.\" Nucleic Acids Research 50.D1 (2022): D610-D621.\n",
    "\n",
    "6- Kanehisa, Minoru. \"The KEGG database.\" ‘In silico’simulation of biological processes: Novartis Foundation Symposium 247. Vol. 247. Chichester, UK: John Wiley & Sons, Ltd, 2002.\n",
    "\n",
    "7- Ben Guebila, Marouen, et al. \"The Network Zoo: a multilingual package for the inference and analysis of gene regulatory networks.\" Genome Biology 24.1 (2023): 45.\n",
    "\n",
    "8- Lambert, Samuel A., et al. \"The human transcription factors.\" Cell 172.4 (2018): 650-665.\n",
    "\n",
    "9- Szklarczyk, Damian, et al. \"The STRING database in 2021: customizable protein–protein networks, and functional characterization of user-uploaded gene/measurement sets.\" Nucleic acids research 49.D1 (2021): D605-D612."
   ]
  }
 ],
 "metadata": {
  "kernelspec": {
   "display_name": "RP9",
   "language": "R",
   "name": "rp9"
  },
  "language_info": {
   "codemirror_mode": "r",
   "file_extension": ".r",
   "mimetype": "text/x-r-source",
   "name": "R",
   "pygments_lexer": "r",
   "version": "4.4.2"
  }
 },
 "nbformat": 4,
 "nbformat_minor": 5
}
