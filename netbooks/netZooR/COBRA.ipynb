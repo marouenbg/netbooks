{
 "cells": [
  {
   "cell_type": "markdown",
   "metadata": {},
   "source": [
    "# Decomposing gene co-expression networks with COBRA\n",
    "Author: Soel Micheletti<sup>1</sup>\n",
    "\n",
    "<sup>1</sup> Department of Biostatistics, Harvard T.H. Chan School of Public Health, Boston, MA."
   ]
  },
  {
   "cell_type": "markdown",
   "metadata": {},
   "source": [
    "## 1. Introduction\n",
    "COBRA decomposes a gene co-expression network as a linear combination of covariate-specific components. It takes as input a gene co-expression network and a design matrix. Depending on the choice of the covariates in the design matrix, COBRA can be used to tackle different tasks in system biology. In this tutorial we show how it can be applied for batch correction, differential co-expression analysis controlling for variables, and to understand the impact of variables of interest to the observed co-expression. \n",
    "\n",
    "![**Figure 1:** COBRA workflow.](https://netzoo.s3.us-east-2.amazonaws.com/netbooks/cobrapy/cobra.png)\n",
    "\n",
    "COBRA is now part of the [netZooR package](https://github.com/netZoo/netZooR). You can install COBRA with other netZoo tools using the command below."
   ]
  },
  {
   "cell_type": "markdown",
   "metadata": {},
   "source": [
    "```\n",
    "devtools::install_github(\"netZoo/netZooR\", build_vignettes = TRUE)\n",
    "```"
   ]
  },
  {
   "cell_type": "markdown",
   "metadata": {},
   "source": [
    "If you need help or if you have any question about netZoo, feel free to start with [discussions](https://github.com/netZoo/netZooR/discussions). To report a bug, please open a new [issue](https://github.com/netZoo/netZooR/issues). \n",
    "\n",
    "For this tutorial, we need to importthe following libraries. "
   ]
  },
  {
   "cell_type": "code",
   "execution_count": null,
   "metadata": {},
   "outputs": [],
   "source": [
    "library(DESeq2)\n",
    "library(fastDummies)\n",
    "library(netZooR)\n",
    "library(recount3)"
   ]
  },
  {
   "cell_type": "markdown",
   "metadata": {},
   "source": [
    "### 2. Downloading data from recount3"
   ]
  },
  {
   "cell_type": "markdown",
   "metadata": {},
   "source": [
    "To illustrate how to use COBRA for different tasks, we use recount3 <sup>1</sup> to download thyroid carcinoma (THCA) data from the TCGA project <sup>2</sup>. "
   ]
  },
  {
   "cell_type": "code",
   "execution_count": null,
   "metadata": {},
   "outputs": [],
   "source": [
    "data <- recount3::create_rse_manual(\n",
    "  project = \"THCA\",\n",
    "  project_home = \"data_sources/tcga\",\n",
    "  organism = \"human\",\n",
    "  annotation = \"gencode_v26\",\n",
    "  type = \"gene\"\n",
    ")\n",
    "G <- transform_counts(data, by = \"mapped_reads\")\n",
    "G <- G[data@rowRanges@elementMetadata@listData$gene_type == \"protein_coding\",]\n",
    "G <- G[-which(rowSums(G) <= 1),] # Filtering: remove genes with no counts\n",
    "countMat=SummarizedExperiment::assay(DESeqDataSetFromMatrix(G, data.frame(row.names=seq_len(ncol(G))), ~1), 1)\n",
    "gene_expression <- vst(countMat, blind=FALSE)"
   ]
  },
  {
   "cell_type": "code",
   "execution_count": null,
   "metadata": {},
   "outputs": [],
   "source": [
    "metadata_url <- locate_url(\n",
    "  \"THCA\",\n",
    "  \"data_sources/tcga\")\n",
    "metadata <- read_metadata(file_retrieve(url = metadata_url))"
   ]
  },
  {
   "cell_type": "markdown",
   "metadata": {},
   "source": [
    "The gene expression dataset contains the expression of 19711 genes for 572 samples. The metadata contains a collection of additional information for each sample. "
   ]
  },
  {
   "cell_type": "code",
   "execution_count": null,
   "metadata": {},
   "outputs": [],
   "source": [
    "dim(gene_expression)"
   ]
  },
  {
   "cell_type": "markdown",
   "metadata": {},
   "source": [
    "## 3. Applications of COBRA\n",
    "COBRA requires two inputs:      \n",
    "1. a gene expression matrix with rows as genes and column as samples; \n",
    "2. a design matrix with rows as samples and covariates as columns.\n",
    "\n",
    "Depending on the covariates in the design matrix, COBRA can be used for multiple purposes.\n",
    "\n",
    "### 3.1 Higher order batch correction\n",
    "\n",
    "A first application is batch correction of the co-expression network. In this case, we correct for the batch variable in our data. "
   ]
  },
  {
   "cell_type": "code",
   "execution_count": null,
   "metadata": {},
   "outputs": [],
   "source": [
    "batch <- metadata$tcga.cgc_case_batch_number"
   ]
  },
  {
   "cell_type": "markdown",
   "metadata": {},
   "source": [
    "In our dataset, the 572 samples come from 17 distinct batches. "
   ]
  },
  {
   "cell_type": "code",
   "execution_count": null,
   "metadata": {},
   "outputs": [],
   "source": [
    "length(unique(batch))"
   ]
  },
  {
   "cell_type": "markdown",
   "metadata": {},
   "source": [
    "For batch correction, the design matrix must contain an intercept in the first column, and the batches (encoded usy dummy coding for identifiability) in the remaining columns. "
   ]
  },
  {
   "cell_type": "code",
   "execution_count": null,
   "metadata": {},
   "outputs": [],
   "source": [
    "number_of_samples <- dim(gene_expression)[2]\n",
    "X <- cbind(rep(1, number_of_samples), as.matrix(dummy_cols(batch)[, -c(1:2)]))"
   ]
  },
  {
   "cell_type": "markdown",
   "metadata": {},
   "source": [
    "We get a design matrix with 17 covariates (an intercept and 16 for the dummy coding) for the 572 samples in our study. "
   ]
  },
  {
   "cell_type": "code",
   "execution_count": null,
   "metadata": {},
   "outputs": [],
   "source": [
    "dim(X)"
   ]
  },
  {
   "cell_type": "markdown",
   "metadata": {},
   "source": [
    "We are now ready to fit COBRA"
   ]
  },
  {
   "cell_type": "code",
   "execution_count": null,
   "metadata": {},
   "outputs": [],
   "source": [
    "cobra_estimates <- cobra(X, gene_expression)"
   ]
  },
  {
   "cell_type": "markdown",
   "metadata": {},
   "source": [
    "The batch corrected network consider only the mean effect after removing the contribution of the batch variables. It is computed as follows. "
   ]
  },
  {
   "cell_type": "code",
   "execution_count": null,
   "metadata": {},
   "outputs": [],
   "source": [
    "corrected_network <- cobra_estimates$Q %*% diag(cobra_estimates$psi[1,]) %*% t(cobra_estimates$Q)"
   ]
  },
  {
   "cell_type": "markdown",
   "metadata": {},
   "source": [
    "### 3.2 Differential co-expression analysis"
   ]
  },
  {
   "cell_type": "markdown",
   "metadata": {},
   "source": [
    "A second application is differential co-expression analysis between two conditions of interest. Here, we are interested in the differential co-expression between healthy and cancer samples. We extract the sample type for each sample. "
   ]
  },
  {
   "cell_type": "code",
   "execution_count": null,
   "metadata": {},
   "outputs": [],
   "source": [
    "cancer <- metadata$tcga.gdc_cases.samples.sample_type\n",
    "cancer <- ifelse(cancer == \"Solid Tissue Normal\", 0, 1)"
   ]
  },
  {
   "cell_type": "markdown",
   "metadata": {},
   "source": [
    "In this case, the design matrix contains an intercept an a second column with an indicator for cancer/ healthy. The additional columns are for the variables we want to adjust for. Similarly as before, we consider the batch variable. "
   ]
  },
  {
   "cell_type": "code",
   "execution_count": null,
   "metadata": {},
   "outputs": [],
   "source": [
    "number_of_samples <- dim(gene_expression)[2]\n",
    "X <- cbind(rep(1, number_of_samples), cancer, as.matrix(dummy_cols(batch)[, -c(1:2)]))"
   ]
  },
  {
   "cell_type": "markdown",
   "metadata": {},
   "source": [
    "We are now ready to fit COBRA and extract the component corresponding to the differential co-expression. Since the indicator variable for cancer is the second column in our design matrix, the COBRA-adjusted differential co-expression network corresponds to the second component of COBRA's decomposition. "
   ]
  },
  {
   "cell_type": "code",
   "execution_count": null,
   "metadata": {},
   "outputs": [],
   "source": [
    "cobra_estimates <- cobra(X, gene_expression)\n",
    "differential_coexpression <- cobra_estimates$Q %*% diag(cobra_estimates$psi[2,]) %*% t(cobra_estimates$Q)"
   ]
  },
  {
   "cell_type": "markdown",
   "metadata": {},
   "source": [
    "### 3.3 Identifying the component for a covariate of interest\n",
    "\n",
    "COBRA is general enough to be applied to any variable. For instance, if we want to study the differences between males and females in cancer, we can use the following design matrix. "
   ]
  },
  {
   "cell_type": "code",
   "execution_count": null,
   "metadata": {},
   "outputs": [],
   "source": [
    "sex <- metadata$tcga.gdc_cases.demographic.gender\n",
    "sex <- ifelse(sex == \"male\", 0, 1)\n",
    "number_of_samples <- dim(gene_expression)[2]\n",
    "X <- cbind(rep(1, number_of_samples), cancer, sex, sex * cancer)"
   ]
  },
  {
   "cell_type": "markdown",
   "metadata": {},
   "source": [
    "With this design, the last component of COBRA's decomposition describes the sex differes in cancer between male and females. "
   ]
  },
  {
   "cell_type": "code",
   "execution_count": null,
   "metadata": {},
   "outputs": [],
   "source": [
    "cobra_estimates <- cobra(X, gene_expression)\n",
    "sex_differences_in_cancer <- cobra_estimates$Q %*% diag(cobra_estimates$psi[4,]) %*% t(cobra_estimates$Q)"
   ]
  },
  {
   "cell_type": "markdown",
   "metadata": {},
   "source": [
    "## Reference\n",
    "\n",
    "1- Christopher Wilks, Shijie C. Zheng, Feng Yong Chen, Rone Charles, Brad Solomon, Jonathan P. Ling, Eddie Luidy Imada, David Zhang, Lance Joseph, Jeffrey T. Leek, Andrew E. Jaffe, Abhinav Nellore, Leonardo Collado-Torres, Kasper D. Hansen, Ben Langmead. \"recount3: summaries and queries for large-scale RNA-seq expression and splicing\". Genome Biol (2021). \n",
    "\n",
    "2- Agrawal, Nishant, et al. \"Integrated genomic characterization of papillary thyroid carcinoma.\" Cell 159.3 (2014): 676-690."
   ]
  }
 ],
 "metadata": {
  "kernelspec": {
   "display_name": "RV10",
   "language": "R",
   "name": "rv10"
  },
  "language_info": {
   "codemirror_mode": "r",
   "file_extension": ".r",
   "mimetype": "text/x-r-source",
   "name": "R",
   "pygments_lexer": "r",
   "version": "4.2.2"
  }
 },
 "nbformat": 4,
 "nbformat_minor": 5
}
