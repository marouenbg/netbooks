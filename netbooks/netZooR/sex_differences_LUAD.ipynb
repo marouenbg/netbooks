{
 "cells": [
  {
   "cell_type": "markdown",
   "metadata": {},
   "source": [
    "# Sex differences in lung adenocarcinoma (LUAD)\n",
    "Authors: Mia Shapoval<sup>1</sup>, Camila Lopes-Ramos<sup>2,3</sup>, Marouen Ben Guebila<sup>2</sup>, John Quackenbsuh<sup>2,3</sup>\n",
    "\n",
    "<sup>1</sup>Boston University Academy, Boston, MA.\n",
    "\n",
    "<sup>2</sup>Department of Biostatistics, Harvard T.H. Chan School of Public Health, Boston, MA.\n",
    "\n",
    "<sup>3</sup>Channing Division of Network Medicine, Brigham and Women's Hospital and Harvard Medical School, Boston, MA."
   ]
  },
  {
   "cell_type": "markdown",
   "metadata": {},
   "source": [
    "## 1. Introduction \n",
    "\n",
    "It’s known that males and females exhibit diseases differently. However, there’s still very little research on why this is true<sup>1</sup>. Most studies about diseases or the effects of treatments don’t take sex and gender into account, if they include women at all. In order to study the difference between males and females we need to look at the processes that regulate gene expression.\n",
    "\n",
    "This analysis aims to identify sex differences in lung adenocarcinoma (LUAD). This will be done by first reconstructing gene regulatory networks for LUAD and normal lung by using the PANDA<sup>2</sup> method. The PANDA method (Passing Attributes between Networks for Data Assimilation), estimates bipartite graphs where transcription factors (TFs) and their target genes are the nodes, and edge weights show the probability the TF regulates the corresponding target gene. Next, differential targeting between males and females are computed for LUAD and normal lung. This is to find gene regulatory differences between the male and female LUAD networks, and the male and female normal lung networks. Finally, a gene set enrichment analysis for LUAD and normal lung is completed. A gene set enrichment analysis identifies the biological processes enriched for genes highly targeted in males and those processes enriched for genes highly targeted in females. \n",
    "\n",
    "The LUAD data used is provided from TCGA<sup>3</sup>, a NIH project that has gathered gene expression data from various cancer types. The normal lung data is from GTEx<sup>4</sup>. \n",
    "\n",
    "This analysis can be ran on the server or locally by setting the following parameter."
   ]
  },
  {
   "cell_type": "code",
   "execution_count": null,
   "metadata": {},
   "outputs": [],
   "source": [
    "runserver=1"
   ]
  },
  {
   "cell_type": "markdown",
   "metadata": {},
   "source": [
    "### Loading libraries "
   ]
  },
  {
   "cell_type": "markdown",
   "metadata": {},
   "source": [
    "The following libraries are used in this analysis:"
   ]
  },
  {
   "cell_type": "code",
   "execution_count": null,
   "metadata": {},
   "outputs": [],
   "source": [
    "library(netZooR)    #To load PANDA\n",
    "library(visNetwork) #For network visualization \n",
    "library(fgsea)      #For gene set enrichment analysis \n",
    "library(ggplot2)    #To build the bubble plot for gene enrichment"
   ]
  },
  {
   "cell_type": "markdown",
   "metadata": {},
   "source": [
    "Then we will set the project path to load input data and save results."
   ]
  },
  {
   "cell_type": "code",
   "execution_count": null,
   "metadata": {},
   "outputs": [],
   "source": [
    "ppath = '/opt/data/netZooR/lungcancer/'"
   ]
  },
  {
   "cell_type": "markdown",
   "metadata": {},
   "source": [
    "Here we will load a table with gene Ensembl ID and HGNC from GENCODE V22. We will use this to convert Ensembl IDs to HGNC, required for gene set enrichment analysis. Let's first download the annotation file."
   ]
  },
  {
   "cell_type": "code",
   "execution_count": null,
   "metadata": {},
   "outputs": [],
   "source": [
    "if(runserver==0){\n",
    "    system(\"curl -O https://netzoo.s3.us-east-2.amazonaws.com/netbooks/lungcancer/gencode_annotation_v22_complete.txt\")\n",
    "}"
   ]
  },
  {
   "cell_type": "code",
   "execution_count": null,
   "metadata": {},
   "outputs": [],
   "source": [
    "annot <- read.delim(paste0(ppath,\"gencode_annotation_v22_complete.txt\"), stringsAsFactors=F)"
   ]
  },
  {
   "cell_type": "code",
   "execution_count": null,
   "metadata": {},
   "outputs": [],
   "source": [
    "head(annot)"
   ]
  },
  {
   "cell_type": "markdown",
   "metadata": {},
   "source": [
    "To convert gene IDs to gene names, we can use the `gene_id` and `gene_name` columns."
   ]
  },
  {
   "cell_type": "markdown",
   "metadata": {},
   "source": [
    "## 2. Reconstruction of LUAD differential gene regulatory networks in males and females\n",
    "\n",
    "### 2.1. Reconstruction of gene regulatory network in healthy lung\n",
    "\n",
    "#### 2.1.1. Reconstruction of gene regulatory network in females\n"
   ]
  },
  {
   "cell_type": "markdown",
   "metadata": {},
   "source": [
    "First, let's start by specifying the path to the input data. Since the analysis may take a while, we will use the precomputed results by setting the `precomputed` argument to 1."
   ]
  },
  {
   "cell_type": "code",
   "execution_count": null,
   "metadata": {},
   "outputs": [],
   "source": [
    "precomputed <- 1"
   ]
  },
  {
   "cell_type": "markdown",
   "metadata": {},
   "source": [
    "The following code sets the path for the input data for PANDA. PANDA takes 3 inputs: 1) gene expression in normal lung in female donors, 2) a TF motif prior network, and 4) a TF PPI network."
   ]
  },
  {
   "cell_type": "code",
   "execution_count": null,
   "metadata": {},
   "outputs": [],
   "source": [
    "if (precomputed == 0){\n",
    "    inputargs <- c(\"lung/luad/data\",\n",
    "                   paste0(ppath,\"exp_logQsmooth_female_lung.txt\"),\n",
    "                   paste0(ppath,\"motif_640_30243_female_ZeroYgenesPrior.txt\"),\n",
    "                   paste0(ppath,\"ppi_640.txt\"),\n",
    "                   \"female_lung\")\n",
    "\n",
    "    inputargs <- commandArgs(TRUE)\n",
    "    print(inputargs)\n",
    "\n",
    "    data_dir <- inputargs[1]\n",
    "    exp_file <- inputargs[2]\n",
    "    motif_file <- inputargs[3]\n",
    "    ppi_file  <- inputargs[4]\n",
    "    tag <- inputargs[5]\n",
    "}"
   ]
  },
  {
   "cell_type": "markdown",
   "metadata": {},
   "source": [
    "Next, we will load the gene experession, ppi, and motif data."
   ]
  },
  {
   "cell_type": "code",
   "execution_count": null,
   "metadata": {},
   "outputs": [],
   "source": [
    "if (precomputed == 0){\n",
    "    exp <- read.delim(paste0(ppath,\"exp_logQsmooth_female_lung.txt\"), check.names = FALSE)\n",
    "    ppi <- read.delim(paste0(ppath,\"ppi_640.txt\"), stringsAsFactors=F, header=F)\n",
    "    motif <- read.delim(paste0(ppath,\"motif_640_30243_female_ZeroYgenesPrior.txt\"), stringsAsFactors=F, header=F)\n",
    "}"
   ]
  },
  {
   "cell_type": "markdown",
   "metadata": {},
   "source": [
    "Gene expression data has 18355 genes across 122 samples, TF PPi data was taken from STRING database and has 83837 edges between 640 TFs, and the TF motif prior links 640 TFs to 30243 genes. Now, we will build the gene regulatory network by using the PANDA method<sup>1</sup> by integrating three sources of data. We will use the `intersection` mode which takes the intersecting genes between motif and gene co-expression networks, and the intersecting TFs between the motif and ppi networks."
   ]
  },
  {
   "cell_type": "code",
   "execution_count": null,
   "metadata": {},
   "outputs": [],
   "source": [
    "if (precomputed == 0){\n",
    "    panda_results <- panda(motif,exp, ppi, mode=\"intersection\")\n",
    "    panda <- panda_results@regNet\n",
    "    out_file <- paste0(\"../panda/panda_\",tag,\".rdata\")\n",
    "    save(panda, file=out_file)\n",
    "} else if (precomputed == 1) {\n",
    "    load(paste0(ppath,\"panda_female_lung.rdata\"))\n",
    "    panda_female_lung <- panda\n",
    "}"
   ]
  },
  {
   "cell_type": "markdown",
   "metadata": {},
   "source": [
    "Finally, we convert the gene IDs from ensembl to symbol format using the conversion table. "
   ]
  },
  {
   "cell_type": "code",
   "execution_count": null,
   "metadata": {},
   "outputs": [],
   "source": [
    "a      <- colnames(panda_female_lung)\n",
    "geneId <- annot[match(a,annot$gene_id),\"gene_name\"]\n",
    "colnames(panda_female_lung) <-  geneId"
   ]
  },
  {
   "cell_type": "markdown",
   "metadata": {},
   "source": [
    "#### 2.1.2. Reconstruction of gene regulatory network in males\n",
    "\n",
    "We do the same analysis for male donors of normal lung samples. The data files have the same dimensions as previously stated, except gene expression data that covers 238 male donors."
   ]
  },
  {
   "cell_type": "code",
   "execution_count": null,
   "metadata": {},
   "outputs": [],
   "source": [
    "if (precomputed == 0){\n",
    "    inputargs <- c(\"lung/luad/data\",\n",
    "                   paste0(ppath,\"exp_logQsmooth_male_lung.txt\"),\n",
    "                   paste0(ppath,\"motif_640_30243_male.txt\"),\n",
    "                   paste0(ppath,\"ppi_640.txt\"),\n",
    "                   \"male_lung\")\n",
    "\n",
    "    inputargs <- commandArgs(TRUE)\n",
    "    print(inputargs)\n",
    "\n",
    "    data_dir <- inputargs[1]\n",
    "    exp_file <- inputargs[2]\n",
    "    motif_file <- inputargs[3]\n",
    "    ppi_file  <- inputargs[4]\n",
    "    tag <- inputargs[5]\n",
    "}"
   ]
  },
  {
   "cell_type": "markdown",
   "metadata": {},
   "source": [
    "Again, we start by loading the input data."
   ]
  },
  {
   "cell_type": "code",
   "execution_count": null,
   "metadata": {},
   "outputs": [],
   "source": [
    "if (precomputed == 0){\n",
    "    exp <- read.delim(paste0(ppath,\"exp_logQsmooth_male_lung.txt\"), check.names = FALSE)\n",
    "    ppi <- read.delim(paste0(ppath,\"ppi_640.txt\"), stringsAsFactors=F, header=F)\n",
    "    motif <- read.delim(paste0(ppath,\"motif_640_30243_male.txt\"), stringsAsFactors=F, header=F)\n",
    "}"
   ]
  },
  {
   "cell_type": "markdown",
   "metadata": {},
   "source": [
    "Now, we run the PANDA method using the `intersection` mode."
   ]
  },
  {
   "cell_type": "code",
   "execution_count": null,
   "metadata": {},
   "outputs": [],
   "source": [
    "if (precomputed == 0){\n",
    "    panda_results <- panda(motif,exp, ppi, mode=\"intersection\")\n",
    "    panda <- panda_results@regNet\n",
    "    out_file <- paste0(\"../panda/panda_\",tag,\".rdata\")\n",
    "    save(panda, file=out_file)\n",
    "} else if (precomputed == 1) {\n",
    "    load(paste0(ppath,\"panda_male_lung.rdata\"))\n",
    "    panda_male_lung <- panda\n",
    "}"
   ]
  },
  {
   "cell_type": "markdown",
   "metadata": {},
   "source": [
    "Convert the gene IDs from ensembl to symbol format."
   ]
  },
  {
   "cell_type": "code",
   "execution_count": null,
   "metadata": {},
   "outputs": [],
   "source": [
    "a      <- colnames(panda_male_lung)\n",
    "geneId <- annot[match(a,annot$gene_id),\"gene_name\"]\n",
    "colnames(panda_male_lung) <-  geneId"
   ]
  },
  {
   "cell_type": "markdown",
   "metadata": {},
   "source": [
    "### 2.2. Reconstruction of gene regulatory network in LUAD\n",
    "\n",
    "Similarly, we built gene regulatory networks in LUAD in both males and females, keeping the motif and PPI network as in the preivous networks.\n",
    "#### 2.2.1. Reconstruction of gene regulatory network in females"
   ]
  },
  {
   "cell_type": "code",
   "execution_count": null,
   "metadata": {},
   "outputs": [],
   "source": [
    "if (precomputed == 0){\n",
    "    inputargs <- c(\"lung/luad/data\",\n",
    "                   paste0(ppath,\"exp_logQsmooth_female_luad.txt\"),\n",
    "                   paste0(ppath,\"motif_640_30243_female_ZeroYgenesPrior.txt\"),\n",
    "                   paste0(ppath,\"ppi_640.txt\"),\n",
    "                   \"female_lung\")\n",
    "\n",
    "    inputargs <- commandArgs(TRUE)\n",
    "    print(inputargs)\n",
    "\n",
    "    data_dir <- inputargs[1]\n",
    "    exp_file <- inputargs[2]\n",
    "    motif_file <- inputargs[3]\n",
    "    ppi_file  <- inputargs[4]\n",
    "    tag <- inputargs[5]\n",
    "} "
   ]
  },
  {
   "cell_type": "markdown",
   "metadata": {},
   "source": [
    "First, we need to load the input data."
   ]
  },
  {
   "cell_type": "code",
   "execution_count": null,
   "metadata": {},
   "outputs": [],
   "source": [
    "if (precomputed == 0){\n",
    "    exp <- read.delim(paste0(ppath,\"exp_logQsmooth_female_luad.txt\"), check.names = FALSE)\n",
    "    ppi <- read.delim(paste0(ppath,\"ppi_640.txt\"), stringsAsFactors=F, header=F)\n",
    "    motif <- read.delim(paste0(ppath,\"motif_640_30243_female_ZeroYgenesPrior.txt\"), stringsAsFactors=F, header=F)\n",
    "}"
   ]
  },
  {
   "cell_type": "markdown",
   "metadata": {},
   "source": [
    "Gene expression data in LUAD has 18355 genes across 280 samples. Then, we run the PANDA method using the `intersection` mode."
   ]
  },
  {
   "cell_type": "code",
   "execution_count": null,
   "metadata": {},
   "outputs": [],
   "source": [
    "if (precomputed == 0){\n",
    "    panda_results <- panda(motif,exp, ppi, mode=\"intersection\")\n",
    "    panda <- panda_results@regNet\n",
    "    out_file <- paste0(\"../panda/panda_\",tag,\".rdata\")\n",
    "    save(panda, file=out_file)\n",
    "} else if (precomputed == 1) {\n",
    "    load(paste0(ppath,\"panda_female_luad.rdata\"))\n",
    "    panda_female_luad <- panda\n",
    "}"
   ]
  },
  {
   "cell_type": "markdown",
   "metadata": {},
   "source": [
    "Convert the gene IDs from ensembl to symbol format "
   ]
  },
  {
   "cell_type": "code",
   "execution_count": null,
   "metadata": {},
   "outputs": [],
   "source": [
    "a <- colnames(panda_female_luad)\n",
    "geneId <- annot[match(a,annot$gene_id),\"gene_name\"]\n",
    "colnames(panda_female_luad) <-  geneId"
   ]
  },
  {
   "cell_type": "markdown",
   "metadata": {},
   "source": [
    "#### 2.2.1. Reconstruction of gene regulatory network in males\n",
    "The gene expression data in male LUAD includes 18355 across 242 male donors."
   ]
  },
  {
   "cell_type": "code",
   "execution_count": null,
   "metadata": {},
   "outputs": [],
   "source": [
    "if (precomputed == 0){\n",
    "    inputargs <- c(\"lung/luad/data\",\n",
    "                   paste0(ppath,\"exp_logQsmooth_male_luad.txt\"),\n",
    "                   paste0(ppath,\"motif_640_30243_male.txt\"),\n",
    "                   paste0(ppath,\"ppi_640.txt\"),\n",
    "                   \"male_lung\")\n",
    "\n",
    "    inputargs <- commandArgs(TRUE)\n",
    "    print(inputargs)\n",
    "\n",
    "    data_dir <- inputargs[1]\n",
    "    exp_file <- inputargs[2]\n",
    "    motif_file <- inputargs[3]\n",
    "    ppi_file  <- inputargs[4]\n",
    "    tag <- inputargs[5]\n",
    "}"
   ]
  },
  {
   "cell_type": "markdown",
   "metadata": {},
   "source": [
    "Again, we load the input data."
   ]
  },
  {
   "cell_type": "code",
   "execution_count": null,
   "metadata": {},
   "outputs": [],
   "source": [
    "if (precomputed == 0){\n",
    "    exp <- read.delim(paste0(ppath,\"exp_logQsmooth_male_luad.txt\"), check.names = FALSE)\n",
    "    ppi <- read.delim(paste0(ppath,\"ppi_640.txt\"), stringsAsFactors=F, header=F)\n",
    "    motif <- read.delim(paste0(ppath,\"motif_640_30243_male.txt\"), stringsAsFactors=F, header=F)\n",
    "} "
   ]
  },
  {
   "cell_type": "markdown",
   "metadata": {},
   "source": [
    "Finally, we run the PANDA method using the `intersection` mode."
   ]
  },
  {
   "cell_type": "code",
   "execution_count": null,
   "metadata": {},
   "outputs": [],
   "source": [
    "if (precomputed == 0){\n",
    "    panda_results <- panda(motif,exp, ppi, mode=\"intersection\")\n",
    "    panda <- panda_results@regNet\n",
    "    out_file <- paste0(\"../panda/panda_\",tag,\".rdata\")\n",
    "    save(panda, file=out_file)\n",
    "} else if (precomputed == 1) {\n",
    "    load(paste0(ppath,\"panda_male_luad.rdata\"))\n",
    "    panda_male_luad <- panda\n",
    "}"
   ]
  },
  {
   "cell_type": "markdown",
   "metadata": {},
   "source": [
    "Finally, we convert the gene IDs from ensembl to symbol format "
   ]
  },
  {
   "cell_type": "code",
   "execution_count": null,
   "metadata": {},
   "outputs": [],
   "source": [
    "a <- colnames(panda_male_luad)\n",
    "geneId <- annot[match(a,annot$gene_id),\"gene_name\"]\n",
    "colnames(panda_male_luad) <-  geneId"
   ]
  },
  {
   "cell_type": "markdown",
   "metadata": {},
   "source": [
    "## 3. Visualizing differential networks between normal lung and LUAD\n",
    "### 3.1. Visualizing differential networks between female normal lung and female LUAD"
   ]
  },
  {
   "cell_type": "markdown",
   "metadata": {},
   "source": [
    "Since PANDA produces genome-scale networks, it's hard to visualize all the edges. Therefore, we will select the most important edges."
   ]
  },
  {
   "cell_type": "code",
   "execution_count": null,
   "metadata": {},
   "outputs": [],
   "source": [
    "num_edges <- 100"
   ]
  },
  {
   "cell_type": "markdown",
   "metadata": {},
   "source": [
    "In this section, we format the network to match the expected input of the visualization library."
   ]
  },
  {
   "cell_type": "code",
   "execution_count": null,
   "metadata": {},
   "outputs": [],
   "source": [
    "edges = matrix(0L, num_edges, 3)\n",
    "colnames(edges) = c(\"from\",\"to\",\"value\")\n",
    "edges = as.data.frame(edges)"
   ]
  },
  {
   "cell_type": "markdown",
   "metadata": {},
   "source": [
    "The differential network is built by taking the difference between the LUAD and normal networks. The networks have the same size because we used PANDA with the `intersection` mode for both normal and LUAD networks in males and females, and changed only the gene expression input while keeping the motif and PPI network consistent across networks."
   ]
  },
  {
   "cell_type": "code",
   "execution_count": null,
   "metadata": {},
   "outputs": [],
   "source": [
    "diffNet = panda_female_luad - panda_female_lung\n",
    "diffNet"
   ]
  },
  {
   "cell_type": "markdown",
   "metadata": {},
   "source": [
    "The differential network has 640 TFs and 18355 genes."
   ]
  },
  {
   "cell_type": "code",
   "execution_count": null,
   "metadata": {},
   "outputs": [],
   "source": [
    "sort_mat = order(as.matrix(abs(diffNet)), decreasing = TRUE)\n",
    "edges$value  = as.matrix(diffNet)[sort_mat[1:num_edges]]"
   ]
  },
  {
   "cell_type": "markdown",
   "metadata": {},
   "source": [
    "Finally, we set the parameters for the visualization library."
   ]
  },
  {
   "cell_type": "code",
   "execution_count": null,
   "metadata": {},
   "outputs": [],
   "source": [
    "geneIdsTop = (sort_mat[1:num_edges] %/% dim(diffNet)[1]) + 1\n",
    "tfIdsTop = sort_mat[1:num_edges] %% dim(diffNet)[1]\n",
    "nTFs = dim(diffNet)[1]\n",
    "tfIdsTop[tfIdsTop == 0] = nTFs\n",
    "\n",
    "edges$to = colnames(diffNet)[geneIdsTop]\n",
    "edges$from = rownames(diffNet)[tfIdsTop]\n",
    "edges$arrows = \"to\"\n",
    "edges$color = ifelse(edges$value > 0, \"green\", \"red\")\n",
    "edges$value = abs(edges$value)\n",
    "\n",
    "nodes = data.frame(id = unique(as.vector(as.matrix(edges[,c(1,2)]))), label=unique(as.vector(as.matrix(edges[,c(1,2)]))))\n",
    "nodes$group = ifelse(nodes$id %in% edges$from, \"TF\", \"gene\")"
   ]
  },
  {
   "cell_type": "markdown",
   "metadata": {},
   "source": [
    "After setting all the parameters for visulaization, we will color the edges in green if they are larger in LUAD and in red if they are larger in normal tissue."
   ]
  },
  {
   "cell_type": "code",
   "execution_count": null,
   "metadata": {},
   "outputs": [],
   "source": [
    "net <- visNetwork(nodes, edges, width = \"100%\")\n",
    "net <- visGroups(net, groupname = \"TF\", shape = \"triangle\",\n",
    "                 color = list(background = \"orange\", border=\"black\"))\n",
    "net <- visGroups(net, groupname = \"gene\", shape = \"dot\",       \n",
    "                 color = list(background = \"darkblue\", border=\"black\"))\n",
    "visLegend(net, main=\"Legend\", position=\"right\", ncol=1)"
   ]
  },
  {
   "cell_type": "markdown",
   "metadata": {},
   "source": [
    "### 3.2. Visualizing differential networks between male normal lung and male LUAD\n",
    "We do the same steps to build the differential network in male donors, keeping only 100 edges."
   ]
  },
  {
   "cell_type": "code",
   "execution_count": null,
   "metadata": {},
   "outputs": [],
   "source": [
    "num_edges <- 100"
   ]
  },
  {
   "cell_type": "code",
   "execution_count": null,
   "metadata": {},
   "outputs": [],
   "source": [
    "edges = matrix(0L, num_edges, 3)\n",
    "colnames(edges) = c(\"from\",\"to\",\"value\")\n",
    "edges = as.data.frame(edges)"
   ]
  },
  {
   "cell_type": "code",
   "execution_count": null,
   "metadata": {},
   "outputs": [],
   "source": [
    "diffNet = panda_male_luad - panda_male_lung\n",
    "diffNet"
   ]
  },
  {
   "cell_type": "markdown",
   "metadata": {},
   "source": [
    "The differential network has 640 TFs and 18355 genes."
   ]
  },
  {
   "cell_type": "code",
   "execution_count": null,
   "metadata": {},
   "outputs": [],
   "source": [
    "sort_mat = order(as.matrix(abs(diffNet)), decreasing = TRUE)\n",
    "edges$value  = as.matrix(diffNet)[sort_mat[1:num_edges]]"
   ]
  },
  {
   "cell_type": "markdown",
   "metadata": {},
   "source": [
    "Finally, we specify the paramters for visualization to have positive edges in green and negative edges in red."
   ]
  },
  {
   "cell_type": "code",
   "execution_count": null,
   "metadata": {},
   "outputs": [],
   "source": [
    "geneIdsTop = (sort_mat[1:num_edges] %/% dim(diffNet)[1]) + 1\n",
    "tfIdsTop = sort_mat[1:num_edges] %% dim(diffNet)[1]\n",
    "nTFs = dim(diffNet)[1]\n",
    "tfIdsTop[tfIdsTop == 0] = nTFs\n",
    "\n",
    "edges$to = colnames(diffNet)[geneIdsTop]\n",
    "edges$from = rownames(diffNet)[tfIdsTop]\n",
    "edges$arrows = \"to\"\n",
    "edges$color = ifelse(edges$value > 0, \"green\", \"red\")\n",
    "edges$value = abs(edges$value)\n",
    "\n",
    "nodes = data.frame(id = unique(as.vector(as.matrix(edges[,c(1,2)]))), label=unique(as.vector(as.matrix(edges[,c(1,2)]))))\n",
    "nodes$group = ifelse(nodes$id %in% edges$from, \"TF\", \"gene\")"
   ]
  },
  {
   "cell_type": "code",
   "execution_count": null,
   "metadata": {},
   "outputs": [],
   "source": [
    "net <- visNetwork(nodes, edges, width = \"100%\")\n",
    "net <- visGroups(net, groupname = \"TF\", shape = \"triangle\",\n",
    "                 color = list(background = \"orange\", border=\"black\"))\n",
    "net <- visGroups(net, groupname = \"gene\", shape = \"dot\",       \n",
    "                 color = list(background = \"darkblue\", border=\"black\"))\n",
    "visLegend(net, main=\"Legend\", position=\"right\", ncol=1)"
   ]
  },
  {
   "cell_type": "markdown",
   "metadata": {},
   "source": [
    "## 4. Differential analysis between normal lung and LUAD\n",
    "In this section, using the differential networks we built, we will compute gene targeting scores<sup>6</sup>, that summarize the diffrences between networks in a single vector that we can use for gene enrichment analysis.\n",
    "### 4.1. Computing differential targeting between normal lung and LUAD\n",
    "Gene targeting scores are the weighted in-degree in the network. TF targeting scores are weighted out-degree in the network and they can be computed for each pair of comparisons (male vs female, lung vs luad) as follows:"
   ]
  },
  {
   "cell_type": "code",
   "execution_count": null,
   "metadata": {},
   "outputs": [],
   "source": [
    "tftar_female_lung <- rowSums(panda_female_lung)\n",
    "genetar_female_lung <- colSums(panda_female_lung)\n",
    "\n",
    "tftar_female_luad <- rowSums(panda_female_luad)\n",
    "genetar_female_luad <- colSums(panda_female_luad)\n",
    "\n",
    "tftar_male_lung <- rowSums(panda_male_lung)\n",
    "genetar_male_lung <- colSums(panda_male_lung)\n",
    "\n",
    "tftar_male_luad <- rowSums(panda_male_luad)\n",
    "genetar_male_luad <- colSums(panda_male_luad)"
   ]
  },
  {
   "cell_type": "markdown",
   "metadata": {},
   "source": [
    "First, we will compute the differntial TF targeting and gene targeting on the healthy lung by taking the difference between the targeting scores between males and females."
   ]
  },
  {
   "cell_type": "code",
   "execution_count": null,
   "metadata": {},
   "outputs": [],
   "source": [
    "tfttar_dif_lung  <- tftar_female_lung - tftar_male_lung\n",
    "genetar_dif_lung <- genetar_female_lung - genetar_male_lung"
   ]
  },
  {
   "cell_type": "markdown",
   "metadata": {},
   "source": [
    "Next, we will do the same on the LUAD network."
   ]
  },
  {
   "cell_type": "code",
   "execution_count": null,
   "metadata": {},
   "outputs": [],
   "source": [
    "tfttar_dif_luad  <- tftar_female_luad - tftar_male_luad\n",
    "genetar_dif_luad <- genetar_female_luad - genetar_male_luad"
   ]
  },
  {
   "cell_type": "markdown",
   "metadata": {},
   "source": [
    "### 4.2. Gene set enrichment analysis for LUAD"
   ]
  },
  {
   "cell_type": "markdown",
   "metadata": {},
   "source": [
    "In this section, we will analyze the list of top-targeted genes in a library of biological processes using Gene Set Enrichment Analysis (GSEA) to explore the pathways that involve these genes. First, we load the gene enrichment library."
   ]
  },
  {
   "cell_type": "code",
   "execution_count": null,
   "metadata": {},
   "outputs": [],
   "source": [
    "pathwayfile <- paste0(ppath,\"c2.cp.kegg.v7.1.symbols.gmt\")\n",
    "pathways <- gmtPathways(pathwayfile)"
   ]
  },
  {
   "cell_type": "markdown",
   "metadata": {},
   "source": [
    "Then, we conduct gene enrichment analysis using `fgsea` function."
   ]
  },
  {
   "cell_type": "code",
   "execution_count": null,
   "metadata": {},
   "outputs": [],
   "source": [
    "fgseaRes <- fgsea(pathways, genetar_dif_luad, minSize=15, maxSize=500, nperm=10000)"
   ]
  },
  {
   "cell_type": "markdown",
   "metadata": {},
   "source": [
    "GSEA shows an error because there were duplicate gene names in our list. This is due to the ENSG to Symbol conversion that can map several ENSEMBL IDs to the same gene symbol. We will keep the duplicates for now, however a better approach consists of using a GSEA package that accepts ENSEMBL gene ids."
   ]
  },
  {
   "cell_type": "code",
   "execution_count": null,
   "metadata": {},
   "outputs": [],
   "source": [
    "head(fgseaRes)"
   ]
  },
  {
   "cell_type": "markdown",
   "metadata": {},
   "source": [
    "The result table has biological processes or pathways and the significance of enrichment using p-values and multiple-testing adjusted p-values, as well as enrichment scores `ES`, and normalized enrichment score `NES`. We can select only those that have a p-value les than 0.05."
   ]
  },
  {
   "cell_type": "code",
   "execution_count": null,
   "metadata": {},
   "outputs": [],
   "source": [
    "sig <- fgseaRes[fgseaRes$padj < 0.05,]"
   ]
  },
  {
   "cell_type": "markdown",
   "metadata": {},
   "source": [
    "The following command lines allows us to take the top 10 KEGG terms in female LUAD. Since we took females as our reference group to build the differential network, the enriched pathways in females have a positive `NES`."
   ]
  },
  {
   "cell_type": "code",
   "execution_count": null,
   "metadata": {},
   "outputs": [],
   "source": [
    "sig$pathway[sig$NES > 0][1:10]"
   ]
  },
  {
   "cell_type": "markdown",
   "metadata": {},
   "source": [
    "By setting the normalized enrichment score (NES) to a negative value, we obtain the top 10 enriched terms in male LUAD."
   ]
  },
  {
   "cell_type": "code",
   "execution_count": null,
   "metadata": {},
   "outputs": [],
   "source": [
    "sig$pathway[sig$NES < 0][1:10]"
   ]
  },
  {
   "cell_type": "markdown",
   "metadata": {},
   "source": [
    "The following section draws a bubble plot to summarize our findings."
   ]
  },
  {
   "cell_type": "code",
   "execution_count": null,
   "metadata": {},
   "outputs": [],
   "source": [
    "dat <- data.frame(fgseaRes)\n",
    "# Settings\n",
    "fdrcut <- 0.05 # FDR cut-off to use as output for significant signatures\n",
    "dencol_neg <- \"blue\" # bubble plot color for negative ES\n",
    "dencol_pos <- \"red\" # bubble plot color for positive ES\n",
    "signnamelength <- 4 # set to remove prefix from signature names (2 for \"GO\", 4 for \"KEGG\", 8 for \"REACTOME\")\n",
    "asp <- 3 # aspect ratio of bubble plot\n",
    "charcut <- 100 # cut signature name in heatmap to this nr of characters\n",
    "# Make signature names more readable\n",
    "a <- as.character(dat$pathway) # 'a' is a great variable name to substitute row names with something more readable\n",
    "for (j in 1:length(a)){\n",
    "  a[j] <- substr(a[j], signnamelength+2, nchar(a[j]))\n",
    "}\n",
    "a <- tolower(a) # convert to lower case (you may want to comment this out, it really depends on what signatures you are looking at, c6 signatures contain gene names, and converting those to lower case may be confusing)\n",
    "for (j in 1:length(a)){\n",
    "  if(nchar(a[j])>charcut) { a[j] <- paste(substr(a[j], 1, charcut), \"...\", sep=\" \")}\n",
    "} # cut signature names that have more characters than charcut, and add \"...\"\n",
    "a <- gsub(\"_\", \" \", a)\n",
    "dat$NAME <- a\n",
    "# Determine what signatures to plot (based on FDR cut)\n",
    "dat2 <- dat[dat[,\"padj\"]<fdrcut,]\n",
    "dat2 <- dat2[order(dat2[,\"padj\"]),] \n",
    "dat2$signature <- factor(dat2$NAME, rev(as.character(dat2$NAME)))\n",
    "# Determine what labels to color\n",
    "sign_neg <- which(dat2[,\"NES\"]<0)\n",
    "sign_pos <- which(dat2[,\"NES\"]>0)\n",
    "# Color labels\n",
    "signcol <- rep(NA, length(dat2$signature))\n",
    "signcol[sign_neg] <- dencol_neg # text color of negative signatures\n",
    "signcol[sign_pos] <- dencol_pos # text color of positive signatures\n",
    "signcol <- rev(signcol) # need to revert vector of colors, because ggplot starts plotting these from below\n",
    "# Plot bubble plot\n",
    "g<-ggplot(dat2, aes(x=padj,y=signature,size=size))\n",
    "g+geom_point(aes(fill=NES), shape=21, colour=\"white\")+\n",
    "  theme_bw()+ # white background, needs to be placed before the \"signcol\" line\n",
    "  xlim(0,fdrcut)+\n",
    "  scale_size_area(max_size=10,guide=\"none\")+\n",
    "  scale_fill_gradient2(low=dencol_neg, high=dencol_pos)+\n",
    "  theme(axis.text.y = element_text(colour=signcol))+\n",
    "  theme(aspect.ratio=asp, axis.title.y=element_blank()) # test aspect.ratio"
   ]
  },
  {
   "cell_type": "markdown",
   "metadata": {},
   "source": [
    "### 4.3. Gene set enrichment analysis for normal lung\n",
    "We can also do the same sex difference analysis in the normal lung. Previously, we investigated sex differences across 29 normal tissues<sup>6</sup>."
   ]
  },
  {
   "cell_type": "code",
   "execution_count": null,
   "metadata": {},
   "outputs": [],
   "source": [
    "pathways <- gmtPathways(pathwayfile)"
   ]
  },
  {
   "cell_type": "code",
   "execution_count": null,
   "metadata": {},
   "outputs": [],
   "source": [
    "fgseaRes <- fgsea(pathways, genetar_dif_lung, minSize=15, maxSize=500, nperm=10000)"
   ]
  },
  {
   "cell_type": "code",
   "execution_count": null,
   "metadata": {},
   "outputs": [],
   "source": [
    "head(fgseaRes)"
   ]
  },
  {
   "cell_type": "markdown",
   "metadata": {},
   "source": [
    "Here as well, we use an adjusted p-value of 0.05 as our significance level."
   ]
  },
  {
   "cell_type": "code",
   "execution_count": null,
   "metadata": {},
   "outputs": [],
   "source": [
    "sig <- fgseaRes[fgseaRes$padj < 0.05,]"
   ]
  },
  {
   "cell_type": "markdown",
   "metadata": {},
   "source": [
    "We again use the following command lines allows us to take the top 10 KEGG terms in female normal lung. Since the femal network is our reference in the differential network, terms with positive `NES` scores are enriched in females."
   ]
  },
  {
   "cell_type": "code",
   "execution_count": null,
   "metadata": {},
   "outputs": [],
   "source": [
    "sig$pathway[sig$NES > 0][1:10]"
   ]
  },
  {
   "cell_type": "markdown",
   "metadata": {},
   "source": [
    "Just like before, we set the normalized enrichment score (NES) to a negative value, we obtain the top 10 enriched terms in male normal lung."
   ]
  },
  {
   "cell_type": "code",
   "execution_count": null,
   "metadata": {},
   "outputs": [],
   "source": [
    "sig$pathway[sig$NES < 0][1:10]"
   ]
  },
  {
   "cell_type": "markdown",
   "metadata": {},
   "source": [
    "Finally, we summarize our finding using a bubble plot."
   ]
  },
  {
   "cell_type": "code",
   "execution_count": null,
   "metadata": {},
   "outputs": [],
   "source": [
    "dat <- data.frame(fgseaRes)\n",
    "# Settings\n",
    "fdrcut <- 0.05 # FDR cut-off to use as output for significant signatures\n",
    "dencol_neg <- \"blue\" # bubble plot color for negative ES\n",
    "dencol_pos <- \"red\" # bubble plot color for positive ES\n",
    "signnamelength <- 4 # set to remove prefix from signature names (2 for \"GO\", 4 for \"KEGG\", 8 for \"REACTOME\")\n",
    "asp <- 3 # aspect ratio of bubble plot\n",
    "charcut <- 100 # cut signature name in heatmap to this nr of characters\n",
    "# Make signature names more readable\n",
    "a <- as.character(dat$pathway) # 'a' is a great variable name to substitute row names with something more readable\n",
    "for (j in 1:length(a)){\n",
    "  a[j] <- substr(a[j], signnamelength+2, nchar(a[j]))\n",
    "}\n",
    "a <- tolower(a) # convert to lower case (you may want to comment this out, it really depends on what signatures you are looking at, c6 signatures contain gene names, and converting those to lower case may be confusing)\n",
    "for (j in 1:length(a)){\n",
    "  if(nchar(a[j])>charcut) { a[j] <- paste(substr(a[j], 1, charcut), \"...\", sep=\" \")}\n",
    "} # cut signature names that have more characters than charcut, and add \"...\"\n",
    "a <- gsub(\"_\", \" \", a)\n",
    "dat$NAME <- a\n",
    "# Determine what signatures to plot (based on FDR cut)\n",
    "dat2 <- dat[dat[,\"padj\"]<fdrcut,]\n",
    "dat2 <- dat2[order(dat2[,\"padj\"]),] \n",
    "dat2$signature <- factor(dat2$NAME, rev(as.character(dat2$NAME)))\n",
    "# Determine what labels to color\n",
    "sign_neg <- which(dat2[,\"NES\"]<0)\n",
    "sign_pos <- which(dat2[,\"NES\"]>0)\n",
    "# Color labels\n",
    "signcol <- rep(NA, length(dat2$signature))\n",
    "signcol[sign_neg] <- dencol_neg # text color of negative signatures\n",
    "signcol[sign_pos] <- dencol_pos # text color of positive signatures\n",
    "signcol <- rev(signcol) # need to revert vector of colors, because ggplot starts plotting these from below\n",
    "# Plot bubble plot\n",
    "g<-ggplot(dat2, aes(x=padj,y=signature,size=size))\n",
    "g+geom_point(aes(fill=NES), shape=21, colour=\"white\")+\n",
    "  theme_bw()+ # white background, needs to be placed before the \"signcol\" line\n",
    "  xlim(0,fdrcut)+\n",
    "  scale_size_area(max_size=10,guide=\"none\")+\n",
    "  scale_fill_gradient2(low=dencol_neg, high=dencol_pos)+\n",
    "  theme(axis.text.y = element_text(colour=signcol))+\n",
    "  theme(aspect.ratio=asp, axis.title.y=element_blank()) # test aspect.ratio"
   ]
  },
  {
   "cell_type": "markdown",
   "metadata": {},
   "source": [
    "# 5. Conclusion "
   ]
  },
  {
   "cell_type": "markdown",
   "metadata": {},
   "source": [
    "This network analysis identified biological processes in LUAD that are differentially targeted between males and females, such as pathways in cancer, and in immune processes. There were also many drug metabolism-linked genes identified as differentially targeted between males and females. This could support previous work showing that men and women respond differently to drugs.<sup>5</sup>  \n",
    "\n",
    "In comparing males and females normal lung, some of the differences were linked to immuno-processes. This means that there are immuno-differences in males and females, which could be linked to the fact women are more likely to get lung cancer than males.<sup>6</sup>\n",
    "\n",
    "\n",
    "This analysis was able to identify sex differences in LUAD by completing a differential targeting and a gene enrichment analysis. The data produced from this analysis will hopefully aid in future research into sex differences in diseases, and provide others with more information about LUAD.\n",
    "\n",
    "\n"
   ]
  },
  {
   "cell_type": "markdown",
   "metadata": {},
   "source": [
    "# References \n",
    "\n",
    "1- Lopes-Ramos, Camila M., John Quackenbush, and Dawn L. DeMeo. \"Genome-wide sex and gender differences in cancer.\" Frontiers in Oncology 10 (2020): 2486\n",
    "\n",
    "2- Glass, Kimberly, et al. \"Passing messages between biological networks to refine predicted interactions.\" PloS one 8.5 (2013): e64832.\n",
    "\n",
    "3- Tomczak, Katarzyna, Patrycja Czerwińska, and Maciej Wiznerowicz. \"The Cancer Genome Atlas (TCGA): an immeasurable source of knowledge.\" Contemporary oncology 19.1A (2015): A68.\n",
    "\n",
    "4- GTEx Consortium. \"The Genotype-Tissue Expression (GTEx) pilot analysis: Multitissue gene regulation in humans.\" Science 348.6235 (2015): 648-660.\n",
    "\n",
    "5- Lopes-Ramos CM, Kuijjer ML, Ogino S, Fuchs CS, DeMeo DL, Glass K, Quackenbush J. Gene Regulatory Network Analysis Identifies Sex-Linked Differences in Colon Cancer Drug Metabolism. Cancer Res. 2018 Oct 1;78(19):5538-5547.\n",
    "\n",
    "6- Lopes-Ramos, Camila M., et al. \"Sex differences in gene expression and regulatory networks across 29 human tissues.\" Cell reports 31.12 (2020): 107795.\n",
    "\n",
    "7- Weighill, Deborah, et al. \"Gene targeting in disease networks.\" Frontiers in Genetics 12 (2021): 501."
   ]
  }
 ],
 "metadata": {
  "kernelspec": {
   "display_name": "R",
   "language": "R",
   "name": "ir"
  },
  "language_info": {
   "codemirror_mode": "r",
   "file_extension": ".r",
   "mimetype": "text/x-r-source",
   "name": "R",
   "pygments_lexer": "r",
   "version": "4.2.2"
  }
 },
 "nbformat": 4,
 "nbformat_minor": 5
}
