{
 "cells": [
  {
   "cell_type": "markdown",
   "metadata": {
    "lines_to_next_cell": 0
   },
   "source": [
    "# Estimating state transition in yeast cell cycle using MONSTER\n",
    "Author: Daniel Schlauch<sup>1</sup>, Marouen Ben Guebila<sup>1</sup>, Rebebkka Burkholz<sup>1</sup>\n",
    "\n",
    "<sup>1</sup> Department of Biostatistics, Harvard T.H. Chan School of Public Health, Boston, MA."
   ]
  },
  {
   "cell_type": "markdown",
   "metadata": {},
   "source": [
    "# 1. Introduction\n",
    "\n",
    "MONSTER<sup>1</sup> (MOdeling Network State Transitions from Expression and Regulatory data) is a tool for identifying the transcription factor that drive a transition from an initial network to final gene regulatory network.\n",
    "\n",
    "Specific cellular states are often associated with distinct gene expression patterns. These states are plastic, changing during development, or in the transition from health to disease. One relatively simple extension of this concept is to recognize that we can classify different cell-types by their active gene regulatory networks and that, consequently, transitions between cellular states can be modeled by changes in these underlying regulatory networks. This package is an implementation of MONSTER, MOdeling Network State Transitions from Expression and Regulatory data, a regression-based method for inferring transcription factor drivers of cell state conditions at the gene regulatory network level.\n",
    "\n",
    "MONSTER takes in sequence motif data linking transcription factors (TFs) to genes and gene expression from two conditions. The goal is generate bipartite networks from the gene expression data which quantify evidence of the regulatory roles of each of the TFs to each of the genes. Next, critical TFs are identified by computing a transition matrix, which maps the gene regulatory network in the first state to the gene regulatory network in the second state."
   ]
  },
  {
   "cell_type": "markdown",
   "metadata": {
    "lines_to_next_cell": 0
   },
   "source": [
    "## Installing netZooR\n",
    "\n",
    "This case study can be ran on the server or locally by setting this parameter"
   ]
  },
  {
   "cell_type": "code",
   "execution_count": null,
   "metadata": {},
   "outputs": [],
   "source": [
    "runserver=1"
   ]
  },
  {
   "cell_type": "markdown",
   "metadata": {},
   "source": [
    "First, we need to load MONSTER through the netZooR package and other packages for visualization. These packages will be nstalled if the netbook is running locally. "
   ]
  },
  {
   "cell_type": "code",
   "execution_count": null,
   "metadata": {
    "eval": false
   },
   "outputs": [],
   "source": [
    "if(runserver==0){\n",
    "    install.packages(\"remotes\") \n",
    "    library(remotes)\n",
    "    #install netZooR pkg with vignettes, otherwise remove the \"build_vignettes = TRUE\" argument.\n",
    "    remotes::install_github(\"netZoo/netZooR\", build_vignettes = TRUE)\n",
    "}"
   ]
  },
  {
   "cell_type": "markdown",
   "metadata": {},
   "source": [
    "Next, we load the libraries:"
   ]
  },
  {
   "cell_type": "code",
   "execution_count": null,
   "metadata": {},
   "outputs": [],
   "source": [
    "library(netZooR) # To run MONSTER\n",
    "library(Matrix)  # To compute matrix rank\n",
    "library(tidyr)   # To use the spread function\n",
    "library(gplots)  # To plot heatmap"
   ]
  },
  {
   "cell_type": "markdown",
   "metadata": {},
   "source": [
    "# 2. Input files\n",
    "\n",
    "In this demo, we use the included Yeast dataset, containing three separate Yeast datasets, and a sequence motif object.  The `yeast` dataset includes three separate experimental designs each involving microarray assays of 2555 genes of yeast (Saccharomyces cerevisiae).  `yeast$exp.ko` is a set of 106 gene expression samples of following a number of gene knockouts.  `yeast$exp.cc` is a set of 50 gene expression samples taken sets of two across 25 timepoints spanning the cellular cycle. `yeast$exp.sr` is a set of 173 gene expression samples collected under conditions of stress such as heat shock.  Each expression dataset has been normalized and scaled.\n",
    "\n",
    "In this tutorial, we will run `monster` to identify suspected TF drivers of the change from the early cell cycle to late cell cycle. \n",
    "\n",
    "First, we load the data included in the `netZooR` package"
   ]
  },
  {
   "cell_type": "code",
   "execution_count": null,
   "metadata": {
    "message": false
   },
   "outputs": [],
   "source": [
    "data(yeast)"
   ]
  },
  {
   "cell_type": "markdown",
   "metadata": {},
   "source": [
    "Next, we create our design vector indicating to which group each sample belongs.  This vector must contain only 0's and 1's (NAs allowed). \n",
    "\n",
    "In this example we are running the analysis on the first 10 timepoints compared to the last 10 timepoints, ignoring the middle 5 for the purposes of simplicity in this tutorial.  Each timepoint contains two samples."
   ]
  },
  {
   "cell_type": "code",
   "execution_count": null,
   "metadata": {
    "message": false
   },
   "outputs": [],
   "source": [
    "design <- c(rep(0,20),rep(NA,10),rep(1,20))"
   ]
  },
  {
   "cell_type": "markdown",
   "metadata": {
    "lines_to_next_cell": 0
   },
   "source": [
    "The main method in MONSTER is the `monster` function.  This function has three required arguments, \n",
    "\n",
    "* A gene expression matrix, `yeast$exp.cc` \n",
    "* A motif mapping data.frame, `yeast$motif`\n",
    "* A design integer vector, `design` \n",
    "\n",
    "The gene expression argument may be a `matrix`, a `data.frame` or an `ExpressionSet`.  In this example, `yeast$exp.cc` is a `data.frame` consisting of 2555 rows and 50 columns.\n",
    "\n",
    "The first five rows and columns can be seen"
   ]
  },
  {
   "cell_type": "code",
   "execution_count": null,
   "metadata": {},
   "outputs": [],
   "source": [
    "yeast$exp.cc[1:5,1:5]"
   ]
  },
  {
   "cell_type": "markdown",
   "metadata": {},
   "source": [
    "The motif mapping data.frame tells the MONSTER algorithm which genes contain likely transcription factor binding sites in the vicinity of their promoter. This serves as the regulatory prior and informs the initial network inference method by supplying a partial list of TF targeting.\n",
    "\n",
    "This data.frame contains 3 columns, where each row is a specific edge in the prior network.  \n",
    "\n",
    "* Column 1 specifies the transcription factor for the edge.\n",
    "* Column 2 specifies the targeted gene for the edge\n",
    "* Column 3 defines the strength of the edge.  By default, in unweighted graphs, this column may be populated entirely with 1's.\n",
    "\n",
    "The set of unique TFs in column 1 and unique genes in column 2 serve to determine the set of TFs and genes that are used in the downstream analysis.\n",
    "\n",
    "The first five rows and columns of the example motif `data.frame` can be seen"
   ]
  },
  {
   "cell_type": "code",
   "execution_count": null,
   "metadata": {},
   "outputs": [],
   "source": [
    "yeast$motif[1:5,]"
   ]
  },
  {
   "cell_type": "markdown",
   "metadata": {},
   "source": [
    "MONSTER tests the statistical significance of its results by permuting the samples `n` times and rerunning the analysis for each permutation.  By default, the number of permutations is set to be 100 and can be manually set via the argument `nullPerms`.\n",
    "\n",
    "Monster is optimized to run on multiple cores, if available.  We can specify the maximum number of cores which are available to run the algorithm.  If `numMaxCores` unspecified, MONSTER will check available resources and run on all but four of the available cores.\n",
    "\n",
    "# 3. Running MONSTER"
   ]
  },
  {
   "cell_type": "markdown",
   "metadata": {},
   "source": [
    "Before running MONSTER, we need to process the data. In our case, there are missing entries in gene expression, therefore, we replace them by column average."
   ]
  },
  {
   "cell_type": "code",
   "execution_count": null,
   "metadata": {},
   "outputs": [],
   "source": [
    "yeast$exp.cc[is.na(yeast$exp.cc)] <- mean(as.matrix(yeast$exp.cc),na.rm=T)"
   ]
  },
  {
   "cell_type": "markdown",
   "metadata": {},
   "source": [
    "Next, we call MONSTER with the following parameters."
   ]
  },
  {
   "cell_type": "code",
   "execution_count": null,
   "metadata": {
    "message": false
   },
   "outputs": [],
   "source": [
    "monsterRes <- monster(yeast$exp.cc, design, yeast$motif, nullPerms=100, numMaxCores=1, alphaw=0.5)"
   ]
  },
  {
   "cell_type": "markdown",
   "metadata": {
    "lines_to_next_cell": 0
   },
   "source": [
    "By default, the first step of MONSTER is the reconstruction of gene regulatory networks using a weighted average of a direct evidence network which is the TF to gene coexpression network, and an indirect evidence network based on a logistic regression of TF binding motif on TF expression. The parameter `alphaw` specifies the weight in the average between both networks. When `alphaw`, a parameter that varies between 0 and 1, is set to 0, the result network is equal to the TF-gene coexpression network (direct evidence network). If `alphaw` is set to 1, the network is then equal to the indirect evidence network.\n",
    "\n",
    "The first step can be skipped by providing MONSTER with any TF-by-gene regulatory network by setting the `mode` parameter in the monster function to `regNet`.\n",
    "\n",
    "Finally, we can print the details of the analysis result."
   ]
  },
  {
   "cell_type": "code",
   "execution_count": null,
   "metadata": {
    "lines_to_next_cell": 2,
    "message": false
   },
   "outputs": [],
   "source": [
    "monsterRes"
   ]
  },
  {
   "cell_type": "markdown",
   "metadata": {},
   "source": [
    "In addition to the three required arguments, we have specified that we will compute 100 randomized runs of the analysis to estimate our result's statistical signficance.  MONSTER makes use of parallelization, and we have specified that 4 cores will be used in this analysis to reduce computation time.\n",
    "\n",
    "Our result comes in the form of a monster object, `monsterRes`, which contains the estimated transition matrix as well as the transition matrices from the 100 null transitions.\n",
    "\n",
    "# 4. Visualizing MONSTER results\n",
    "\n",
    "Many different plotting options are available in the MONSTER package which make use of additional libraries such as ggplot and igraph.  Typically, we are interested in features of the transition matrix, particularly with respect to the distribution of those features under the null.\n",
    "\n",
    "The main plot function is the dTFI plot, utilizing the `ggplot` library. Of interest is the degree to which the observed transition matrix differs from those obtained via random premutations of the samples.  We quantify this difference via differential TF Involvement, $dTFI$, defined as the sum of squared off-diagonal elements in each column of the transition matrix,\n",
    "$$\\hat{dTFI_{j}}=\\frac{\\sum_{i=1}^{m}I\\left(i\\ne j\\right)\\hat{\\tau}_{i,j}^{2}}{\\sum_{i=1}^{m}\\hat{\\tau}_{i,j}^{2}}$$\n",
    "\n",
    "We can view the $dTFI$ with the generic `plot` function"
   ]
  },
  {
   "cell_type": "code",
   "execution_count": null,
   "metadata": {
    "fig.height": 8,
    "fig.width": 10,
    "message": false,
    "out.height": 600,
    "out.width": 750
   },
   "outputs": [],
   "source": [
    "monsterPlotMonsterAnalysis(monsterRes)"
   ]
  },
  {
   "cell_type": "markdown",
   "metadata": {},
   "source": [
    "In this plot, we have the $dTFI$ for each transcription factor along the x-axis.  The observed values are shown in red and the null values are shown in blue.  \n",
    "\n",
    "Due to the complex nature of the structure of gene regulatory networks, it is not uncommon to see transcription factors which exhibit a high degree of transitional change, but which is not statistically significant due to the high variability of that particular TF (e.g. YDR463W).  Conversely, some TFs show weak changes, but those changes are large compared to the changes observed in null transitions (e.g. YKL062W).  Ideally, we are most interested in TFs which demonstrate large changes in targetting pattern which is found to be strongly significant (e.g. YJL056C).\n",
    "\n",
    "Adding the argument `scale='significance'`, sorts the x-axis so that the most significant transcription factors are on the left."
   ]
  },
  {
   "cell_type": "code",
   "execution_count": null,
   "metadata": {
    "fig.height": 8,
    "fig.width": 10,
    "message": false,
    "out.height": 600,
    "out.width": 750
   },
   "outputs": [],
   "source": [
    "monsterPlotMonsterAnalysis(monsterRes, rescale='significance')"
   ]
  },
  {
   "cell_type": "markdown",
   "metadata": {},
   "source": [
    "Our top hit here is YDL056W, which reassuringly is established in the literature as being involved in regulation of cell cycle progression from G1 to S phase<sup>3</sup>.\n",
    "\n",
    "The dTFI plot focuses primarily on individual transcription factors which have systematically changed their targetting patterns between groups. To dive further into the mechanisms, we may be specifically interested in which TFs are acquiring the targetting signatures of which other TFs. We can visualize the transition matrix in a number of ways using MONSTER.  \n",
    "\n",
    "First, using the package `gplots`, we can simply plot the transition matrix. The `heatmap.2` function will show the $m\\times m$ transition matrix in the form of a square heatmap with $m$ being the number of transcription factors.  Intuitively, this is the operator, $\\textbf{T}$, on which we transform gene regulatory network $\\textbf{A}$ (The first 10 timepoints in the Yeast Cell Cycle) to network $\\textbf{B}$ (The last 10 timepoints in the Yeast Cell Cycle) via the equation\n",
    "$$\\textbf{B}=\\textbf{AT} + \\textbf{E}$$\n",
    "where $\\textbf{E}$ is the $p\\times m$ error matrix which we are minimizing.\n"
   ]
  },
  {
   "cell_type": "code",
   "execution_count": null,
   "metadata": {
    "fig.height": 8,
    "fig.width": 10,
    "message": false,
    "out.height": 600,
    "out.width": 750
   },
   "outputs": [],
   "source": [
    "heatmap.2(slot(monsterRes, 'tm'), col = \"bluered\",\n",
    "density.info=\"none\",  \n",
    "trace=\"none\", \n",
    "dendrogram='none',     \n",
    "Rowv=FALSE,\n",
    "Colv=FALSE)"
   ]
  },
  {
   "cell_type": "markdown",
   "metadata": {},
   "source": [
    "In examining this heatmap, we are interested in strong deviations from the identity matrix.  The diagonal is removed for visualization purposes.  We can see that the cell cycle change is strong driven by a handful of transcription factors.  Specifically, YBL005W, YLR228C, YLR451W and YML0051W.\n",
    "\n",
    "This transition may also be depicted as a graph, displaying the gain or loss of features between transcription factors.  Recall, that a large deviation from zero off of the diagonal indicates that the targetting pattern of one transcription factor is being \"transferred\" to another transcription factor as we move from the initial state to the final state.\n",
    "\n",
    "`MONSTER` contains the function `transitionNetworkPlot` to makes use of the `igraph` package to display the transition in network states.  Since this graph is complete with negative edgeweights allowed, the argument `numEdges=20` (default is 100 edges) is used to specify the number of top transitions to display."
   ]
  },
  {
   "cell_type": "code",
   "execution_count": null,
   "metadata": {
    "fig.height": 8,
    "fig.width": 10,
    "message": false,
    "out.height": 600,
    "out.width": 750
   },
   "outputs": [],
   "source": [
    "monsterTransitionNetworkPlot(monsterRes, numEdges=20)"
   ]
  },
  {
   "cell_type": "markdown",
   "metadata": {},
   "source": [
    "A network visualization of the strongest 20 transitions identified based on the transition matrix above. Arrows indicate a change in edges from a transcription factor in the network of the first 10 timepoints in the Yeast Cell Cycle to resemble those of a transcription factor in the last 10 timepoints in the Yeast Cell Cycle. Edges are sized according to the magnitude of the transition and nodes (TFs) are sized by the dTFI for that TF. The gain of targeting features is indicated by the color blue while the loss of features is indicated by red.\n",
    "\n",
    "Furthermore, we are often interested in correlated targetting pattern sharing.  To find clusters of transcription factor transitions, we can plot the set of TFs onto the first two principal components taken from the transition matrix."
   ]
  },
  {
   "cell_type": "code",
   "execution_count": null,
   "metadata": {
    "fig.height": 8,
    "fig.width": 10,
    "message": false,
    "out.height": 600,
    "out.width": 750
   },
   "outputs": [],
   "source": [
    "require(ggplot2)\n",
    "tm.pca <- princomp(slot(monsterRes, 'tm'))\n",
    "odsm <- apply(slot(monsterRes, 'tm'),2,function(x){t(x)%*%x})\n",
    "odsm.scaled <- (odsm-mean(odsm))/sd(odsm)+4\n",
    "scores.pca <- as.data.frame(tm.pca$scores)\n",
    "scores.pca <- cbind(scores.pca,'node.names'=rownames(scores.pca))\n",
    "ggplot(data = scores.pca, aes(x = Comp.1, y = Comp.2, label = node.names)) +\n",
    "        geom_hline(yintercept = 0, colour = \"gray65\") +\n",
    "        geom_vline(xintercept = 0, colour = \"gray65\") +\n",
    "        geom_text(size = odsm.scaled) +\n",
    "        expand_limits(x=c(-.6,.7))+\n",
    "        ggtitle(\"PCA of transitions of Cell Cycle Transcription Factors in Yeast\")"
   ]
  },
  {
   "cell_type": "markdown",
   "metadata": {},
   "source": [
    "The above plot can also be achieved using the included `MONSTER` function, `monster.transitionPCAPlot(monsterRes)`."
   ]
  },
  {
   "cell_type": "code",
   "execution_count": null,
   "metadata": {},
   "outputs": [],
   "source": [
    "monsterTransitionPCAPlot(monsterRes)"
   ]
  },
  {
   "cell_type": "markdown",
   "metadata": {},
   "source": [
    "# 5. Conditions of uniqueness of the transition matrix\n",
    "MONSTER estimates the $m\\times m$ transition matrix with $m$ being the number of transcription factors.  Intuitively, this is the operator, $\\textbf{T}$, on which we transform gene regulatory network $\\textbf{A}$ to network $\\textbf{B}$, both of equal size $p$ by $m$ with $p$ the number of genes, via the equation\n",
    "$$\\textbf{B}=\\textbf{AT} + \\textbf{E}$$\n",
    "where $\\textbf{E}$ is the $p\\times m$ error matrix which we are minimizing.\n",
    "\n",
    "Since we are conisdering the TFs to be the drivers of transitions, the transition matrix is an $m\\times m$. Although we could infer the gene transition matrix with size  $p\\times p$, the biological interpretation in this case is less intuitive. In addition, inferring a TF transition matrix has an additional advantage by ensuring the uniqueness of $\\textbf{T}$.\n",
    "\n",
    "First, since there exists much more TFs than genes, $m$ is usually far smaller than $p$,therefore regression performed on adjacency matrices of size  $p\\times m$ is underdetermined, in other words, there exists an infinity of solutions to the regression problem.\n",
    "\n",
    "In this case, the condition to obtain a unique solution, would require that matrix $\\textbf{A}$ is full rank. For real number large matrices, the probability of being full rank and nonsingular is very close to 1<sup>2</sup>. This is due to in part to computer precision and to the fact that the columns of $\\textbf{A}$ can be seen as random variables.\n",
    "\n",
    "Data matrices such as gene expression are likely to be full rank. We can check this using the `rankMatrix` command in R."
   ]
  },
  {
   "cell_type": "code",
   "execution_count": null,
   "metadata": {},
   "outputs": [],
   "source": [
    "dim(yeast$exp.cc)\n",
    "rankMatrix(yeast$exp.cc)"
   ]
  },
  {
   "cell_type": "markdown",
   "metadata": {},
   "source": [
    "This confirms our observation, since a matrix is said to be full rank if its rank is the lesser of number of columns and the number of rows, which is 50 in our case.\n",
    "\n",
    "The gene regulatory networks built in the first step of MONSTER using a combination of direct and indirect evidence are also likely to be full rank. However, to add an additional guarantee on uniqueness, you can use the `L1` regularized regression by specifiying the `method` parameter in the function `monster.transformation.matrix`, which will provide a sparse transition matrix $\\textbf{T}$. An example function call would be like follows:"
   ]
  },
  {
   "cell_type": "markdown",
   "metadata": {},
   "source": [
    "```\n",
    "monster.transformation.matrix <- function(network.1, network.2, by.tfs=TRUE, standardize=FALSE, \n",
    "                                          remove.diagonal=TRUE, method=\"l1\")\n",
    "```"
   ]
  },
  {
   "cell_type": "markdown",
   "metadata": {},
   "source": [
    "We saw in the previous sections that matrices $\\textbf{A}$ and $\\textbf{B}$ can be reconstructed as the first step of MONSTER using a user-provided data, by default or by specifying the `mode` parameter to `buildNet`. However, this step can be skipped by providing $\\textbf{A}$ and $\\textbf{B}$ as inputs to MONSTER, by specifying the `mode` parameter to `regNet`."
   ]
  },
  {
   "cell_type": "code",
   "execution_count": null,
   "metadata": {},
   "outputs": [],
   "source": [
    "monsterRes <- monster(yeast$exp.cc, design, yeast$motif, nullPerms=100, numMaxCores=1, alphaw=0.5, mode='buildNet')"
   ]
  },
  {
   "cell_type": "markdown",
   "metadata": {},
   "source": [
    "The regulatory network step can be skipped if both inputs to MONSTER are GRNs"
   ]
  },
  {
   "cell_type": "markdown",
   "metadata": {},
   "source": [
    "```\n",
    "monsterRes <- monster(yeast$exp.cc, design, yeast$motif, nullPerms=100, numMaxCores=1, alphaw=0.5, mode='regNet')\n",
    "```"
   ]
  },
  {
   "cell_type": "markdown",
   "metadata": {},
   "source": [
    "Therefore, to guarantee the uniqueness of MONSTER-inferred transition matrix $\\textbf{T}$, you can run the `rankMatrix` function on your networks to check they're indeed full rank. However, two typical regulatory networks are not rank deficient. \n",
    "\n",
    "## Motif binary networks\n",
    "First, a binary motif network is rank-deficient, particulalry, if a family of TFs share the same gene targets. In this case, the rows of the networks will be redundant and the matrix is not full rank. \n",
    "\n",
    "We can check this fact on the yeast motif."
   ]
  },
  {
   "cell_type": "code",
   "execution_count": null,
   "metadata": {},
   "outputs": [],
   "source": [
    "motifMatrix <- spread(yeast$motif, GENE, V3, fill=0)\n",
    "motifMatrix <- motifMatrix[2:dim(motifMatrix)[2]]\n",
    "dim(motifMatrix)\n",
    "rankMatrix(motifMatrix)"
   ]
  },
  {
   "cell_type": "markdown",
   "metadata": {},
   "source": [
    "We see that our matrix is indeed not full rank (52 < 53)."
   ]
  },
  {
   "cell_type": "markdown",
   "metadata": {},
   "source": [
    "## Correlation networks\n",
    "Second, coexpression networks are not full rank because they have the rank of the gene expression matrix which is the number of samples. In particular, we suggested previously that real data matrices are full rank.\n",
    "\n",
    "We can check this fact using thew following experiment:"
   ]
  },
  {
   "cell_type": "code",
   "execution_count": null,
   "metadata": {},
   "outputs": [],
   "source": [
    "dataMat=matrix(rexp(200, rate=.1), ncol=20)\n",
    "dim(dataMat)\n",
    "rankMatrix(dataMat)"
   ]
  },
  {
   "cell_type": "markdown",
   "metadata": {},
   "source": [
    "The expresion matrix is full rank. Then, let's compute the correlation matrix of `dataMat`"
   ]
  },
  {
   "cell_type": "code",
   "execution_count": null,
   "metadata": {},
   "outputs": [],
   "source": [
    "corrDataMat=cor(dataMat)\n",
    "dim(corrDataMat)\n",
    "rankMatrix(corrDataMat)"
   ]
  },
  {
   "cell_type": "markdown",
   "metadata": {},
   "source": [
    "Trivially, the coexpression matrix is not full rank (9<20). Also, this situation can occur with the MONSTER-reconstructed networks when `alphaw` is set 0. In this case, the network, which is a weighted average of a direct correlation network and an indirect network, will give a zero weight to the indirect network, therefore, MONSTER will build a TF-by-gene correlation network. Without further regularization, the estimation of the $\\textbf{T}$ matrix is not unique."
   ]
  },
  {
   "cell_type": "markdown",
   "metadata": {
    "jp-MarkdownHeadingCollapsed": true,
    "tags": []
   },
   "source": [
    "# 6. MONSTER quick-start with pre-made regulatory networks\n",
    "\n",
    "For analyses where MONSTER is to be performed after a regulatory network has already been estimated (e.g., with PANDA), the `domonster` function can be used to easily prepare the input networks for running `monster`.\n",
    "\n",
    "`domonster` takes as input 2 networks (`exp_graph` and `control_graph`), either as PANDA objects or adjacency matrices (regulators in rows; genes in columns).\n",
    "\n",
    "- `exp_graph` is the graph generated from experimental or case samples\n",
    "- `control_graph` is the graph generated from control or reference samples\n",
    "\n",
    "The transition matrix $\\hat{\\tau}$ that the MONSTER algorithm estimates will be that for:\n",
    "\n",
    "$$G_{\\mathrm{control}} \\hat{\\tau} = G_{\\mathrm{exp}}$$\n",
    "\n",
    "where $G_{\\mathrm{control}}$ and $G_{\\mathrm{exp}}$ are the control and experimental graphs, respectively, represented as adjacency matrices.\n",
    "\n",
    "To demonstrate the code set-up with a toy example, we start by creating toy datasets using `pandaToyData`. For the purposes of demonstration, we partition the samples into experimental and control:"
   ]
  },
  {
   "cell_type": "code",
   "execution_count": null,
   "metadata": {},
   "outputs": [],
   "source": [
    "# Generating PANDA networks from partitioned toy data\n",
    "\n",
    "pandaResult_exp <- panda(pandaToyData$motif, pandaToyData$expression[,1:25], pandaToyData$ppi)\n",
    "pandaResult_control <- panda(pandaToyData$motif, pandaToyData$expression[,26:50], pandaToyData$ppi)"
   ]
  },
  {
   "cell_type": "markdown",
   "metadata": {},
   "source": [
    "Then, these outputs generated by PANDA can be used as input either in PANDA format directly, or with the network. Any of the below code options will work and be equivalent to each other. In addition to PANDA networks, any regulatory network graph in adjacency matrix format (regulators in rows and genes in columns) can be used."
   ]
  },
  {
   "cell_type": "code",
   "execution_count": null,
   "metadata": {},
   "outputs": [],
   "source": [
    "monster_res1 <- domonster(exp_graph = pandaResult_exp,\n",
    "                          control_graph = pandaResult_control,\n",
    "                          nullPerms = 10)\n",
    "\n",
    "monster_res2 <- domonster(exp_graph = pandaResult_exp@regNet,\n",
    "                          control_graph = pandaResult_control@regNet,\n",
    "                          nullPerms = 10)\n",
    "\n",
    "monster_res3 <- domonster(exp_graph = pandaResult_exp@regNet,\n",
    "                          control_graph = pandaResult_control,\n",
    "                          nullPerms = 10)"
   ]
  },
  {
   "cell_type": "markdown",
   "metadata": {},
   "source": [
    "For this code example, we compute only 10 null permutations. However, the function defaults to 1000, as would likely be used in an actual analysis to ensure sufficient null observations to estimate null distributions and compute empirical p-values.\n",
    "\n",
    "The results can then be further analyzed and visualized as described in the vignette above."
   ]
  },
  {
   "cell_type": "markdown",
   "metadata": {},
   "source": [
    "# References\n",
    "\n",
    "1- Schlauch, Daniel, et al. \"Estimating drivers of cell state transitions using gene regulatory network models.\" BMC systems biology 11.1 (2017): 139.\n",
    "\n",
    "2- Feng, Xinlong, and Zhinan Zhang. \"The rank of a random matrix.\" Applied mathematics and computation 185.1 (2007): 689-694.\n",
    "\n",
    "3- Koch, Christian, et al. \"A role for the transcription factors Mbp1 and Swi4 in progression from G1 to S phase.\" Science 261.5128 (1993): 1551-1557."
   ]
  }
 ],
 "metadata": {
  "jupytext": {
   "cell_metadata_filter": "out.height,message,eval,warning,tags,fig.width,fig.height,out.width,-all",
   "main_language": "R",
   "notebook_metadata_filter": "-all"
  },
  "kernelspec": {
   "display_name": "RC4",
   "language": "python",
   "name": "rc4"
  },
  "language_info": {
   "codemirror_mode": {
    "name": "ipython",
    "version": 3
   },
   "file_extension": ".py",
   "mimetype": "text/x-python",
   "name": "python",
   "nbconvert_exporter": "python",
   "pygments_lexer": "ipython3",
   "version": "3.8.5"
  }
 },
 "nbformat": 4,
 "nbformat_minor": 4
}
