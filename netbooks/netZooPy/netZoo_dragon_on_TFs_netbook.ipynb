{
 "cells": [
  {
   "cell_type": "markdown",
   "metadata": {},
   "source": [
    "# Investigating potential regulatory relationships between TFs in breast cancer using DRAGON\n",
    "\n",
    "Author: Deborah Weighill<sup>1</sup>\n",
    "\n",
    "<sup>1</sup> Department of Biostatistics, Harvard T.H. Chan School of Public Health, Boston, MA."
   ]
  },
  {
   "cell_type": "markdown",
   "metadata": {
    "lines_to_next_cell": 0
   },
   "source": [
    "# 1. Introduction\n",
    "In this tutorial, we investigate potential regulatory relationships between transcription factors (TFs) based on their methylation profiles as well as their gene expression. For this analysis we use the [DRAGON](https://netzoo.github.io/zooanimals/dragon/)<sup>1</sup> algorithm **(Determining Regulatory Associations using Graphical models on multi-Omic Networks)** to calculate partial correlations between expression and methylation profiles of TFs. DRAGON calibrates its parameters to achieve an optimal trade-off between the network's complexity and estimation accuracy, while  explicitly accounting for the characteristics of each of the assessed omics layers. DRAGON is distributed through the Network Zoo package (netZooPy v0.8; [netzoo.github.io](netzoo.github.io)) in Python. Recently, we added an R implementation of DRAGON that is available in netZooR v1.2.1.\n",
    "However, for this tutorial and because we need to use TCGA2BED software to process the data, we coded a function that imports DRAGON from Python to R. \n",
    "\n",
    "# 2. Comparing DRAGON networks and GGMs\n",
    "\n",
    "In theis section, we will compare DRAGON to standard Gaussian Graphical Models (GGMs) and show that DRAGON networks can capture biologically meaningful associations.\n",
    "\n",
    "## Load libraries\n",
    "First, we start by loading the libraries."
   ]
  },
  {
   "cell_type": "code",
   "execution_count": null,
   "metadata": {},
   "outputs": [],
   "source": [
    "library('dplyr')    # For data processing\n",
    "library('tidyr')    # For data processing\n",
    "library('RcppCNPy')\n",
    "library('ggplot2')  # For plotting\n",
    "library('ggthemes') # To set ggplot themes\n",
    "library('visNetwork')   # To visualize the network\n",
    "library('RColorBrewer') # To set the color palette\n",
    "source(\"./dragonScripts/call_dragon.R\") # Script to load Dragon from netZooPy and bind to Python"
   ]
  },
  {
   "cell_type": "markdown",
   "metadata": {},
   "source": [
    "Then, we need to set the paths for the files on the netbooks server."
   ]
  },
  {
   "cell_type": "code",
   "execution_count": null,
   "metadata": {},
   "outputs": [],
   "source": [
    "ppath = '/opt/data/netZooPy/dragon/'"
   ]
  },
  {
   "cell_type": "markdown",
   "metadata": {
    "lines_to_next_cell": 0
   },
   "source": [
    "## Create input matrices\n",
    "We construct our input matrices for DRAGON. We obtained TCGA breast cancer expression and methylation data which had already been preprocessed as `.bed` files from TCGA2BED<sup>2</sup> (see http://bioinf.iasi.cnr.it/tcga2bed/) and used the TCGA2BED software to create a combined methylation and gene expression matrix. From this combined matrix, we perform the following preprocessing steps:\n",
    "\n",
    "1. Create a gene expression matrix removing genes with consistently low expression\n",
    "2. Scale the expression matrix\n",
    "3. Create a methylation matrix which removes unknown methylation values.\n",
    "4. Scale the methylation matrix.\n",
    "5. Down-select matrices to TFs."
   ]
  },
  {
   "cell_type": "markdown",
   "metadata": {},
   "source": [
    "First, we start by loading the combined gene expression and methylation data matrix."
   ]
  },
  {
   "cell_type": "code",
   "execution_count": null,
   "metadata": {},
   "outputs": [],
   "source": [
    "data <- read.table(paste0(ppath,\"combined_RNASeq_Meth_matrix_BRCA.txt\"), header = TRUE, row.names = 1)\n",
    "meth <- t(data[,c(1:20049)])\n",
    "expr <- t(data[,c(20050:40534)])"
   ]
  },
  {
   "cell_type": "markdown",
   "metadata": {},
   "source": [
    "For gene expression, we emove low-expressed genes, which are rsem normalized, and then scale them."
   ]
  },
  {
   "cell_type": "code",
   "execution_count": null,
   "metadata": {},
   "outputs": [],
   "source": [
    "exprLow <- apply(expr , MARGIN = 1, FUN = function(x) length(x[(is.na(x)| x<=1) ]))\n",
    "cleanExpr <- expr[exprLow <= (0.2*ncol(expr)),]\n",
    "scaled_expr <- scale(t(cleanExpr))"
   ]
  },
  {
   "cell_type": "markdown",
   "metadata": {},
   "source": [
    "For this data set, we have 15,733 genes across 872 samples. For methylation, we remove genes that are annotated as \"?\", and then scale the data frame."
   ]
  },
  {
   "cell_type": "code",
   "execution_count": null,
   "metadata": {},
   "outputs": [],
   "source": [
    "methNA <- apply(meth , MARGIN = 1, FUN = function(x) length(which(x == \"?\")))\n",
    "cleanMeth <- meth[methNA == 0,]\n",
    "write.table(cleanMeth, file = \"../data/cleanMeth.txt\", sep = \"\\t\", quote = FALSE, row.names = TRUE, col.names = TRUE)\n",
    "cleanMeth2 <- read.table(\"../data/cleanMeth.txt\", header = TRUE, row.names = 1)\n",
    "scaled_meth <- scale(t(cleanMeth2))"
   ]
  },
  {
   "cell_type": "markdown",
   "metadata": {},
   "source": [
    "For methylation, we have 19830 genes across 872 samples. Finally, we extract the TF names from methylation data."
   ]
  },
  {
   "cell_type": "code",
   "execution_count": null,
   "metadata": {},
   "outputs": [],
   "source": [
    "tfs_meth <- read.table(paste0(ppath,\"meth_tf_ids.txt\"), header = FALSE)\n",
    "methylation_subset <- scaled_meth[,which(colnames(scaled_meth) %in% tfs_meth$V1)]"
   ]
  },
  {
   "cell_type": "markdown",
   "metadata": {},
   "source": [
    "And TF names from expression data."
   ]
  },
  {
   "cell_type": "code",
   "execution_count": null,
   "metadata": {
    "lines_to_next_cell": 2
   },
   "outputs": [],
   "source": [
    "tfs_expr <- read.table(paste0(ppath,\"rnaseq_tf_ids.txt\"), header = FALSE)\n",
    "expression_subset <- scaled_expr[,which(colnames(scaled_expr) %in% tfs_expr$V1)]"
   ]
  },
  {
   "cell_type": "markdown",
   "metadata": {
    "lines_to_next_cell": 0
   },
   "source": [
    "## Run DRAGON\n",
    "Now we run DRAGON, which will calculate partial correlations, p-values and adjusted p-values for pairs of TFs based on their expression and methylation profiles."
   ]
  },
  {
   "cell_type": "code",
   "execution_count": null,
   "metadata": {},
   "outputs": [],
   "source": [
    "XA0 <- expression_subset\n",
    "XB0 <- methylation_subset"
   ]
  },
  {
   "cell_type": "markdown",
   "metadata": {},
   "source": [
    "DRAGON reports the partial correlations, p-values and adjusted p-values betweene each pair of TFs (i,j)."
   ]
  },
  {
   "cell_type": "code",
   "execution_count": null,
   "metadata": {},
   "outputs": [],
   "source": [
    "res2 <- call.dragon(XA0, XB0)"
   ]
  },
  {
   "cell_type": "markdown",
   "metadata": {},
   "source": [
    "The `AA` result contains partial correlations between the expression profile of TF i and the expression profile of TF j: "
   ]
  },
  {
   "cell_type": "code",
   "execution_count": null,
   "metadata": {},
   "outputs": [],
   "source": [
    "head(res2$resAA)"
   ]
  },
  {
   "cell_type": "markdown",
   "metadata": {},
   "source": [
    "the `BB` result contains partial correlations between the methylation profile of TF i and the methylation profile of TF j:"
   ]
  },
  {
   "cell_type": "code",
   "execution_count": null,
   "metadata": {},
   "outputs": [],
   "source": [
    "head(res2$resAB)"
   ]
  },
  {
   "cell_type": "markdown",
   "metadata": {},
   "source": [
    "the `AB` result contains partial correlations between the expression profile of TF i and the methylation profile of TF j:"
   ]
  },
  {
   "cell_type": "code",
   "execution_count": null,
   "metadata": {},
   "outputs": [],
   "source": [
    "head(res2$resBB)"
   ]
  },
  {
   "cell_type": "markdown",
   "metadata": {},
   "source": [
    "Then, we parse feature columns to get clean TF ids. There can be edges in the network that link 2 TFs based on their combined methylation and expression profiles:"
   ]
  },
  {
   "cell_type": "code",
   "execution_count": null,
   "metadata": {},
   "outputs": [],
   "source": [
    "exp_meth_2layer <- res2$resAB\n",
    "exp_meth_2layer <- separate(exp_meth_2layer, feature1, c(\"tf_rnaseq\",NA), \"_\", remove = TRUE)\n",
    "exp_meth_2layer <- separate(exp_meth_2layer, feature2, c(\"tf_dnameth\",NA), \"_\", remove = TRUE)\n",
    "head(exp_meth_2layer)"
   ]
  },
  {
   "cell_type": "markdown",
   "metadata": {},
   "source": [
    "Edges that connect 2 TFs based on their methylation profiles:"
   ]
  },
  {
   "cell_type": "code",
   "execution_count": null,
   "metadata": {},
   "outputs": [],
   "source": [
    "meth_meth_2layer <- res2$resBB\n",
    "meth_meth_2layer <- separate(meth_meth_2layer, feature1, c(\"tf_dnameth1\",NA), \"_\", remove = TRUE)\n",
    "meth_meth_2layer <- separate(meth_meth_2layer, feature2, c(\"tf_dnameth2\",NA), \"_\", remove = TRUE)\n",
    "meth_meth_2layer$id <- paste0(meth_meth_2layer$tf_dnameth1,meth_meth_2layer$tf_dnameth2)\n",
    "head(meth_meth_2layer)"
   ]
  },
  {
   "cell_type": "markdown",
   "metadata": {},
   "source": [
    "Edges that connect 2 TFs based on their expression profiles:"
   ]
  },
  {
   "cell_type": "code",
   "execution_count": null,
   "metadata": {},
   "outputs": [],
   "source": [
    "exp_exp_2layer <- res2$resAA\n",
    "exp_exp_2layer <- separate(exp_exp_2layer, feature1, c(\"tf_rnaseq1\",NA), \"_\", remove = TRUE)\n",
    "exp_exp_2layer <- separate(exp_exp_2layer, feature2, c(\"tf_rnaseq2\",NA), \"_\", remove = TRUE)\n",
    "exp_exp_2layer$id <- paste0(exp_exp_2layer$tf_rnaseq1,exp_exp_2layer$tf_rnaseq2)\n",
    "head(exp_exp_2layer)"
   ]
  },
  {
   "cell_type": "markdown",
   "metadata": {
    "lines_to_next_cell": 0
   },
   "source": [
    "## Compare DRAGON to standard GGM\n",
    "Here we run standard Gaussian Graphical Model to calculate partial correlations between a single layer of expression data (i.e. no methylation information included). This will allow us to investigate if there exist TF-TF relationships that are better explained by including a methylation layer. We start first by selecting the expression subset."
   ]
  },
  {
   "cell_type": "code",
   "execution_count": null,
   "metadata": {},
   "outputs": [],
   "source": [
    "XA0 <- expression_subset"
   ]
  },
  {
   "cell_type": "markdown",
   "metadata": {},
   "source": [
    "Then inferring the GGM:"
   ]
  },
  {
   "cell_type": "code",
   "execution_count": null,
   "metadata": {},
   "outputs": [],
   "source": [
    "res1 <- call.GGM(XA0)\n",
    "res1$res"
   ]
  },
  {
   "cell_type": "markdown",
   "metadata": {},
   "source": [
    "The result has edges betwee variables in the network and the significance of association. We can save the result to process it later."
   ]
  },
  {
   "cell_type": "code",
   "execution_count": null,
   "metadata": {},
   "outputs": [],
   "source": [
    "saveRDS(res1,\"../data/dragon_TFs_results_1layer_03102021.Rds\")"
   ]
  },
  {
   "cell_type": "markdown",
   "metadata": {},
   "source": [
    "Finally, we format the network in the same DRAGON annotation"
   ]
  },
  {
   "cell_type": "code",
   "execution_count": null,
   "metadata": {},
   "outputs": [],
   "source": [
    "exp_exp_1layer <- res1$res\n",
    "exp_exp_1layer <- separate(exp_exp_1layer, feature1, c(\"tf_rnaseq1\",NA), \"_\", remove = TRUE)\n",
    "exp_exp_1layer <- separate(exp_exp_1layer, feature2, c(\"tf_rnaseq2\",NA), \"_\", remove = TRUE)\n",
    "exp_exp_1layer$id <- paste0(exp_exp_1layer$tf_rnaseq1,exp_exp_1layer$tf_rnaseq2)"
   ]
  },
  {
   "cell_type": "markdown",
   "metadata": {
    "lines_to_next_cell": 0
   },
   "source": [
    "Now we select TF-TF relationships which are significant at an adjusted p-value of 0.05, investigate if there are significant relationships in the GGM which are altered when looking at the 2-layer DRAGON relationships. We start first by apply adjusted p-value threshold:"
   ]
  },
  {
   "cell_type": "code",
   "execution_count": null,
   "metadata": {},
   "outputs": [],
   "source": [
    "exp_exp_1layer_0.05 <- exp_exp_1layer[which(exp_exp_1layer$adj_p_vals <= 0.05),]\n",
    "exp_exp_2layer_0.05 <- exp_exp_2layer[which(exp_exp_2layer$adj_p_vals <= 0.05),]\n",
    "meth_meth_2layer_0.05 <- meth_meth_2layer[which(meth_meth_2layer$adj_p_vals <= 0.05),]"
   ]
  },
  {
   "cell_type": "markdown",
   "metadata": {},
   "source": [
    "Then, we identify relationships (network edges) significant in the expression GGM, non-significant in the DRAGON expression network and significant in the DRAGON methylation network."
   ]
  },
  {
   "cell_type": "code",
   "execution_count": null,
   "metadata": {},
   "outputs": [],
   "source": [
    "exp_exp_1layer_0.05[which(!(exp_exp_1layer_0.05$id %in% exp_exp_2layer_0.05$id) & (exp_exp_1layer_0.05$id %in% meth_meth_2layer_0.05$id)),]"
   ]
  },
  {
   "cell_type": "markdown",
   "metadata": {},
   "source": [
    "Finally, we can show the p-values for associations"
   ]
  },
  {
   "cell_type": "code",
   "execution_count": null,
   "metadata": {},
   "outputs": [],
   "source": [
    "exp_exp_1layer[which((exp_exp_1layer$tf_rnaseq1 == \"ELF4\") &(exp_exp_1layer$tf_rnaseq2 == \"ZBTB33\")),]\n",
    "exp_exp_2layer[which((exp_exp_2layer$tf_rnaseq1 == \"ELF4\") &(exp_exp_2layer$tf_rnaseq2 == \"ZBTB33\")),]\n",
    "meth_meth_2layer_0.05[which((meth_meth_2layer_0.05$tf_dnameth1 == \"ELF4\") &(meth_meth_2layer_0.05$tf_dnameth2 == \"ZBTB33\")),]"
   ]
  },
  {
   "cell_type": "markdown",
   "metadata": {
    "lines_to_next_cell": 0
   },
   "source": [
    "These results show the relationship between TFs ELF4 and ZBTB33, which appear to be correlated in terms of expression in the GGM, are in fact not significantly correlated in the DRAGON expression network, but are significantly correlated in the DRAGON methylation network. This suggets that this relationship is driven by co-methylation and not co-expression.\n",
    "\n",
    "# 2. Finding similarities between TFs in DRAGON co-methylation network\n",
    "## Investigate proximity of co-methylated genes\n",
    "Now, we investigate the physical proximity of TF gene regions in the genome and how this relates to co-methylation. We start first by reading the annotation file"
   ]
  },
  {
   "cell_type": "code",
   "execution_count": null,
   "metadata": {},
   "outputs": [],
   "source": [
    "genes <- read.table(paste0(ppath,\"geneID_name_map.txt\"), header = FALSE)\n",
    "colnames(genes) <- c(\"ensID\",\"name\",\"chrom\",\"start\",\"stop\")"
   ]
  },
  {
   "cell_type": "markdown",
   "metadata": {},
   "source": [
    "We then calculate the midpoint base in the middle of the gemne"
   ]
  },
  {
   "cell_type": "code",
   "execution_count": null,
   "metadata": {},
   "outputs": [],
   "source": [
    "genes$mid <- (genes$stop - genes$start)/2"
   ]
  },
  {
   "cell_type": "markdown",
   "metadata": {},
   "source": [
    "Next, we identify the chromosome on which the TF's gene resides"
   ]
  },
  {
   "cell_type": "code",
   "execution_count": null,
   "metadata": {},
   "outputs": [],
   "source": [
    "meth_meth_2layer$chrom1 <- genes$chrom[match(meth_meth_2layer$tf_dnameth1, genes$name)]\n",
    "meth_meth_2layer$chrom2 <- genes$chrom[match(meth_meth_2layer$tf_dnameth2, genes$name)]"
   ]
  },
  {
   "cell_type": "markdown",
   "metadata": {},
   "source": [
    "if the TF's respective genes reside on the same chromosome, we calculate the distance between the midpoints of the genes."
   ]
  },
  {
   "cell_type": "code",
   "execution_count": null,
   "metadata": {},
   "outputs": [],
   "source": [
    "meth_meth_2layer$distance <- ifelse(meth_meth_2layer$chrom1 == meth_meth_2layer$chrom2, abs((genes$mid[match(meth_meth_2layer$tf_dnameth1, genes$name)]) - (genes$mid[match(meth_meth_2layer$tf_dnameth2, genes$name)])), NA)"
   ]
  },
  {
   "cell_type": "markdown",
   "metadata": {},
   "source": [
    "Then, we mark each pair of TFs as significantly co-methylated or not, based on DRAGON adjusted p-values."
   ]
  },
  {
   "cell_type": "code",
   "execution_count": null,
   "metadata": {},
   "outputs": [],
   "source": [
    "meth_meth_2layer$signif <- ifelse(meth_meth_2layer$adj_p_vals <= 0.05, \"P <= 0.05\",\"P > 0.05\")"
   ]
  },
  {
   "cell_type": "markdown",
   "metadata": {},
   "source": [
    "Next, we annoatate the genes and their chromosomes using the distances we computed previously."
   ]
  },
  {
   "cell_type": "code",
   "execution_count": null,
   "metadata": {},
   "outputs": [],
   "source": [
    "meth_meth_2layer_0.05$chrom1 <- genes$chrom[match(meth_meth_2layer_0.05$tf_dnameth1, genes$name)]\n",
    "meth_meth_2layer_0.05$chrom2 <- genes$chrom[match(meth_meth_2layer_0.05$tf_dnameth2, genes$name)]\n",
    "meth_meth_2layer_0.05$distance <- ifelse(meth_meth_2layer_0.05$chrom1 == meth_meth_2layer_0.05$chrom2, abs((genes$mid[match(meth_meth_2layer_0.05$tf_dnameth1, genes$name)]) - (genes$mid[match(meth_meth_2layer_0.05$tf_dnameth2, genes$name)])), NA)"
   ]
  },
  {
   "cell_type": "markdown",
   "metadata": {},
   "source": [
    "Finally, we plot distance vs significance as a violin plot (for pairs of TFs on the same chromosome)."
   ]
  },
  {
   "cell_type": "code",
   "execution_count": null,
   "metadata": {},
   "outputs": [],
   "source": [
    "p <- ggplot(meth_meth_2layer, aes(x=signif, y=distance, fill=signif)) + geom_violin(trim = FALSE)  + theme_bw() + scale_fill_manual(values=c(\"red\", \"blue\",\"orange\",\"cyan\", \"darkgreen\", \"violet\")) + labs(x=\"P-value\", y = \"Distance between genes (bp)\", title = \"Gene proximity distributions\") + theme(legend.position = \"none\")\n",
    "p"
   ]
  },
  {
   "cell_type": "markdown",
   "metadata": {},
   "source": [
    "To better understand the distribution of significant edges across chromosomes, we can first compute the number of significant associations"
   ]
  },
  {
   "cell_type": "code",
   "execution_count": null,
   "metadata": {},
   "outputs": [],
   "source": [
    "num_signif <- length(meth_meth_2layer$distance[which(meth_meth_2layer$signif == \"P <= 0.05\")])\n",
    "num_signif"
   ]
  },
  {
   "cell_type": "markdown",
   "metadata": {},
   "source": [
    "Then, we count the number of non-significant associations"
   ]
  },
  {
   "cell_type": "code",
   "execution_count": null,
   "metadata": {},
   "outputs": [],
   "source": [
    "num_non_signif <- length(meth_meth_2layer$distance[which(meth_meth_2layer$signif == \"P > 0.05\")])\n",
    "num_non_signif"
   ]
  },
  {
   "cell_type": "markdown",
   "metadata": {},
   "source": [
    "We can count the number of significant associations on different chromosomes"
   ]
  },
  {
   "cell_type": "code",
   "execution_count": null,
   "metadata": {},
   "outputs": [],
   "source": [
    "num_signif_interChrom <- length(which(is.na(meth_meth_2layer$distance[which(meth_meth_2layer$signif == \"P <= 0.05\")])))\n",
    "num_signif_interChrom"
   ]
  },
  {
   "cell_type": "markdown",
   "metadata": {},
   "source": [
    "Finally, we can count the number of non-significant associations on different chromosomes"
   ]
  },
  {
   "cell_type": "code",
   "execution_count": null,
   "metadata": {},
   "outputs": [],
   "source": [
    "num_Nonsignif_interChrom <- length(which(is.na(meth_meth_2layer$distance[which(meth_meth_2layer$signif == \"P > 0.05\")])))\n",
    "num_Nonsignif_interChrom"
   ]
  },
  {
   "cell_type": "markdown",
   "metadata": {},
   "source": [
    "Note that almost 95 percent of non-significant edges are across chromosomes."
   ]
  },
  {
   "cell_type": "markdown",
   "metadata": {},
   "source": [
    "## Visualize network\n",
    "Now we plot the significant DRAGON relationships with expression-expression relationships colored orange, methylation-methylation edges colored green, and expression-methylation relationships colored purple. First, we set the parameters of the `visNetwork` library."
   ]
  },
  {
   "cell_type": "code",
   "execution_count": null,
   "metadata": {},
   "outputs": [],
   "source": [
    "mm_edges <- meth_meth_2layer_0.05[,c(4,5)]\n",
    "colnames(mm_edges) <- c(\"from\",\"to\")\n",
    "mm_edges$color <- \"green\"\n",
    "\n",
    "ee_edges <- exp_exp_2layer_0.05[,c(4,5)]\n",
    "colnames(ee_edges) <- c(\"from\",\"to\")\n",
    "ee_edges$color <- \"orange\"\n",
    "\n",
    "meth_exp_2layer_0.05 <- exp_meth_2layer[which(exp_meth_2layer$adj_p_vals <= 0.05),]\n",
    "me_edges <- meth_exp_2layer_0.05[,c(4,5)]\n",
    "colnames(me_edges) <- c(\"from\",\"to\")\n",
    "me_edges$color <- \"purple\"\n",
    "\n",
    "edges <- rbind(mm_edges, ee_edges, me_edges)\n",
    "nodes <- data.frame(id = unique(as.vector(as.matrix(edges[,c(1,2)]))))\n",
    "nodes$label <- nodes$id             "
   ]
  },
  {
   "cell_type": "markdown",
   "metadata": {},
   "source": [
    "Then, we plot the final network"
   ]
  },
  {
   "cell_type": "code",
   "execution_count": null,
   "metadata": {},
   "outputs": [],
   "source": [
    "net <- visNetwork(nodes, edges, width = \"100%\")\n",
    "net "
   ]
  },
  {
   "cell_type": "markdown",
   "metadata": {},
   "source": [
    "This network summarizes our findings in the finding associations between TFs in breast cancer based on methylation and expression profiles."
   ]
  },
  {
   "cell_type": "markdown",
   "metadata": {},
   "source": [
    "# References\n",
    "1- Weighill, Deborah, et al. \"DRAGON: Determining Regulatory Associations using Graphical models on multi-Omic Networks.\" arXiv preprint arXiv:2104.01690 (2021).\n",
    "\n",
    "2- Cumbo, Fabio, et al. \"TCGA2BED: extracting, extending, integrating, and querying The Cancer Genome Atlas.\" BMC bioinformatics 18.1 (2017): 1-9."
   ]
  }
 ],
 "metadata": {
  "jupytext": {
   "cell_metadata_filter": "-all",
   "main_language": "R",
   "notebook_metadata_filter": "-all"
  },
  "kernelspec": {
   "display_name": "PP1",
   "language": "R",
   "name": "pp1"
  },
  "language_info": {
   "codemirror_mode": "r",
   "file_extension": ".r",
   "mimetype": "text/x-r-source",
   "name": "R",
   "pygments_lexer": "r",
   "version": "4.2.2"
  }
 },
 "nbformat": 4,
 "nbformat_minor": 4
}
